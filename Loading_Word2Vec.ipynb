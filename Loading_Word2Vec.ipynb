{
 "cells": [
  {
   "cell_type": "code",
   "execution_count": 25,
   "metadata": {
    "collapsed": false
   },
   "outputs": [],
   "source": [
    "import gensim\n",
    "import numpy as np\n",
    "import pickle\n",
    "import matplotlib.pyplot as plt\n",
    "%matplotlib inline"
   ]
  },
  {
   "cell_type": "code",
   "execution_count": 26,
   "metadata": {
    "collapsed": false
   },
   "outputs": [],
   "source": [
    "# Load the model\n",
    "model = gensim.models.KeyedVectors.load_word2vec_format('Data/Embeddings/Full/GoogleNews-vectors-negative300.bin', binary=True)"
   ]
  },
  {
   "cell_type": "code",
   "execution_count": 101,
   "metadata": {
    "collapsed": false
   },
   "outputs": [],
   "source": [
    "# Get an array of CIFAR Labels\n",
    "infile = open(\"Data/Labels/CIFAR_100_labels.txt\", \"r\")\n",
    "words = []\n",
    "for line in infile:\n",
    "    row = line.rstrip().rstrip(',').split(', ')\n",
    "    for word in row:\n",
    "        words.append(word)\n",
    "infile.close()\n",
    "words = sorted(words)"
   ]
  },
  {
   "cell_type": "code",
   "execution_count": 111,
   "metadata": {
    "collapsed": false
   },
   "outputs": [],
   "source": [
    "# Word to Embedding Dictionary\n",
    "words_to_embeddings = {}\n",
    "for word in words:\n",
    "    if word == 'aquarium fish':\n",
    "        words_to_embeddings[word] = (model['aquarium'] + model['fish']) / 2\n",
    "    else:\n",
    "        words_to_embeddings[word] = model[word]\n",
    "        \n",
    "# Label Number to Words and Label Number to Embedding Dictionaries\n",
    "labels_to_words = {}\n",
    "labels_to_embeddings = {}\n",
    "for i in range(100):\n",
    "    labels_to_words[i] = words[i]\n",
    "    labels_to_embeddings[i] = words_to_embeddings[words[i]]\n",
    "\n",
    "# Save the files\n",
    "pickle.dump(words_to_embeddings, open(\"Data/Embeddings/CIFAR/CIFAR_100_word_to_embedding_google_news.pk\", \"wb\"))\n",
    "pickle.dump(labels_to_words, open(\"Data/Embeddings/CIFAR/CIFAR_100_label_to_word_google_news.pk\", \"wb\"))\n",
    "pickle.dump(labels_to_embeddings, open(\"Data/Embeddings/CIFAR/CIFAR_100_label_to_embedding_google_news.pk\", \"wb\"))\n",
    "        "
   ]
  },
  {
   "cell_type": "code",
   "execution_count": 42,
   "metadata": {
    "collapsed": true
   },
   "outputs": [],
   "source": []
  },
  {
   "cell_type": "code",
   "execution_count": 53,
   "metadata": {
    "collapsed": true
   },
   "outputs": [],
   "source": []
  },
  {
   "cell_type": "code",
   "execution_count": null,
   "metadata": {
    "collapsed": true
   },
   "outputs": [],
   "source": []
  }
 ],
 "metadata": {
  "anaconda-cloud": {},
  "kernelspec": {
   "display_name": "Python [Root]",
   "language": "python",
   "name": "Python [Root]"
  },
  "language_info": {
   "codemirror_mode": {
    "name": "ipython",
    "version": 2
   },
   "file_extension": ".py",
   "mimetype": "text/x-python",
   "name": "python",
   "nbconvert_exporter": "python",
   "pygments_lexer": "ipython2",
   "version": "2.7.12"
  }
 },
 "nbformat": 4,
 "nbformat_minor": 0
}
