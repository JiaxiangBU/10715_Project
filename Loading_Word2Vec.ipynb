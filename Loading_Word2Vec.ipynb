{
 "cells": [
  {
   "cell_type": "code",
   "execution_count": 127,
   "metadata": {
    "collapsed": true
   },
   "outputs": [],
   "source": [
    "import gensim\n",
    "import numpy as np\n",
    "import pickle"
   ]
  },
  {
   "cell_type": "code",
   "execution_count": 121,
   "metadata": {
    "collapsed": false
   },
   "outputs": [],
   "source": [
    "# Load the model\n",
    "model = gensim.models.KeyedVectors.load_word2vec_format('Data/Embeddings/Full/GoogleNews-vectors-negative300.bin', binary=True)"
   ]
  },
  {
   "cell_type": "code",
   "execution_count": 122,
   "metadata": {
    "collapsed": false
   },
   "outputs": [],
   "source": [
    "# Get an array of CIFAR Labels\n",
    "infile = open(\"Data/Labels/CIFAR_100_labels.txt\", \"r\")\n",
    "line = infile.readline()\n",
    "words = {}\n",
    "for line in infile:\n",
    "    row = line.rstrip().rstrip(',').split(', ')\n",
    "    for word in row:\n",
    "        words[word] = 0"
   ]
  },
  {
   "cell_type": "code",
   "execution_count": 125,
   "metadata": {
    "collapsed": false
   },
   "outputs": [],
   "source": [
    "# Gather the relevant words\n",
    "word_embeddings = {}\n",
    "for word in words:\n",
    "    if word == 'aquarium fish':\n",
    "        word = (model['aquarium'] + model['fish']) / 2\n",
    "    else:\n",
    "        word_embeddings[word] = model[word]"
   ]
  },
  {
   "cell_type": "code",
   "execution_count": 134,
   "metadata": {
    "collapsed": false
   },
   "outputs": [],
   "source": [
    "# Save the file\n",
    "pickle.dump(word_embeddings, open(\"Data/Embeddings/CIFAR/CIFAR_w2v_google.pk\", \"wb\"))"
   ]
  }
 ],
 "metadata": {
  "anaconda-cloud": {},
  "kernelspec": {
   "display_name": "Python [Root]",
   "language": "python",
   "name": "Python [Root]"
  },
  "language_info": {
   "codemirror_mode": {
    "name": "ipython",
    "version": 2
   },
   "file_extension": ".py",
   "mimetype": "text/x-python",
   "name": "python",
   "nbconvert_exporter": "python",
   "pygments_lexer": "ipython2",
   "version": "2.7.12"
  }
 },
 "nbformat": 4,
 "nbformat_minor": 0
}
