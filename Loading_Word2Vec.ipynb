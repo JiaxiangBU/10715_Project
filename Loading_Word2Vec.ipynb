{
 "cells": [
  {
   "cell_type": "markdown",
   "metadata": {},
   "source": [
    "## Google News"
   ]
  },
  {
   "cell_type": "code",
   "execution_count": 20,
   "metadata": {
    "collapsed": false
   },
   "outputs": [],
   "source": [
    "import gensim\n",
    "import numpy as np\n",
    "import pickle\n",
    "import matplotlib.pyplot as plt\n",
    "%matplotlib inline"
   ]
  },
  {
   "cell_type": "code",
   "execution_count": 26,
   "metadata": {
    "collapsed": false
   },
   "outputs": [],
   "source": [
    "# Load the model\n",
    "model = gensim.models.KeyedVectors.load_word2vec_format('Data/Embeddings/Full/GoogleNews-vectors-negative300.bin', binary=True)"
   ]
  },
  {
   "cell_type": "code",
   "execution_count": 21,
   "metadata": {
    "collapsed": false
   },
   "outputs": [],
   "source": [
    "# Get an array of CIFAR Labels\n",
    "infile = open(\"Data/Labels/CIFAR_100_labels.txt\", \"r\")\n",
    "words = []\n",
    "for line in infile:\n",
    "    row = line.rstrip().rstrip(',').split(', ')\n",
    "    for word in row:\n",
    "        words.append(word)\n",
    "infile.close()\n",
    "words = sorted(words)"
   ]
  },
  {
   "cell_type": "code",
   "execution_count": 22,
   "metadata": {
    "collapsed": false
   },
   "outputs": [
    {
     "ename": "NameError",
     "evalue": "name 'model' is not defined",
     "output_type": "error",
     "traceback": [
      "\u001b[0;31m---------------------------------------------------------------------------\u001b[0m",
      "\u001b[0;31mNameError\u001b[0m                                 Traceback (most recent call last)",
      "\u001b[0;32m<ipython-input-22-08d9ffe0ae20>\u001b[0m in \u001b[0;36m<module>\u001b[0;34m()\u001b[0m\n\u001b[1;32m      5\u001b[0m         \u001b[0mwords_to_embeddings\u001b[0m\u001b[0;34m[\u001b[0m\u001b[0mword\u001b[0m\u001b[0;34m]\u001b[0m \u001b[0;34m=\u001b[0m \u001b[0;34m(\u001b[0m\u001b[0mmodel\u001b[0m\u001b[0;34m[\u001b[0m\u001b[0;34m'aquarium'\u001b[0m\u001b[0;34m]\u001b[0m \u001b[0;34m+\u001b[0m \u001b[0mmodel\u001b[0m\u001b[0;34m[\u001b[0m\u001b[0;34m'fish'\u001b[0m\u001b[0;34m]\u001b[0m\u001b[0;34m)\u001b[0m \u001b[0;34m/\u001b[0m \u001b[0;36m2\u001b[0m\u001b[0;34m\u001b[0m\u001b[0m\n\u001b[1;32m      6\u001b[0m     \u001b[0;32melse\u001b[0m\u001b[0;34m:\u001b[0m\u001b[0;34m\u001b[0m\u001b[0m\n\u001b[0;32m----> 7\u001b[0;31m         \u001b[0mwords_to_embeddings\u001b[0m\u001b[0;34m[\u001b[0m\u001b[0mword\u001b[0m\u001b[0;34m]\u001b[0m \u001b[0;34m=\u001b[0m \u001b[0mmodel\u001b[0m\u001b[0;34m[\u001b[0m\u001b[0mword\u001b[0m\u001b[0;34m]\u001b[0m\u001b[0;34m\u001b[0m\u001b[0m\n\u001b[0m\u001b[1;32m      8\u001b[0m \u001b[0;34m\u001b[0m\u001b[0m\n\u001b[1;32m      9\u001b[0m \u001b[0;31m# Label Number to Words and Label Number to Embedding Dictionaries\u001b[0m\u001b[0;34m\u001b[0m\u001b[0;34m\u001b[0m\u001b[0m\n",
      "\u001b[0;31mNameError\u001b[0m: name 'model' is not defined"
     ]
    }
   ],
   "source": [
    "# Word to Embedding Dictionary\n",
    "words_to_embeddings = {}\n",
    "for word in words:\n",
    "    if word == 'aquarium fish':\n",
    "        words_to_embeddings[word] = (model['aquarium'] + model['fish']) / 2\n",
    "    else:\n",
    "        words_to_embeddings[word] = model[word]\n",
    "        \n",
    "# Label Number to Words and Label Number to Embedding Dictionaries\n",
    "labels_to_words = {}\n",
    "labels_to_embeddings = {}\n",
    "for i in range(100):\n",
    "    labels_to_words[i] = words[i]\n",
    "    labels_to_embeddings[i] = words_to_embeddings[words[i]]\n",
    "\n",
    "# Save the files\n",
    "pickle.dump(words_to_embeddings, open(\"Data/Embeddings/CIFAR/CIFAR_100_word_to_embedding_google_news.pk\", \"wb\"))\n",
    "pickle.dump(labels_to_words, open(\"Data/Embeddings/CIFAR/CIFAR_100_label_to_word_google_news.pk\", \"wb\"))\n",
    "pickle.dump(labels_to_embeddings, open(\"Data/Embeddings/CIFAR/CIFAR_100_label_to_embedding_google_news.pk\", \"wb\"))\n",
    "        "
   ]
  },
  {
   "cell_type": "markdown",
   "metadata": {
    "collapsed": true
   },
   "source": [
    "## Wordnet"
   ]
  },
  {
   "cell_type": "code",
   "execution_count": 44,
   "metadata": {
    "collapsed": true
   },
   "outputs": [],
   "source": [
    "# Get an array of CIFAR Labels\n",
    "infile = open(\"Data/Labels/CIFAR_100_labels_wordnet.txt\", \"r\")\n",
    "words = []\n",
    "for line in infile:\n",
    "    row = line.rstrip().rstrip(',').split(', ')\n",
    "    for word in row:\n",
    "        words.append(word)\n",
    "infile.close()\n",
    "words = sorted(words)"
   ]
  },
  {
   "cell_type": "code",
   "execution_count": 49,
   "metadata": {
    "collapsed": false
   },
   "outputs": [],
   "source": [
    "def read_embeddings_from_txt(filename, working_dict={}):\n",
    "    infile = open(filename, \"r\")\n",
    "    infile.readline()\n",
    "    embeddings = working_dict\n",
    "    for line in infile:\n",
    "        row = line.rstrip().split()\n",
    "        for word in row:\n",
    "            embeddings[row[0]] = np.array(row[1:]).astype(np.float32)\n",
    "    infile.close()\n",
    "    return embeddings\n",
    "\n",
    "def read_multiple(filenames):\n",
    "    embeddings = {}\n",
    "    for f in filenames:\n",
    "        embeddings = read_embeddings_from_txt(f, embeddings)\n",
    "    return embeddings\n"
   ]
  },
  {
   "cell_type": "code",
   "execution_count": 50,
   "metadata": {
    "collapsed": true
   },
   "outputs": [],
   "source": [
    "embeddings = read_embeddings_from_txt(\"Data/Embeddings/Full/wordnet/wordnet.100d/domain_topic.100d.txt\")\n",
    "embeddings = read_embeddings_from_txt(\"Data/Embeddings/Full/wordnet/wordnet.100d/hypernym_noun.100d.txt\", embeddings)\n",
    "embeddings = read_embeddings_from_txt(\"Data/Embeddings/Full/wordnet/wordnet.100d/hypernym_verb.100d.txt\", embeddings)\n",
    "embeddings = read_embeddings_from_txt(\"Data/Embeddings/Full/wordnet/wordnet.100d/member_holonyms.100d.txt\", embeddings)"
   ]
  },
  {
   "cell_type": "code",
   "execution_count": 51,
   "metadata": {
    "collapsed": false
   },
   "outputs": [],
   "source": [
    "# Word to Embedding Dictionary\n",
    "words_to_embeddings = {}\n",
    "for word in words:\n",
    "    if word == 'aquarium fish':\n",
    "        words_to_embeddings[word] = (embeddings['aquarium'] + embeddings['fish']) / 2\n",
    "    else:\n",
    "        words_to_embeddings[word] = embeddings[word]\n",
    "        \n",
    "# Label Number to Words and Label Number to Embedding Dictionaries\n",
    "labels_to_words = {}\n",
    "labels_to_embeddings = {}\n",
    "for i in range(100):\n",
    "    labels_to_words[i] = words[i]\n",
    "    labels_to_embeddings[i] = words_to_embeddings[words[i]]\n",
    "\n",
    "# Save the files\n",
    "pickle.dump(words_to_embeddings, open(\"Data/Embeddings/CIFAR/CIFAR_100_word_to_embedding_wordnet.pk\", \"wb\"))\n",
    "pickle.dump(labels_to_words, open(\"Data/Embeddings/CIFAR/CIFAR_100_label_to_word_wordnet.pk\", \"wb\"))\n",
    "pickle.dump(labels_to_embeddings, open(\"Data/Embeddings/CIFAR/CIFAR_100_label_to_embedding_wordnet.pk\", \"wb\"))\n",
    "        "
   ]
  },
  {
   "cell_type": "code",
   "execution_count": null,
   "metadata": {
    "collapsed": true
   },
   "outputs": [],
   "source": []
  }
 ],
 "metadata": {
  "anaconda-cloud": {},
  "kernelspec": {
   "display_name": "Python [Root]",
   "language": "python",
   "name": "Python [Root]"
  },
  "language_info": {
   "codemirror_mode": {
    "name": "ipython",
    "version": 2
   },
   "file_extension": ".py",
   "mimetype": "text/x-python",
   "name": "python",
   "nbconvert_exporter": "python",
   "pygments_lexer": "ipython2",
   "version": "2.7.12"
  }
 },
 "nbformat": 4,
 "nbformat_minor": 0
}
