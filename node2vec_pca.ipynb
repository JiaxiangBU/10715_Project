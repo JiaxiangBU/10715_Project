{
 "cells": [
  {
   "cell_type": "code",
   "execution_count": 1,
   "metadata": {},
   "outputs": [],
   "source": [
    "import pickle\n",
    "from sklearn.decomposition import PCA\n",
    "import matplotlib.pyplot as plt\n",
    "import numpy as np\n",
    "import os"
   ]
  },
  {
   "cell_type": "code",
   "execution_count": 2,
   "metadata": {},
   "outputs": [],
   "source": [
    "def load_embeddings(fname):   \n",
    "    file_path = os.path.join(os.getcwd(), 'wiki/%s.emb' % (fname))\n",
    "    \n",
    "    embeddings = {}\n",
    "    with open(file_path) as file:\n",
    "        for line in file:\n",
    "            line = line.strip().split()\n",
    "            if int(line[0]) >= 100:\n",
    "                continue\n",
    "            embeddings[int(line[0])] = np.array(line[1:]).astype(float)\n",
    "\n",
    "    return embeddings\n",
    "\n",
    "label_embeddings = load_embeddings('link_edges')"
   ]
  },
  {
   "cell_type": "code",
   "execution_count": 4,
   "metadata": {},
   "outputs": [
    {
     "data": {
      "text/plain": [
       "dict"
      ]
     },
     "execution_count": 4,
     "metadata": {},
     "output_type": "execute_result"
    }
   ],
   "source": [
    "label_embeddings.__class__"
   ]
  },
  {
   "cell_type": "code",
   "execution_count": 7,
   "metadata": {},
   "outputs": [
    {
     "data": {
      "text/plain": [
       "[(78, array([ 1.34968e+00, -2.02878e+00,  6.38512e-02,  8.50573e-01,\n",
       "         -1.68948e+00,  5.97766e-02, -3.55886e-01,  1.12431e+00,\n",
       "          9.07972e-01, -1.84144e-02, -5.47836e-01, -3.56334e-02,\n",
       "          5.88858e-01,  6.02105e-01, -5.49356e-01,  1.10482e+00,\n",
       "         -9.97546e-01, -1.27713e-01, -1.07877e-01,  4.13097e-01,\n",
       "         -1.29348e+00,  1.88687e-01,  9.03298e-01, -3.61067e-01,\n",
       "          3.25926e-01, -1.70512e-01, -2.15499e-01,  6.35694e-01,\n",
       "         -4.34850e-02, -1.91105e-02, -7.02124e-01, -1.43362e-01,\n",
       "         -5.05997e-01, -7.45412e-02,  3.20215e-01,  3.23739e-01,\n",
       "          2.47753e-01,  2.22469e-01,  3.39322e-01, -6.52166e-02,\n",
       "         -1.10864e-01, -4.16758e-02, -1.53776e-01, -1.18485e-02,\n",
       "          2.00408e-01, -2.53434e-01, -1.49199e-01,  8.26250e-02,\n",
       "          1.49735e-01,  3.66212e-02,  1.67517e-01, -3.10118e-01,\n",
       "         -2.32814e-01,  1.40992e-01, -4.89413e-02, -6.44587e-02,\n",
       "         -2.37489e-01,  9.65620e-02, -1.80366e-01,  2.95113e-02,\n",
       "         -1.85130e-01, -2.27465e-02, -3.55033e-01,  2.24440e-01,\n",
       "          9.84533e-02,  1.15462e-01,  1.17777e-02,  3.00665e-02,\n",
       "         -6.19333e-02,  1.55461e-01, -1.52665e-01, -7.04487e-02,\n",
       "          3.47351e-02, -2.62193e-01,  1.35773e-01, -4.95114e-02,\n",
       "         -1.83189e-01,  5.55045e-02, -3.12467e-02, -1.55901e-01,\n",
       "         -3.59646e-03,  5.69814e-02, -3.63755e-02, -5.03565e-02,\n",
       "         -1.36923e-01,  1.67962e-01, -1.53214e-03, -1.74498e-01,\n",
       "         -1.06674e-01, -6.79928e-02, -1.21702e-01, -5.64481e-02,\n",
       "          1.62099e-01,  9.34327e-02, -6.55146e-02,  1.37052e-01,\n",
       "         -1.07273e-01, -8.61446e-02, -6.70852e-02, -1.25067e-01,\n",
       "         -1.61946e-01, -1.03234e-01,  2.04783e-02, -8.46005e-02,\n",
       "          1.45760e-01,  4.47526e-02, -8.12067e-02,  1.36052e-02,\n",
       "         -3.87770e-02,  1.17601e-01,  1.02646e-02,  1.38779e-01,\n",
       "          5.32049e-02,  2.22850e-01, -1.36161e-01, -5.34578e-02,\n",
       "         -1.79023e-01, -1.01629e-02,  2.52011e-02,  6.30323e-02,\n",
       "         -2.44977e-02, -1.27482e-01,  7.67875e-03,  1.17023e-01,\n",
       "         -7.75695e-02, -4.55878e-03, -2.93617e-02, -2.29102e-01]))]"
      ]
     },
     "execution_count": 7,
     "metadata": {},
     "output_type": "execute_result"
    }
   ],
   "source": [
    "list(label_embeddings.items())[0:1]"
   ]
  },
  {
   "cell_type": "code",
   "execution_count": 8,
   "metadata": {},
   "outputs": [],
   "source": [
    "cat_dict = pickle.load(open(os.path.join(os.getcwd(), 'wiki/link_edges_dict_cat.pkl'), \"rb\"))\n",
    "graph_to_cifar_dict = pickle.load(open(os.path.join(os.getcwd(), 'wiki/graph_to_cifar_labels.pkl'), \"rb\"))\n",
    "\n",
    "data_dir = os.path.join(os.getcwd(), 'Data/cifar-100-python/')\n",
    "meta = pickle.load(open(os.path.join(data_dir, 'meta'), \"rb\"), encoding='latin1')\n",
    "fine_label_names = meta['fine_label_names']\n",
    "\n",
    "#Loading data and embeddings\n",
    "embedding_len = len(label_embeddings[0])\n",
    "\n",
    "label_embeddings_arr = np.zeros((100, embedding_len))\n",
    "for i in range(100):\n",
    "    label_embeddings_arr[i] = label_embeddings[i]"
   ]
  },
  {
   "cell_type": "code",
   "execution_count": 14,
   "metadata": {},
   "outputs": [
    {
     "name": "stdout",
     "output_type": "stream",
     "text": [
      "<class 'numpy.ndarray'>\n",
      "(100, 128)\n",
      "<class 'list'>\n",
      "100\n"
     ]
    }
   ],
   "source": [
    "print(label_embeddings_arr.__class__)\n",
    "print(label_embeddings_arr.shape)\n",
    "print(fine_label_names.__class__)\n",
    "print(len(fine_label_names))"
   ]
  },
  {
   "cell_type": "code",
   "execution_count": 15,
   "metadata": {},
   "outputs": [
    {
     "name": "stdout",
     "output_type": "stream",
     "text": [
      "[0.34326538 0.14231831]\n"
     ]
    }
   ],
   "source": [
    "labels = fine_label_names\n",
    "X = label_embeddings_arr\n",
    "pca = PCA(n_components=2)\n",
    "X_r = pca.fit(X).transform(X)\n",
    "pca_embeddings = {}\n",
    "for i, label in enumerate(labels):\n",
    "    pca_embeddings[label] = X_r[i, :]\n",
    "print(pca.explained_variance_)"
   ]
  },
  {
   "cell_type": "code",
   "execution_count": 17,
   "metadata": {},
   "outputs": [
    {
     "name": "stdout",
     "output_type": "stream",
     "text": [
      "['apple', 'aquarium_fish', 'baby', 'bear', 'beaver', 'bed', 'bee', 'beetle', 'bicycle', 'bottle', 'bowl', 'boy', 'bridge', 'bus', 'butterfly', 'camel', 'can', 'castle', 'caterpillar', 'cattle', 'chair', 'chimpanzee', 'clock', 'cloud', 'cockroach', 'couch', 'crab', 'crocodile', 'cup', 'dinosaur', 'dolphin', 'elephant', 'flatfish', 'forest', 'fox', 'girl', 'hamster', 'house', 'kangaroo', 'keyboard', 'lamp', 'lawn_mower', 'leopard', 'lion', 'lizard', 'lobster', 'man', 'maple_tree', 'motorcycle', 'mountain', 'mouse', 'mushroom', 'oak_tree', 'orange', 'orchid', 'otter', 'palm_tree', 'pear', 'pickup_truck', 'pine_tree', 'plain', 'plate', 'poppy', 'porcupine', 'possum', 'rabbit', 'raccoon', 'ray', 'road', 'rocket', 'rose', 'sea', 'seal', 'shark', 'shrew', 'skunk', 'skyscraper', 'snail', 'snake', 'spider', 'squirrel', 'streetcar', 'sunflower', 'sweet_pepper', 'table', 'tank', 'telephone', 'television', 'tiger', 'tractor', 'train', 'trout', 'tulip', 'turtle', 'wardrobe', 'whale', 'willow_tree', 'wolf', 'woman', 'worm']\n"
     ]
    }
   ],
   "source": [
    "print(fine_label_names)"
   ]
  },
  {
   "cell_type": "code",
   "execution_count": 18,
   "metadata": {},
   "outputs": [],
   "source": [
    "superclasses = {\n",
    "    \"aquatic mammals\":[\"beaver\", \"dolphin\", \"otter\", \"seal\", \"whale\"],\n",
    "    \"fish\": [\"aquarium_fish\", \"flatfish\", \"ray\", \"shark\", \"trout\"],\n",
    "    \"flowers\": [\"orchid\", \"poppy\", \"rose\", \"sunflower\", \"tulip\"],\n",
    "    \"food containers\": [\"bottle\", \"bowl\", \"can\", \"cup\", \"plate\"],\n",
    "    \"fruit and vegetables\": [\"apple\", \"mushroom\", \"orange\", \"pear\", \"sweet_pepper\"],\n",
    "    \"household electrical devices\": [\"clock\", \"keyboard\", \"lamp\", \"telephone\", \"television\"],\n",
    "    \"household furniture\": [\"bed\", \"chair\", \"couch\", \"table\", \"wardrobe\"],\n",
    "    \"insects\": [\"bee\", \"beetle\", \"butterfly\", \"caterpillar\", \"cockroach\"],\n",
    "    \"large carnivores\": [\"bear\", \"leopard\", \"lion\", \"tiger\", \"wolf\"],\n",
    "    \"large man-made outdoor things\": [\"bridge\", \"castle\", \"house\", \"road\", \"skyscraper\"],\n",
    "    \"large natural outdoor scenes\": [\"cloud\", \"forest\", \"mountain\", \"plain\", \"sea\"],\n",
    "    \"large omnivores and herbivores\": [\"camel\", \"cattle\", \"chimpanzee\", \"elephant\", \"kangaroo\"],\n",
    "    \"medium-sized mammals\": [\"fox\", \"porcupine\", \"possum\", \"raccoon\", \"skunk\"],\n",
    "    \"non-insect invertebrates\": [\"crab\", \"lobster\", \"snail\", \"spider\", \"worm\"],\n",
    "    \"people\": [\"baby\", \"boy\", \"girl\", \"man\", \"woman\"],\n",
    "    \"reptiles\": [\"crocodile\", \"dinosaur\", \"lizard\", \"snake\", \"turtle\"],\n",
    "    \"small mammals\": [\"hamster\", \"mouse\", \"rabbit\", \"shrew\", \"squirrel\"],\n",
    "    \"trees\": [\"maple_tree\", \"oak_tree\", \"palm_tree\", \"pine_tree\", \"willow_tree\"],\n",
    "    \"vehicles 1\": [\"bicycle\", \"bus\", \"motorcycle\", \"pickup_truck\", \"train\"],\n",
    "    \"vehicles 2\": [\"lawn_mower\", \"rocket\", \"streetcar\", \"tank\", \"tractor\"]\n",
    "}\n",
    "super_class_labels = []\n",
    "sc_data = {}\n",
    "for superclass in superclasses.keys():\n",
    "    sc_data[superclass] = []\n",
    "    for label in superclasses[superclass]:\n",
    "        sc_data[superclass].append(pca_embeddings[label])"
   ]
  },
  {
   "cell_type": "code",
   "execution_count": 19,
   "metadata": {},
   "outputs": [],
   "source": [
    "to_include = [\n",
    "         #'aquatic mammals', \n",
    "           #'fish', \n",
    "           #'flowers', \n",
    "           'food containers', \n",
    "           #'fruit and vegetables', \n",
    "           #'household electrical devices', \n",
    "           #'household furniture', \n",
    "           #'insects', \n",
    "           'large carnivores', \n",
    "           #'large man-made outdoor things', \n",
    "           #'large natural outdoor scenes', \n",
    "           #'large omnivores and herbivores', \n",
    "           'medium-sized mammals', \n",
    "           #'non-insect invertebrates', \n",
    "           #'people', \n",
    "           'reptiles', \n",
    "           'small mammals', \n",
    "           'trees', \n",
    "           'vehicles 1', \n",
    "           'vehicles 2'\n",
    "          ]"
   ]
  },
  {
   "cell_type": "code",
   "execution_count": 20,
   "metadata": {},
   "outputs": [
    {
     "data": {
      "image/png": "[encoded data removed]",
      "text/plain": [
       "<Figure size 432x288 with 1 Axes>"
      ]
     },
     "metadata": {
      "needs_background": "light"
     },
     "output_type": "display_data"
    }
   ],
   "source": [
    "#print(sc_data)\n",
    "# Create plot\n",
    "fig = plt.figure()\n",
    "ax = fig.add_subplot(1, 1, 1, facecolor=\"1.0\")\n",
    "for sc in sc_data:\n",
    "    if not sc in to_include:\n",
    "        continue\n",
    "    sc_data[sc] = np.array(sc_data[sc])\n",
    "    x = sc_data[sc][:, 0]\n",
    "    y = sc_data[sc][:, 1]\n",
    "    ax.scatter(x, y, alpha=0.8, edgecolors='none', s=30, label=sc)\n",
    " \n",
    "plt.title('Node2Vec PCA Visualization')\n",
    "plt.legend(loc=9, bbox_to_anchor=(1.3, 1.0))\n",
    "plt.show()"
   ]
  },
  {
   "cell_type": "code",
   "execution_count": 21,
   "metadata": {},
   "outputs": [
    {
     "name": "stdout",
     "output_type": "stream",
     "text": [
      "dict_keys(['aquatic mammals', 'fish', 'flowers', 'food containers', 'fruit and vegetables', 'household electrical devices', 'household furniture', 'insects', 'large carnivores', 'large man-made outdoor things', 'large natural outdoor scenes', 'large omnivores and herbivores', 'medium-sized mammals', 'non-insect invertebrates', 'people', 'reptiles', 'small mammals', 'trees', 'vehicles 1', 'vehicles 2'])\n"
     ]
    }
   ],
   "source": [
    "print(sc_data.keys())"
   ]
  }
 ],
 "metadata": {
  "kernelspec": {
   "display_name": "Python 3",
   "language": "python",
   "name": "python3"
  },
  "language_info": {
   "codemirror_mode": {
    "name": "ipython",
    "version": 3
   },
   "file_extension": ".py",
   "mimetype": "text/x-python",
   "name": "python",
   "nbconvert_exporter": "python",
   "pygments_lexer": "ipython3",
   "version": "3.7.3"
  }
 },
 "nbformat": 4,
 "nbformat_minor": 2
}
