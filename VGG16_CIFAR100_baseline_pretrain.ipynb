{
 "cells": [
  {
   "cell_type": "code",
   "execution_count": 1,
   "metadata": {},
   "outputs": [
    {
     "name": "stderr",
     "output_type": "stream",
     "text": [
      "Using TensorFlow backend.\n"
     ]
    }
   ],
   "source": [
    "# Load pretrained model, and generate new transformed dataset by passing images through pretrained model \n",
    "import os\n",
    "import numpy as np\n",
    "from keras.preprocessing.image import ImageDataGenerator\n",
    "from keras.applications import VGG16\n",
    "from keras.datasets import cifar100\n",
    "from keras.models import Sequential, Model, load_model\n",
    "from keras.layers import Dense, Dropout, Activation, Flatten, BatchNormalization\n",
    "from keras.callbacks import ModelCheckpoint, EarlyStopping\n",
    "from keras.utils import to_categorical"
   ]
  },
  {
   "cell_type": "code",
   "execution_count": 2,
   "metadata": {},
   "outputs": [],
   "source": [
    "num_classes = 100\n",
    "batch_size = 32\n",
    "epochs = 50"
   ]
  },
  {
   "cell_type": "code",
   "execution_count": 3,
   "metadata": {},
   "outputs": [],
   "source": [
    "x_train = np.load(\"vgg_16/train_x.npy\")\n",
    "y_train = np.load(\"vgg_16/train_y.npy\")\n",
    "x_test = np.load(\"vgg_16/test_x.npy\")\n",
    "y_test = np.load(\"vgg_16/test_y.npy\")\n",
    "\n",
    "y_train = to_categorical(y_train, num_classes)\n",
    "y_test = to_categorical(y_test, num_classes)"
   ]
  },
  {
   "cell_type": "code",
   "execution_count": 4,
   "metadata": {},
   "outputs": [],
   "source": [
    "top_model = Sequential()\n",
    "\n",
    "top_model.add(Flatten(input_shape=x_train[0].shape))\n",
    "\n",
    "top_model.add(Dense(256, activation='relu'))\n",
    "# top_model.add(BatchNormalization())\n",
    "top_model.add(Dense(256, activation='relu'))\n",
    "# top_model.add(BatchNormalization())\n",
    "top_model.add(Dense(100, activation='softmax'))\n",
    "for layer in top_model.layers:\n",
    "    layer.trainable = True \n",
    "\n",
    "top_model.compile(optimizer='adam', loss='categorical_crossentropy', metrics=['accuracy'])"
   ]
  },
  {
   "cell_type": "code",
   "execution_count": 5,
   "metadata": {
    "scrolled": true
   },
   "outputs": [
    {
     "name": "stdout",
     "output_type": "stream",
     "text": [
      "Train on 50000 samples, validate on 10000 samples\n",
      "Epoch 1/50\n",
      "50000/50000 [==============================] - 7s 147us/step - loss: 3.2650 - acc: 0.2135 - val_loss: 2.9333 - val_acc: 0.2747\n",
      "Epoch 2/50\n",
      "50000/50000 [==============================] - 7s 131us/step - loss: 2.8372 - acc: 0.2871 - val_loss: 2.8392 - val_acc: 0.2933\n",
      "Epoch 3/50\n",
      "50000/50000 [==============================] - 7s 132us/step - loss: 2.6974 - acc: 0.3148 - val_loss: 2.8629 - val_acc: 0.2929\n",
      "Epoch 4/50\n",
      "50000/50000 [==============================] - 7s 132us/step - loss: 2.5892 - acc: 0.3366 - val_loss: 2.8090 - val_acc: 0.3030\n",
      "Epoch 5/50\n",
      "50000/50000 [==============================] - 7s 132us/step - loss: 2.5079 - acc: 0.3547 - val_loss: 2.8311 - val_acc: 0.3120\n",
      "Epoch 6/50\n",
      "50000/50000 [==============================] - 7s 132us/step - loss: 2.4400 - acc: 0.3656 - val_loss: 2.8103 - val_acc: 0.3122\n",
      "Epoch 7/50\n",
      "50000/50000 [==============================] - 7s 132us/step - loss: 2.3710 - acc: 0.3793 - val_loss: 2.8748 - val_acc: 0.3092\n",
      "Epoch 8/50\n",
      "50000/50000 [==============================] - 7s 132us/step - loss: 2.3206 - acc: 0.3898 - val_loss: 2.8730 - val_acc: 0.3124\n",
      "Epoch 9/50\n",
      "50000/50000 [==============================] - 7s 132us/step - loss: 2.2688 - acc: 0.3999 - val_loss: 2.9273 - val_acc: 0.3070\n",
      "Epoch 10/50\n",
      "50000/50000 [==============================] - 7s 132us/step - loss: 2.2224 - acc: 0.4117 - val_loss: 2.9509 - val_acc: 0.3094\n",
      "Epoch 11/50\n",
      "50000/50000 [==============================] - 7s 132us/step - loss: 2.1825 - acc: 0.4176 - val_loss: 2.9852 - val_acc: 0.3133\n",
      "Epoch 12/50\n",
      "50000/50000 [==============================] - 7s 132us/step - loss: 2.1488 - acc: 0.4251 - val_loss: 3.0631 - val_acc: 0.3107\n",
      "Epoch 13/50\n",
      "50000/50000 [==============================] - 7s 133us/step - loss: 2.1090 - acc: 0.4320 - val_loss: 3.0521 - val_acc: 0.3088\n",
      "Epoch 14/50\n",
      "50000/50000 [==============================] - 7s 132us/step - loss: 2.0683 - acc: 0.4438 - val_loss: 3.1402 - val_acc: 0.3021\n",
      "Epoch 15/50\n",
      "50000/50000 [==============================] - 7s 132us/step - loss: 2.0442 - acc: 0.4465 - val_loss: 3.1688 - val_acc: 0.3022\n",
      "Epoch 16/50\n",
      "50000/50000 [==============================] - 7s 133us/step - loss: 2.0134 - acc: 0.4561 - val_loss: 3.1747 - val_acc: 0.3039\n",
      "Epoch 17/50\n",
      "50000/50000 [==============================] - 7s 133us/step - loss: 1.9879 - acc: 0.4626 - val_loss: 3.2416 - val_acc: 0.2966\n",
      "Epoch 18/50\n",
      "50000/50000 [==============================] - 7s 131us/step - loss: 1.9622 - acc: 0.4655 - val_loss: 3.3078 - val_acc: 0.3023\n",
      "Epoch 19/50\n",
      "50000/50000 [==============================] - 7s 132us/step - loss: 1.9387 - acc: 0.4714 - val_loss: 3.3506 - val_acc: 0.3042\n",
      "Epoch 20/50\n",
      "50000/50000 [==============================] - 7s 131us/step - loss: 1.9162 - acc: 0.4765 - val_loss: 3.4211 - val_acc: 0.2875\n",
      "Epoch 21/50\n",
      "50000/50000 [==============================] - 7s 132us/step - loss: 1.8951 - acc: 0.4797 - val_loss: 3.4926 - val_acc: 0.2985\n",
      "Epoch 22/50\n",
      "50000/50000 [==============================] - 7s 133us/step - loss: 1.8810 - acc: 0.4840 - val_loss: 3.4548 - val_acc: 0.2918\n",
      "Epoch 23/50\n",
      "50000/50000 [==============================] - 7s 131us/step - loss: 1.8617 - acc: 0.4886 - val_loss: 3.5840 - val_acc: 0.2971\n",
      "Epoch 24/50\n",
      "50000/50000 [==============================] - 7s 133us/step - loss: 1.8438 - acc: 0.4935 - val_loss: 3.5797 - val_acc: 0.2969\n",
      "Epoch 25/50\n",
      "50000/50000 [==============================] - 7s 132us/step - loss: 1.8203 - acc: 0.4971 - val_loss: 3.6091 - val_acc: 0.2956\n",
      "Epoch 26/50\n",
      "50000/50000 [==============================] - 7s 133us/step - loss: 1.8059 - acc: 0.5016 - val_loss: 3.7337 - val_acc: 0.2975\n",
      "Epoch 27/50\n",
      "50000/50000 [==============================] - 7s 133us/step - loss: 1.7912 - acc: 0.5063 - val_loss: 3.6836 - val_acc: 0.2891\n",
      "Epoch 28/50\n",
      "50000/50000 [==============================] - 7s 133us/step - loss: 1.7884 - acc: 0.5044 - val_loss: 3.7921 - val_acc: 0.2948\n",
      "Epoch 29/50\n",
      "50000/50000 [==============================] - 7s 133us/step - loss: 1.7652 - acc: 0.5117 - val_loss: 3.8486 - val_acc: 0.2868\n",
      "Epoch 30/50\n",
      "50000/50000 [==============================] - 7s 133us/step - loss: 1.7540 - acc: 0.5146 - val_loss: 3.8131 - val_acc: 0.2873\n",
      "Epoch 31/50\n",
      "50000/50000 [==============================] - 7s 133us/step - loss: 1.7387 - acc: 0.5182 - val_loss: 3.8786 - val_acc: 0.2799\n",
      "Epoch 32/50\n",
      "50000/50000 [==============================] - 7s 133us/step - loss: 1.7368 - acc: 0.5172 - val_loss: 4.0305 - val_acc: 0.2900\n",
      "Epoch 33/50\n",
      "50000/50000 [==============================] - 7s 133us/step - loss: 1.7245 - acc: 0.5198 - val_loss: 4.0243 - val_acc: 0.2873\n",
      "Epoch 34/50\n",
      "50000/50000 [==============================] - 7s 133us/step - loss: 1.6982 - acc: 0.5277 - val_loss: 3.9456 - val_acc: 0.2768\n",
      "Epoch 35/50\n",
      "50000/50000 [==============================] - 7s 132us/step - loss: 1.7069 - acc: 0.5264 - val_loss: 4.0745 - val_acc: 0.2813\n",
      "Epoch 36/50\n",
      "50000/50000 [==============================] - 7s 133us/step - loss: 1.6900 - acc: 0.5303 - val_loss: 4.0812 - val_acc: 0.2826\n",
      "Epoch 37/50\n",
      "50000/50000 [==============================] - 7s 134us/step - loss: 1.6818 - acc: 0.5317 - val_loss: 4.1921 - val_acc: 0.2821\n",
      "Epoch 38/50\n",
      "50000/50000 [==============================] - 7s 133us/step - loss: 1.6695 - acc: 0.5337 - val_loss: 4.1661 - val_acc: 0.2888\n",
      "Epoch 39/50\n",
      "50000/50000 [==============================] - 7s 133us/step - loss: 1.6623 - acc: 0.5354 - val_loss: 4.3086 - val_acc: 0.2830\n",
      "Epoch 40/50\n",
      "50000/50000 [==============================] - 7s 132us/step - loss: 1.6484 - acc: 0.5424 - val_loss: 4.2366 - val_acc: 0.2839\n",
      "Epoch 41/50\n",
      "50000/50000 [==============================] - 7s 132us/step - loss: 1.6460 - acc: 0.5390 - val_loss: 4.3145 - val_acc: 0.2760\n",
      "Epoch 42/50\n",
      "50000/50000 [==============================] - 7s 134us/step - loss: 1.6477 - acc: 0.5391 - val_loss: 4.3249 - val_acc: 0.2815\n",
      "Epoch 43/50\n",
      "50000/50000 [==============================] - 7s 133us/step - loss: 1.6344 - acc: 0.5440 - val_loss: 4.4407 - val_acc: 0.2771\n",
      "Epoch 44/50\n",
      "50000/50000 [==============================] - 7s 133us/step - loss: 1.6220 - acc: 0.5455 - val_loss: 4.4199 - val_acc: 0.2851\n",
      "Epoch 45/50\n",
      "50000/50000 [==============================] - 7s 133us/step - loss: 1.6234 - acc: 0.5471 - val_loss: 4.4657 - val_acc: 0.2772\n",
      "Epoch 46/50\n",
      "50000/50000 [==============================] - 7s 133us/step - loss: 1.6144 - acc: 0.5489 - val_loss: 4.4041 - val_acc: 0.2777\n",
      "Epoch 47/50\n",
      "50000/50000 [==============================] - 7s 135us/step - loss: 1.6053 - acc: 0.5513 - val_loss: 4.4347 - val_acc: 0.2785\n",
      "Epoch 48/50\n",
      "50000/50000 [==============================] - 7s 134us/step - loss: 1.5894 - acc: 0.5550 - val_loss: 4.5468 - val_acc: 0.2772\n",
      "Epoch 49/50\n",
      "50000/50000 [==============================] - 7s 132us/step - loss: 1.5974 - acc: 0.5533 - val_loss: 4.5934 - val_acc: 0.2753\n",
      "Epoch 50/50\n",
      "50000/50000 [==============================] - 7s 132us/step - loss: 1.5923 - acc: 0.5552 - val_loss: 4.6566 - val_acc: 0.2799\n"
     ]
    },
    {
     "data": {
      "text/plain": [
       "<keras.callbacks.History at 0x7f2c1fe64a90>"
      ]
     },
     "execution_count": 5,
     "metadata": {},
     "output_type": "execute_result"
    }
   ],
   "source": [
    "top_model.fit(x=x_train, y=y_train,\n",
    "              batch_size=batch_size, epochs=epochs, \n",
    "              validation_data=(x_test, y_test))"
   ]
  }
 ],
 "metadata": {
  "kernelspec": {
   "display_name": "Python 3",
   "language": "python",
   "name": "python3"
  },
  "language_info": {
   "codemirror_mode": {
    "name": "ipython",
    "version": 3
   },
   "file_extension": ".py",
   "mimetype": "text/x-python",
   "name": "python",
   "nbconvert_exporter": "python",
   "pygments_lexer": "ipython3",
   "version": "3.5.2"
  }
 },
 "nbformat": 4,
 "nbformat_minor": 2
}
