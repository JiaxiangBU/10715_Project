{
 "cells": [
  {
   "cell_type": "code",
   "execution_count": 14,
   "metadata": {},
   "outputs": [],
   "source": [
    "import os\n",
    "import numpy as np\n",
    "import pandas as pd\n",
    "import pickle\n",
    "from sklearn.preprocessing import LabelEncoder "
   ]
  },
  {
   "cell_type": "code",
   "execution_count": 15,
   "metadata": {},
   "outputs": [],
   "source": [
    "data_dir = os.path.join(os.getcwd(), 'wiki/')"
   ]
  },
  {
   "cell_type": "code",
   "execution_count": 16,
   "metadata": {},
   "outputs": [],
   "source": [
    "def load_graph(fname, data_dir=data_dir):\n",
    "    graph = []\n",
    "    \n",
    "    file_path = os.path.join(data_dir, '%s.txt' % (fname))\n",
    "    with open(file_path) as file:\n",
    "        for line in file:\n",
    "            line = line.strip().split('\\t')\n",
    "            graph.append(np.array([line[0], line[1]]))\n",
    "\n",
    "    return np.array(graph)"
   ]
  },
  {
   "cell_type": "code",
   "execution_count": 17,
   "metadata": {},
   "outputs": [],
   "source": [
    "def convert_graph(fname):\n",
    "    graph = load_graph(fname)\n",
    "    df_graph = pd.DataFrame(graph, columns=['cat', 'edge'])\n",
    "    \n",
    "    lb = LabelEncoder()\n",
    "    df_graph['cat_int'] = lb.fit_transform(graph[:, 0])\n",
    "    df_graph['edge_int'] = lb.fit_transform(graph[:, 1])\n",
    "    \n",
    "    df_graph[['cat_int', 'edge_int']].to_csv(os.path.join(data_dir, '%s.edgelist' % (fname)), header=False, index=False, sep=' ')\n",
    "    \n",
    "    int_to_cat = df_graph[['cat','cat_int']].drop_duplicates().set_index('cat_int').to_dict()['cat']\n",
    "    int_to_edge = df_graph[['edge','edge_int']].drop_duplicates().set_index('edge_int').to_dict()['edge']\n",
    "\n",
    "    pickle.dump(int_to_cat, open(os.path.join(data_dir, '%s_dict_cat.pk' % (fname)), \"wb\"))\n",
    "    pickle.dump(int_to_edge, open(os.path.join(data_dir, '%s_dict_edge.pk' % (fname)), \"wb\"))\n",
    "    \n",
    "    return df_graph, int_to_cat, int_to_edge"
   ]
  },
  {
   "cell_type": "code",
   "execution_count": 19,
   "metadata": {},
   "outputs": [],
   "source": [
    "fnames = ['cat_edges1', 'cat_edges_2', 'link_edges']\n",
    "for fname in fnames:\n",
    "    df_graph, int_to_cat, int_to_edge = convert_graph(fname)"
   ]
  }
 ],
 "metadata": {
  "kernelspec": {
   "display_name": "Python 3",
   "language": "python",
   "name": "python3"
  },
  "language_info": {
   "codemirror_mode": {
    "name": "ipython",
    "version": 3
   },
   "file_extension": ".py",
   "mimetype": "text/x-python",
   "name": "python",
   "nbconvert_exporter": "python",
   "pygments_lexer": "ipython3",
   "version": "3.5.2"
  }
 },
 "nbformat": 4,
 "nbformat_minor": 2
}
