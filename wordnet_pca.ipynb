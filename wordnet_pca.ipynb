{
 "cells": [
  {
   "cell_type": "code",
   "execution_count": 7,
   "metadata": {
    "collapsed": true
   },
   "outputs": [],
   "source": [
    "import pickle\n",
    "from sklearn.decomposition import PCA\n",
    "import matplotlib.pyplot as plt\n",
    "import numpy as np"
   ]
  },
  {
   "cell_type": "code",
   "execution_count": 8,
   "metadata": {
    "collapsed": true
   },
   "outputs": [],
   "source": [
    "embeddings = pickle.load(open(\"Data/Embeddings/CIFAR/CIFAR_100_word_to_embedding_wordnet.pk\", 'rb'), encoding='latin1')"
   ]
  },
  {
   "cell_type": "code",
   "execution_count": 9,
   "metadata": {},
   "outputs": [
    {
     "name": "stdout",
     "output_type": "stream",
     "text": [
      "[ 0.28987625  0.07081436]\n"
     ]
    }
   ],
   "source": [
    "labels = embeddings.keys()\n",
    "X = np.array([embeddings[label] for label in labels])\n",
    "pca = PCA(n_components=2)\n",
    "X_r = pca.fit(X).transform(X)\n",
    "pca_embeddings = {}\n",
    "for i, label in enumerate(labels):\n",
    "    pca_embeddings[label] = X_r[i, :]\n",
    "    \n",
    "print(pca.explained_variance_)"
   ]
  },
  {
   "cell_type": "code",
   "execution_count": 10,
   "metadata": {
    "collapsed": true
   },
   "outputs": [],
   "source": [
    "superclasses = {\n",
    "    \"aquatic mammals\":[\"beaver\", \"dolphin\", \"otter\", \"seal\", \"whale\"],\n",
    "    \"fish\": [\"aquarium fish\", \"flatfish\", \"ray\", \"shark\", \"trout\"],\n",
    "    \"flowers\": [\"orchid\", \"poppy\", \"rose\", \"sunflower\", \"tulip\"],\n",
    "    \"food containers\": [\"bottle\", \"bowls\", \"can\", \"cup\", \"plate\"],\n",
    "    \"fruit and vegetables\": [\"apple\", \"mushroom\", \"orange\", \"pear\", \"pepper\"],\n",
    "    \"household electrical devices\": [\"clock\", \"keyboard\", \"lamp\", \"telephone\", \"television\"],\n",
    "    \"household furniture\": [\"bed\", \"chair\", \"couch\", \"table\", \"wardrobe\"],\n",
    "    \"insects\": [\"bee\", \"beetle\", \"butterfly\", \"caterpillar\", \"cockroach\"],\n",
    "    \"large carnivores\": [\"bear\", \"leopard\", \"lion\", \"tiger\", \"wolf\"],\n",
    "    \"large man-made outdoor things\": [\"bridge\", \"castle\", \"house\", \"road\", \"skyscraper\"],\n",
    "    \"large natural outdoor scenes\": [\"cloud\", \"forest\", \"mountain\", \"plain\", \"sea\"],\n",
    "    \"large omnivores and herbivores\": [\"camel\", \"cattle\", \"chimpanzee\", \"elephant\", \"kangaroo\"],\n",
    "    \"medium-sized mammals\": [\"fox\", \"porcupine\", \"possum\", \"raccoon\", \"skunk\"],\n",
    "    \"non-insect invertebrates\": [\"crab\", \"lobster\", \"snail\", \"spider\", \"worm\"],\n",
    "    \"people\": [\"baby\", \"boy\", \"girl\", \"man\", \"woman\"],\n",
    "    \"reptiles\": [\"crocodile\", \"dinosaur\", \"lizard\", \"snake\", \"turtle\"],\n",
    "    \"small mammals\": [\"hamster\", \"mouse\", \"rabbit\", \"shrew\", \"squirrel\"],\n",
    "    \"trees\": [\"maple\", \"oak\", \"palm\", \"pine\", \"willow\"],\n",
    "    \"vehicles 1\": [\"bicycle\", \"bus\", \"motorcycle\", \"pickup_truck\", \"train\"],\n",
    "    \"vehicles 2\": [\"lawn_mower\", \"rocket\", \"streetcar\", \"tank\", \"tractor\"]\n",
    "}\n",
    "#print(labels)\n",
    "super_class_labels = []\n",
    "sc_data = {}\n",
    "for superclass in superclasses.keys():\n",
    "    sc_data[superclass] = []\n",
    "    for label in superclasses[superclass]:\n",
    "        sc_data[superclass].append(pca_embeddings[label])"
   ]
  },
  {
   "cell_type": "code",
   "execution_count": 11,
   "metadata": {
    "collapsed": true
   },
   "outputs": [],
   "source": [
    "to_include = [\n",
    "         #'aquatic mammals', \n",
    "           #'fish', \n",
    "           #'flowers', \n",
    "           'food containers', \n",
    "           #'fruit and vegetables', \n",
    "           #'household electrical devices', \n",
    "           #'household furniture', \n",
    "           #'insects', \n",
    "           'large carnivores', \n",
    "           #'large man-made outdoor things', \n",
    "           #'large natural outdoor scenes', \n",
    "           #'large omnivores and herbivores', \n",
    "           'medium-sized mammals', \n",
    "           #'non-insect invertebrates', \n",
    "           #'people', \n",
    "           'reptiles', \n",
    "           'small mammals', \n",
    "           'trees', \n",
    "           'vehicles 1', \n",
    "           'vehicles 2'\n",
    "          ]"
   ]
  },
  {
   "cell_type": "code",
   "execution_count": 12,
   "metadata": {},
   "outputs": [
    {
     "name": "stdout",
     "output_type": "stream",
     "text": [
      "food containers [-0.32172778 -0.38199061 -0.32346064 -0.23145108 -0.36824554]\n",
      "food containers [ 0.482039   -0.09505153  0.47972545  0.26759106 -0.28610572]\n",
      "large carnivores [ 0.82789022  0.8278901   0.82789004  0.8278901   0.82789099]\n",
      "large carnivores [-0.0134967  -0.01349601 -0.013496   -0.01349601 -0.01349722]\n",
      "medium-sized mammals [-0.3220855  -0.3748588   0.82791001  0.82788974 -0.42663938]\n",
      "medium-sized mammals [ 0.4851464  -0.22411947 -0.01353949 -0.01349673  0.28816184]\n",
      "reptiles [ 0.82774812 -0.37614495 -0.37614027  0.82774907 -0.32208559]\n",
      "reptiles [-0.01361993 -0.21170075 -0.21169153 -0.01362302  0.48514643]\n",
      "small mammals [ 0.8278895  -0.37485921 -0.32208559  0.8278932   0.8278898 ]\n",
      "small mammals [-0.01349613 -0.22411527  0.48514643 -0.01350266 -0.01349673]\n",
      "trees [-0.38738209 -0.3873837  -0.39094704 -0.36562705 -0.36517549]\n",
      "trees [-0.09506634 -0.09506513 -0.08081388 -0.29218388 -0.29152444]\n",
      "vehicles 1 [-0.36861926 -0.33509615 -0.36863261 -0.36858156 -0.32208523]\n",
      "vehicles 1 [-0.28568098 -0.18945479 -0.28568447 -0.28567734  0.48514551]\n",
      "vehicles 2 [-0.36855888 -0.33462286 -0.36863142 -0.32170549 -0.36863124]\n",
      "vehicles 2 [-0.28576982 -0.19110477 -0.28568286  0.48202598 -0.28568301]\n"
     ]
    },
    {
     "data": {
      "image/png": "[encoded data removed]",
      "text/plain": [
       "<matplotlib.figure.Figure at 0x1166735f8>"
      ]
     },
     "metadata": {},
     "output_type": "display_data"
    }
   ],
   "source": [
    "#print(sc_data)\n",
    "# Create plot\n",
    "fig = plt.figure()\n",
    "ax = fig.add_subplot(1, 1, 1, facecolor=\"1.0\")\n",
    "for sc in sc_data:\n",
    "    if not sc in to_include:\n",
    "        continue\n",
    "    sc_data[sc] = np.array(sc_data[sc])\n",
    "    x = sc_data[sc][:, 0]\n",
    "    y = sc_data[sc][:, 1]\n",
    "    print(sc, x)\n",
    "    print(sc, y)\n",
    "    ax.scatter(x, y, alpha=0.8, marker='o', edgecolors='none', s=30, label=sc)\n",
    " \n",
    "plt.title('WordNet PCA Visualization')\n",
    "plt.legend(loc=9, bbox_to_anchor=(1.3, 1.0))\n",
    "plt.show()"
   ]
  }
 ],
 "metadata": {
  "kernelspec": {
   "display_name": "Python 3",
   "language": "python",
   "name": "python3"
  },
  "language_info": {
   "codemirror_mode": {
    "name": "ipython",
    "version": 3
   },
   "file_extension": ".py",
   "mimetype": "text/x-python",
   "name": "python",
   "nbconvert_exporter": "python",
   "pygments_lexer": "ipython3",
   "version": "3.6.2"
  }
 },
 "nbformat": 4,
 "nbformat_minor": 2
}
