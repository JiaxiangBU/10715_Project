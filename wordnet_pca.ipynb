{
 "cells": [
  {
   "cell_type": "code",
   "execution_count": 1,
   "metadata": {},
   "outputs": [],
   "source": [
    "import pickle\n",
    "from sklearn.decomposition import PCA\n",
    "import matplotlib.pyplot as plt\n",
    "import numpy as np"
   ]
  },
  {
   "cell_type": "code",
   "execution_count": 2,
   "metadata": {},
   "outputs": [],
   "source": [
    "embeddings = pickle.load(open(\"Data/Embeddings/CIFAR/CIFAR_100_word_to_embedding_wordnet.pk\", 'rb'), encoding='latin1')"
   ]
  },
  {
   "cell_type": "code",
   "execution_count": 3,
   "metadata": {},
   "outputs": [],
   "source": [
    "labels = embeddings.keys()\n",
    "X = np.array([embeddings[label] for label in labels])\n",
    "pca = PCA(n_components=2)\n",
    "X_r = pca.fit(X).transform(X)\n",
    "pca_embeddings = {}\n",
    "for i, label in enumerate(labels):\n",
    "    pca_embeddings[label] = X_r[i, :]"
   ]
  },
  {
   "cell_type": "code",
   "execution_count": 17,
   "metadata": {},
   "outputs": [],
   "source": [
    "superclasses = {\n",
    "    \"aquatic mammals\":[\"beaver\", \"dolphin\", \"otter\", \"seal\", \"whale\"],\n",
    "    \"fish\": [\"aquarium fish\", \"flatfish\", \"ray\", \"shark\", \"trout\"],\n",
    "    \"flowers\": [\"orchid\", \"poppy\", \"rose\", \"sunflower\", \"tulip\"],\n",
    "    \"food containers\": [\"bottle\", \"bowls\", \"can\", \"cup\", \"plate\"],\n",
    "    \"fruit and vegetables\": [\"apple\", \"mushroom\", \"orange\", \"pear\", \"pepper\"],\n",
    "    \"household electrical devices\": [\"clock\", \"keyboard\", \"lamp\", \"telephone\", \"television\"],\n",
    "    \"household furniture\": [\"bed\", \"chair\", \"couch\", \"table\", \"wardrobe\"],\n",
    "    \"insects\": [\"bee\", \"beetle\", \"butterfly\", \"caterpillar\", \"cockroach\"],\n",
    "    \"large carnivores\": [\"bear\", \"leopard\", \"lion\", \"tiger\", \"wolf\"],\n",
    "    \"large man-made outdoor things\": [\"bridge\", \"castle\", \"house\", \"road\", \"skyscraper\"],\n",
    "    \"large natural outdoor scenes\": [\"cloud\", \"forest\", \"mountain\", \"plain\", \"sea\"],\n",
    "    \"large omnivores and herbivores\": [\"camel\", \"cattle\", \"chimpanzee\", \"elephant\", \"kangaroo\"],\n",
    "    \"medium-sized mammals\": [\"fox\", \"porcupine\", \"possum\", \"raccoon\", \"skunk\"],\n",
    "    \"non-insect invertebrates\": [\"crab\", \"lobster\", \"snail\", \"spider\", \"worm\"],\n",
    "    \"people\": [\"baby\", \"boy\", \"girl\", \"man\", \"woman\"],\n",
    "    \"reptiles\": [\"crocodile\", \"dinosaur\", \"lizard\", \"snake\", \"turtle\"],\n",
    "    \"small mammals\": [\"hamster\", \"mouse\", \"rabbit\", \"shrew\", \"squirrel\"],\n",
    "    \"trees\": [\"maple\", \"oak\", \"palm\", \"pine\", \"willow\"],\n",
    "    \"vehicles 1\": [\"bicycle\", \"bus\", \"motorcycle\", \"pickup_truck\", \"train\"],\n",
    "    \"vehicles 2\": [\"lawn_mower\", \"rocket\", \"streetcar\", \"tank\", \"tractor\"]\n",
    "}\n",
    "#print(labels)\n",
    "super_class_labels = []\n",
    "sc_data = {}\n",
    "for superclass in superclasses.keys():\n",
    "    sc_data[superclass] = []\n",
    "    for label in superclasses[superclass]:\n",
    "        sc_data[superclass].append(pca_embeddings[label])"
   ]
  },
  {
   "cell_type": "code",
   "execution_count": 37,
   "metadata": {},
   "outputs": [],
   "source": [
    "to_include = [\n",
    "         #'aquatic mammals', \n",
    "           #'fish', \n",
    "           #'flowers', \n",
    "           'food containers', \n",
    "           #'fruit and vegetables', \n",
    "           #'household electrical devices', \n",
    "           #'household furniture', \n",
    "           #'insects', \n",
    "           'large carnivores', \n",
    "           #'large man-made outdoor things', \n",
    "           #'large natural outdoor scenes', \n",
    "           #'large omnivores and herbivores', \n",
    "           'medium-sized mammals', \n",
    "           #'non-insect invertebrates', \n",
    "           #'people', \n",
    "           'reptiles', \n",
    "           'small mammals', \n",
    "           'trees', \n",
    "           'vehicles 1', \n",
    "           'vehicles 2'\n",
    "          ]"
   ]
  },
  {
   "cell_type": "code",
   "execution_count": 38,
   "metadata": {},
   "outputs": [
    {
     "name": "stdout",
     "output_type": "stream",
     "text": [
      "food containers [-0.3217278  -0.3819906  -0.32346067 -0.23145103 -0.36824548]\n",
      "food containers [ 0.48203897 -0.09505149  0.4797255   0.2675911  -0.28610575]\n",
      "large carnivores [0.8278902 0.8278901 0.8278901 0.8278901 0.8278909]\n",
      "large carnivores [-0.01349671 -0.01349602 -0.01349601 -0.01349601 -0.01349723]\n",
      "medium-sized mammals [-0.32208556 -0.37485883  0.8279103   0.8278895  -0.42663935]\n",
      "medium-sized mammals [ 0.48514634 -0.22411948 -0.0135395  -0.01349674  0.28816184]\n",
      "reptiles [ 0.82774806 -0.37614498 -0.37614033  0.82774895 -0.3220856 ]\n",
      "reptiles [-0.01361993 -0.21170078 -0.21169154 -0.01362303  0.48514637]\n",
      "small mammals [ 0.8278896  -0.37485918 -0.3220856   0.82789314  0.82789   ]\n",
      "small mammals [-0.01349614 -0.22411527  0.48514637 -0.01350266 -0.01349674]\n",
      "trees [-0.3873822  -0.3873838  -0.3909471  -0.36562696 -0.3651755 ]\n",
      "trees [-0.09506626 -0.09506504 -0.08081384 -0.29218388 -0.29152444]\n",
      "vehicles 1 [-0.36861938 -0.3350962  -0.3686326  -0.36858165 -0.32208517]\n",
      "vehicles 1 [-0.28568092 -0.18945476 -0.28568444 -0.28567743  0.48514548]\n",
      "vehicles 2 [-0.36855894 -0.33462283 -0.36863142 -0.32170552 -0.3686313 ]\n",
      "vehicles 2 [-0.2857699  -0.19110474 -0.28568295  0.482026   -0.28568298]\n"
     ]
    },
    {
     "name": "stderr",
     "output_type": "stream",
     "text": [
      "/anaconda3/lib/python3.6/site-packages/matplotlib/cbook/deprecation.py:106: MatplotlibDeprecationWarning: The axisbg attribute was deprecated in version 2.0. Use facecolor instead.\n",
      "  warnings.warn(message, mplDeprecation, stacklevel=1)\n"
     ]
    },
    {
     "data": {
      "image/png": "[encoded data removed]",
      "text/plain": [
       "<matplotlib.figure.Figure at 0x1a24e03908>"
      ]
     },
     "metadata": {},
     "output_type": "display_data"
    }
   ],
   "source": [
    "#print(sc_data)\n",
    "# Create plot\n",
    "fig = plt.figure()\n",
    "ax = fig.add_subplot(1, 1, 1, axisbg=\"1.0\")\n",
    "for sc in sc_data:\n",
    "    if not sc in to_include:\n",
    "        continue\n",
    "    sc_data[sc] = np.array(sc_data[sc])\n",
    "    x = sc_data[sc][:, 0]\n",
    "    y = sc_data[sc][:, 1]\n",
    "    print(sc, x)\n",
    "    print(sc, y)\n",
    "    ax.scatter(x, y, alpha=0.8, marker='o', edgecolors='none', s=30, label=sc)\n",
    " \n",
    "plt.title('Word2Vec PCA Visualization')\n",
    "plt.legend(loc=9, bbox_to_anchor=(1.3, 1.0))\n",
    "plt.show()"
   ]
  },
  {
   "cell_type": "code",
   "execution_count": null,
   "metadata": {},
   "outputs": [],
   "source": []
  }
 ],
 "metadata": {
  "kernelspec": {
   "display_name": "Python 3",
   "language": "python",
   "name": "python3"
  },
  "language_info": {
   "codemirror_mode": {
    "name": "ipython",
    "version": 3
   },
   "file_extension": ".py",
   "mimetype": "text/x-python",
   "name": "python",
   "nbconvert_exporter": "python",
   "pygments_lexer": "ipython3",
   "version": "3.6.4"
  }
 },
 "nbformat": 4,
 "nbformat_minor": 2
}
