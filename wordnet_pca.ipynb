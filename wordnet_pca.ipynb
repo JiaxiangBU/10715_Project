{
 "cells": [
  {
   "cell_type": "code",
   "execution_count": 26,
   "metadata": {
    "collapsed": true
   },
   "outputs": [],
   "source": [
    "import pickle\n",
    "from sklearn.decomposition import PCA\n",
    "import matplotlib.pyplot as plt\n",
    "import numpy as np"
   ]
  },
  {
   "cell_type": "code",
   "execution_count": 27,
   "metadata": {
    "collapsed": true
   },
   "outputs": [],
   "source": [
    "embeddings = pickle.load(open(\"Data/Embeddings/CIFAR/CIFAR_100_word_to_embedding_wordnet.pk\", 'rb'), encoding='latin1')"
   ]
  },
  {
   "cell_type": "code",
   "execution_count": 28,
   "metadata": {},
   "outputs": [
    {
     "name": "stdout",
     "output_type": "stream",
     "text": [
      "[ 0.28987625  0.07081432  0.03124539  0.016       0.00790113  0.00649501\n",
      "  0.00591459  0.00446594  0.0044141   0.00337684]\n"
     ]
    }
   ],
   "source": [
    "labels = embeddings.keys()\n",
    "X = np.array([embeddings[label] for label in labels])\n",
    "pca = PCA(n_components=10)\n",
    "X_r = pca.fit(X).transform(X)\n",
    "pca_embeddings = {}\n",
    "for i, label in enumerate(labels):\n",
    "    pca_embeddings[label] = X_r[i, :]\n",
    "    \n",
    "print(pca.explained_variance_)"
   ]
  },
  {
   "cell_type": "code",
   "execution_count": 29,
   "metadata": {
    "collapsed": true
   },
   "outputs": [],
   "source": [
    "superclasses = {\n",
    "    \"aquatic mammals\":[\"beaver\", \"dolphin\", \"otter\", \"seal\", \"whale\"],\n",
    "    \"fish\": [\"aquarium fish\", \"flatfish\", \"ray\", \"shark\", \"trout\"],\n",
    "    \"flowers\": [\"orchid\", \"poppy\", \"rose\", \"sunflower\", \"tulip\"],\n",
    "    \"food containers\": [\"bottle\", \"bowls\", \"can\", \"cup\", \"plate\"],\n",
    "    \"fruit and vegetables\": [\"apple\", \"mushroom\", \"orange\", \"pear\", \"pepper\"],\n",
    "    \"household electrical devices\": [\"clock\", \"keyboard\", \"lamp\", \"telephone\", \"television\"],\n",
    "    \"household furniture\": [\"bed\", \"chair\", \"couch\", \"table\", \"wardrobe\"],\n",
    "    \"insects\": [\"bee\", \"beetle\", \"butterfly\", \"caterpillar\", \"cockroach\"],\n",
    "    \"large carnivores\": [\"bear\", \"leopard\", \"lion\", \"tiger\", \"wolf\"],\n",
    "    \"large man-made outdoor things\": [\"bridge\", \"castle\", \"house\", \"road\", \"skyscraper\"],\n",
    "    \"large natural outdoor scenes\": [\"cloud\", \"forest\", \"mountain\", \"plain\", \"sea\"],\n",
    "    \"large omnivores and herbivores\": [\"camel\", \"cattle\", \"chimpanzee\", \"elephant\", \"kangaroo\"],\n",
    "    \"medium-sized mammals\": [\"fox\", \"porcupine\", \"possum\", \"raccoon\", \"skunk\"],\n",
    "    \"non-insect invertebrates\": [\"crab\", \"lobster\", \"snail\", \"spider\", \"worm\"],\n",
    "    \"people\": [\"baby\", \"boy\", \"girl\", \"man\", \"woman\"],\n",
    "    \"reptiles\": [\"crocodile\", \"dinosaur\", \"lizard\", \"snake\", \"turtle\"],\n",
    "    \"small mammals\": [\"hamster\", \"mouse\", \"rabbit\", \"shrew\", \"squirrel\"],\n",
    "    \"trees\": [\"maple\", \"oak\", \"palm\", \"pine\", \"willow\"],\n",
    "    \"vehicles 1\": [\"bicycle\", \"bus\", \"motorcycle\", \"pickup_truck\", \"train\"],\n",
    "    \"vehicles 2\": [\"lawn_mower\", \"rocket\", \"streetcar\", \"tank\", \"tractor\"]\n",
    "}\n",
    "#print(labels)\n",
    "super_class_labels = []\n",
    "sc_data = {}\n",
    "for superclass in superclasses.keys():\n",
    "    sc_data[superclass] = []\n",
    "    for label in superclasses[superclass]:\n",
    "        sc_data[superclass].append(pca_embeddings[label])"
   ]
  },
  {
   "cell_type": "code",
   "execution_count": 30,
   "metadata": {
    "collapsed": true
   },
   "outputs": [],
   "source": [
    "to_include = [\n",
    "         #'aquatic mammals', \n",
    "           #'fish', \n",
    "           #'flowers', \n",
    "           'food containers', \n",
    "           #'fruit and vegetables', \n",
    "           #'household electrical devices', \n",
    "           #'household furniture', \n",
    "           #'insects', \n",
    "           'large carnivores', \n",
    "           #'large man-made outdoor things', \n",
    "           #'large natural outdoor scenes', \n",
    "           #'large omnivores and herbivores', \n",
    "           'medium-sized mammals', \n",
    "           #'non-insect invertebrates', \n",
    "           #'people', \n",
    "           'reptiles', \n",
    "           'small mammals', \n",
    "           'trees', \n",
    "           'vehicles 1', \n",
    "           'vehicles 2'\n",
    "          ]"
   ]
  },
  {
   "cell_type": "code",
   "execution_count": 31,
   "metadata": {},
   "outputs": [
    {
     "name": "stdout",
     "output_type": "stream",
     "text": [
      "food containers [-0.32172775 -0.38199055 -0.32346058 -0.23145097 -0.36824536]\n",
      "food containers [ 0.48203892 -0.09505162  0.47972548  0.267591   -0.28610563]\n",
      "large carnivores [ 0.82789028  0.8278901   0.82789022  0.82789028  0.82789081]\n",
      "large carnivores [-0.01349674 -0.01349606 -0.01349605 -0.01349605 -0.01349727]\n",
      "medium-sized mammals [-0.3220855  -0.37485874  0.8279103   0.8278895  -0.42663926]\n",
      "medium-sized mammals [ 0.48514631 -0.22411938 -0.01353953 -0.01349677  0.28816178]\n",
      "reptiles [ 0.827748   -0.37614489 -0.37614024  0.82774907 -0.32208556]\n",
      "reptiles [-0.01361996 -0.21170071 -0.2116915  -0.01362306  0.48514634]\n",
      "small mammals [ 0.82788962 -0.37485912 -0.32208556  0.8278932   0.82788998]\n",
      "small mammals [-0.01349617 -0.22411522  0.48514634 -0.01350269 -0.01349676]\n",
      "trees [-0.38738218 -0.38738373 -0.39094698 -0.3656269  -0.3651754 ]\n",
      "trees [-0.09506641 -0.09506518 -0.08081397 -0.29218382 -0.29152435]\n",
      "vehicles 1 [-0.36861929 -0.33509612 -0.36863256 -0.36858153 -0.32208514]\n",
      "vehicles 1 [-0.28568083 -0.18945484 -0.28568432 -0.28567731  0.48514545]\n",
      "vehicles 2 [-0.36855888 -0.33462274 -0.3686313  -0.32170546 -0.36863124]\n",
      "vehicles 2 [-0.28576985 -0.1911048  -0.28568283  0.48202595 -0.28568289]\n"
     ]
    },
    {
     "data": {
      "image/png": "[encoded data removed]",
      "text/plain": [
       "<matplotlib.figure.Figure at 0x1144060b8>"
      ]
     },
     "metadata": {},
     "output_type": "display_data"
    }
   ],
   "source": [
    "#print(sc_data)\n",
    "# Create plot\n",
    "fig = plt.figure()\n",
    "ax = fig.add_subplot(1, 1, 1, facecolor=\"1.0\")\n",
    "for sc in sc_data:\n",
    "    if not sc in to_include:\n",
    "        continue\n",
    "    sc_data[sc] = np.array(sc_data[sc])\n",
    "    x = sc_data[sc][:, 0]\n",
    "    y = sc_data[sc][:, 1]\n",
    "    print(sc, x)\n",
    "    print(sc, y)\n",
    "    ax.scatter(x, y, alpha=0.8, marker='o', edgecolors='none', s=30, label=sc)\n",
    " \n",
    "plt.title('WordNet PCA Visualization')\n",
    "plt.legend(loc=9, bbox_to_anchor=(1.3, 1.0))\n",
    "plt.show()"
   ]
  },
  {
   "cell_type": "code",
   "execution_count": 32,
   "metadata": {},
   "outputs": [
    {
     "data": {
      "image/png": "[encoded data removed]",
      "text/plain": [
       "<matplotlib.figure.Figure at 0x114574b00>"
      ]
     },
     "metadata": {},
     "output_type": "display_data"
    }
   ],
   "source": [
    "fig2 = plt.figure()\n",
    "ax0 = fig2.add_subplot(1, 1, 1, facecolor=\"1.0\")\n",
    "\n",
    "ax0.plot(pca.explained_variance_ratio_, linewidth=2)\n",
    "ax0.set_ylabel('PCA explained variance')\n",
    "ax0.set_xlabel('n_components')\n",
    "\n",
    "plt.show()"
   ]
  },
  {
   "cell_type": "code",
   "execution_count": null,
   "metadata": {
    "collapsed": true
   },
   "outputs": [],
   "source": []
  }
 ],
 "metadata": {
  "kernelspec": {
   "display_name": "Python 3",
   "language": "python",
   "name": "python3"
  },
  "language_info": {
   "codemirror_mode": {
    "name": "ipython",
    "version": 3
   },
   "file_extension": ".py",
   "mimetype": "text/x-python",
   "name": "python",
   "nbconvert_exporter": "python",
   "pygments_lexer": "ipython3",
   "version": "3.6.2"
  }
 },
 "nbformat": 4,
 "nbformat_minor": 2
}
