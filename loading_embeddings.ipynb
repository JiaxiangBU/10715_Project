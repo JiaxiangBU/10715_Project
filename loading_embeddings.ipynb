{
 "cells": [
  {
   "cell_type": "code",
   "execution_count": 104,
   "metadata": {},
   "outputs": [],
   "source": [
    "import os\n",
    "import numpy as np\n",
    "import pickle\n",
    "import matplotlib.pyplot as plt\n",
    "import gensim\n",
    "%matplotlib inline"
   ]
  },
  {
   "cell_type": "code",
   "execution_count": 100,
   "metadata": {
    "scrolled": true
   },
   "outputs": [],
   "source": [
    "data_dir = os.path.join(os.getcwd(), 'Data/cifar-100-python/')\n",
    "meta = pickle.load(open(os.path.join(data_dir, 'meta'), \"rb\"), encoding='latin1')\n",
    "fine_label_names = meta['fine_label_names']"
   ]
  },
  {
   "cell_type": "markdown",
   "metadata": {},
   "source": [
    "## GloVe"
   ]
  },
  {
   "cell_type": "code",
   "execution_count": 108,
   "metadata": {},
   "outputs": [],
   "source": [
    "embedding_type = 'glove'\n",
    "dim = 100\n",
    "save_dir = 'Data/Embeddings/Full/%s/' % (embedding_type)\n",
    "data_dir = os.path.join(os.getcwd(), save_dir)"
   ]
  },
  {
   "cell_type": "code",
   "execution_count": 109,
   "metadata": {},
   "outputs": [],
   "source": [
    "def load_glove(dim=300):\n",
    "    file_path = os.path.join(data_dir, 'glove.6B.%sd.txt' % (dim))\n",
    "    \n",
    "    glove_dict = {}\n",
    "\n",
    "    with open(file_path) as file:\n",
    "        for line in file:\n",
    "            line = line.split()\n",
    "            glove_dict[line[0]] = np.array(line[1:]).astype(np.float)\n",
    "\n",
    "    return glove_dict"
   ]
  },
  {
   "cell_type": "code",
   "execution_count": 110,
   "metadata": {},
   "outputs": [],
   "source": [
    "model = load_glove(dim=dim)"
   ]
  },
  {
   "cell_type": "code",
   "execution_count": 111,
   "metadata": {},
   "outputs": [
    {
     "name": "stdout",
     "output_type": "stream",
     "text": [
      "aquarium_fish\n",
      "lawn_mower\n",
      "maple_tree\n",
      "oak_tree\n",
      "palm_tree\n",
      "pickup_truck\n",
      "pine_tree\n",
      "sweet_pepper\n",
      "willow_tree\n"
     ]
    }
   ],
   "source": [
    "missing_labels = []\n",
    "for label in fine_label_names:\n",
    "    if label not in glove_dict.keys():\n",
    "        missing_labels.append(label)\n",
    "        print(label)"
   ]
  },
  {
   "cell_type": "code",
   "execution_count": 112,
   "metadata": {},
   "outputs": [],
   "source": [
    "words_to_embeddings = {}\n",
    "labels_to_words = {}\n",
    "labels_to_embeddings = {}\n",
    "\n",
    "for i in range(len(fine_label_names)):\n",
    "    label = fine_label_names[i]\n",
    "    \n",
    "    if label == 'aquarium_fish':\n",
    "        labels_to_embeddings[i] = (model['aquarium'] + model['fish']) / 2\n",
    "        words_to_embeddings[label] = (model['aquarium'] + model['fish']) / 2\n",
    "    elif '_tree' in label:\n",
    "        labels_to_embeddings[i] = model[label.replace('_tree', '')]\n",
    "        words_to_embeddings[label] = model[label.replace('_tree', '')]\n",
    "    elif label == 'lawn_mower': \n",
    "        labels_to_embeddings[i] = model['lawnmower']\n",
    "        words_to_embeddings[label] = model['lawnmower']\n",
    "    elif label == 'pickup_truck': \n",
    "        labels_to_embeddings[i] = model['truck']\n",
    "        words_to_embeddings[label] = model['truck']\n",
    "    elif label == 'sweet_pepper': \n",
    "        labels_to_embeddings[i] = model['peppers']\n",
    "        words_to_embeddings[label] = model['peppers']\n",
    "    else:\n",
    "        labels_to_embeddings[i] = model[label]\n",
    "        words_to_embeddings[label] = model[label]\n",
    "        \n",
    "    labels_to_words[i] = label"
   ]
  },
  {
   "cell_type": "code",
   "execution_count": 113,
   "metadata": {},
   "outputs": [],
   "source": [
    "# Save the files\n",
    "pickle.dump(words_to_embeddings, open(os.path.join(data_dir, '%s_%s_words_to_embeddings.pk' % (embedding_type, dim)), \"wb\"))\n",
    "pickle.dump(labels_to_words, open(os.path.join(data_dir, '%s_%s_labels_to_words.pk' % (embedding_type, dim)), \"wb\"))\n",
    "pickle.dump(labels_to_embeddings, open(os.path.join(data_dir, '%s_%s_labels_to_embeddings.pk' % (embedding_type, dim)), \"wb\"))"
   ]
  },
  {
   "cell_type": "markdown",
   "metadata": {},
   "source": [
    "## Word2Vec"
   ]
  },
  {
   "cell_type": "code",
   "execution_count": 89,
   "metadata": {},
   "outputs": [],
   "source": [
    "embedding_type = 'w2v'\n",
    "dim = 300\n",
    "save_dir = 'Data/Embeddings/Full/%s/' % (embedding_type)\n",
    "data_dir = os.path.join(os.getcwd(), save_dir)"
   ]
  },
  {
   "cell_type": "code",
   "execution_count": 93,
   "metadata": {},
   "outputs": [],
   "source": [
    "# Load the model\n",
    "model = gensim.models.KeyedVectors.load_word2vec_format(os.path.join(data_dir, 'GoogleNews-vectors-negative300.bin'), binary=True)"
   ]
  },
  {
   "cell_type": "code",
   "execution_count": 94,
   "metadata": {},
   "outputs": [],
   "source": [
    "words_to_embeddings = {}\n",
    "labels_to_words = {}\n",
    "labels_to_embeddings = {}\n",
    "\n",
    "for i in range(len(fine_label_names)):\n",
    "    label = fine_label_names[i]\n",
    "    \n",
    "    if label == 'aquarium_fish':\n",
    "        labels_to_embeddings[i] = (model['aquarium'] + model['fish']) / 2\n",
    "        words_to_embeddings[label] = (model['aquarium'] + model['fish']) / 2\n",
    "    elif '_tree' in label:\n",
    "        labels_to_embeddings[i] = model[label.replace('_tree', '')]\n",
    "        words_to_embeddings[label] = model[label.replace('_tree', '')]\n",
    "    elif label == 'lawn_mower': \n",
    "        labels_to_embeddings[i] = model['lawnmower']\n",
    "        words_to_embeddings[label] = model['lawnmower']\n",
    "    elif label == 'pickup_truck': \n",
    "        labels_to_embeddings[i] = model['truck']\n",
    "        words_to_embeddings[label] = model['truck']\n",
    "    elif label == 'sweet_pepper': \n",
    "        labels_to_embeddings[i] = model['peppers']\n",
    "        words_to_embeddings[label] = model['peppers']\n",
    "    else:\n",
    "        labels_to_embeddings[i] = model[label]\n",
    "        words_to_embeddings[label] = model[label]\n",
    "        \n",
    "    labels_to_words[i] = label"
   ]
  },
  {
   "cell_type": "code",
   "execution_count": 95,
   "metadata": {},
   "outputs": [],
   "source": [
    "# Save the files\n",
    "pickle.dump(words_to_embeddings, open(os.path.join(data_dir, '%s_%s_words_to_embeddings.pk' % (embedding_type, dim)), \"wb\"))\n",
    "pickle.dump(labels_to_words, open(os.path.join(data_dir, '%s_%s_labels_to_words.pk' % (embedding_type, dim)), \"wb\"))\n",
    "pickle.dump(labels_to_embeddings, open(os.path.join(data_dir, '%s_%s_labels_to_embeddings.pk' % (embedding_type, dim)), \"wb\"))"
   ]
  },
  {
   "cell_type": "markdown",
   "metadata": {
    "collapsed": true
   },
   "source": [
    "## Wordnet"
   ]
  },
  {
   "cell_type": "code",
   "execution_count": 44,
   "metadata": {
    "collapsed": true
   },
   "outputs": [],
   "source": [
    "# Get an array of CIFAR Labels\n",
    "infile = open(\"Data/Labels/CIFAR_100_labels_wordnet.txt\", \"r\")\n",
    "words = []\n",
    "for line in infile:\n",
    "    row = line.rstrip().rstrip(',').split(', ')\n",
    "    for word in row:\n",
    "        words.append(word)\n",
    "infile.close()\n",
    "words = sorted(words)"
   ]
  },
  {
   "cell_type": "code",
   "execution_count": 49,
   "metadata": {},
   "outputs": [],
   "source": [
    "def read_embeddings_from_txt(filename, working_dict={}):\n",
    "    infile = open(filename, \"r\")\n",
    "    infile.readline()\n",
    "    embeddings = working_dict\n",
    "    for line in infile:\n",
    "        row = line.rstrip().split()\n",
    "        for word in row:\n",
    "            embeddings[row[0]] = np.array(row[1:]).astype(np.float32)\n",
    "    infile.close()\n",
    "    return embeddings\n",
    "\n",
    "def read_multiple(filenames):\n",
    "    embeddings = {}\n",
    "    for f in filenames:\n",
    "        embeddings = read_embeddings_from_txt(f, embeddings)\n",
    "    return embeddings\n"
   ]
  },
  {
   "cell_type": "code",
   "execution_count": 50,
   "metadata": {
    "collapsed": true
   },
   "outputs": [],
   "source": [
    "embeddings = read_embeddings_from_txt(\"Data/Embeddings/Full/wordnet/wordnet.100d/domain_topic.100d.txt\")\n",
    "embeddings = read_embeddings_from_txt(\"Data/Embeddings/Full/wordnet/wordnet.100d/hypernym_noun.100d.txt\", embeddings)\n",
    "embeddings = read_embeddings_from_txt(\"Data/Embeddings/Full/wordnet/wordnet.100d/hypernym_verb.100d.txt\", embeddings)\n",
    "embeddings = read_embeddings_from_txt(\"Data/Embeddings/Full/wordnet/wordnet.100d/member_holonyms.100d.txt\", embeddings)"
   ]
  },
  {
   "cell_type": "code",
   "execution_count": 51,
   "metadata": {},
   "outputs": [],
   "source": [
    "# Word to Embedding Dictionary\n",
    "words_to_embeddings = {}\n",
    "for word in words:\n",
    "    if word == 'aquarium fish':\n",
    "        words_to_embeddings[word] = (embeddings['aquarium'] + embeddings['fish']) / 2\n",
    "    else:\n",
    "        words_to_embeddings[word] = embeddings[word]\n",
    "        \n",
    "# Label Number to Words and Label Number to Embedding Dictionaries\n",
    "labels_to_words = {}\n",
    "labels_to_embeddings = {}\n",
    "for i in range(100):\n",
    "    labels_to_words[i] = words[i]\n",
    "    labels_to_embeddings[i] = words_to_embeddings[words[i]]\n",
    "\n",
    "# Save the files\n",
    "pickle.dump(words_to_embeddings, open(\"Data/Embeddings/CIFAR/CIFAR_100_word_to_embedding_wordnet.pk\", \"wb\"))\n",
    "pickle.dump(labels_to_words, open(\"Data/Embeddings/CIFAR/CIFAR_100_label_to_word_wordnet.pk\", \"wb\"))\n",
    "pickle.dump(labels_to_embeddings, open(\"Data/Embeddings/CIFAR/CIFAR_100_label_to_embedding_wordnet.pk\", \"wb\"))\n",
    "        "
   ]
  },
  {
   "cell_type": "code",
   "execution_count": null,
   "metadata": {
    "collapsed": true
   },
   "outputs": [],
   "source": []
  }
 ],
 "metadata": {
  "anaconda-cloud": {},
  "kernelspec": {
   "display_name": "Python 3",
   "language": "python",
   "name": "python3"
  },
  "language_info": {
   "codemirror_mode": {
    "name": "ipython",
    "version": 3
   },
   "file_extension": ".py",
   "mimetype": "text/x-python",
   "name": "python",
   "nbconvert_exporter": "python",
   "pygments_lexer": "ipython3",
   "version": "3.5.2"
  }
 },
 "nbformat": 4,
 "nbformat_minor": 1
}
