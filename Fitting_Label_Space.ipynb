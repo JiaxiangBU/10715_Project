{
 "cells": [
  {
   "cell_type": "markdown",
   "metadata": {},
   "source": [
    "## Training "
   ]
  },
  {
   "cell_type": "code",
   "execution_count": 1,
   "metadata": {},
   "outputs": [
    {
     "name": "stderr",
     "output_type": "stream",
     "text": [
      "Using TensorFlow backend.\n"
     ]
    }
   ],
   "source": [
    "import os\n",
    "import numpy as np\n",
    "import tensorflow as tf\n",
    "from keras.models import Sequential\n",
    "from keras.layers import Dense, BatchNormalization\n",
    "import pickle\n",
    "import sklearn\n",
    "%matplotlib inline\n",
    "import matplotlib.pyplot as plt"
   ]
  },
  {
   "cell_type": "code",
   "execution_count": 2,
   "metadata": {},
   "outputs": [],
   "source": [
    "#Loading data and embeddings\n",
    "label_embeddings = pickle.load(open(\"Data/Embeddings/CIFAR/CIFAR_100_label_to_embedding_google_news.pk\", \"rb\"))\n",
    "train_x = np.load(\"vgg_16/train_x.npy\").reshape((50000,-1))\n",
    "train_y = np.load(\"vgg_16/train_y.npy\")\n",
    "test_x = np.load(\"vgg_16/test_x.npy\").reshape((10000,-1))\n",
    "test_y = np.load(\"vgg_16/test_y.npy\")"
   ]
  },
  {
   "cell_type": "code",
   "execution_count": 3,
   "metadata": {},
   "outputs": [],
   "source": [
    "#Convert train/test labels to embeddings\n",
    "train_y_embeddings = np.zeros((50000, 300))\n",
    "test_y_embeddings = np.zeros((10000, 300))\n",
    "\n",
    "for i in range(train_y.shape[0]):\n",
    "    train_y_embeddings[i] = label_embeddings[int(train_y[i][0])]\n",
    "\n",
    "for i in range(test_y.shape[0]):\n",
    "    test_y_embeddings[i] = label_embeddings[int(test_y[i][0])]"
   ]
  },
  {
   "cell_type": "code",
   "execution_count": 4,
   "metadata": {},
   "outputs": [],
   "source": [
    "model = Sequential()\n",
    "model.add(Dense(512, activation='relu'))\n",
    "model.add(BatchNormalization())\n",
    "model.add(Dense(300, activation='relu'))\n",
    "model.add(BatchNormalization())\n",
    "#model.add(Dense(300, input_dim=300, activation='relu'))\n",
    "model.add(Dense(300))"
   ]
  },
  {
   "cell_type": "code",
   "execution_count": 5,
   "metadata": {},
   "outputs": [],
   "source": [
    "def cos_distance(y_true, y_pred):\n",
    "    def l2_normalize(x, axis):\n",
    "        norm = K.sqrt(K.sum(K.square(x), axis=axis, keepdims=True))\n",
    "        return K.sign(x) * K.maximum(K.abs(x), K.epsilon()) / K.maximum(norm, K.epsilon())\n",
    "    y_true = l2_normalize(y_true, axis=-1)\n",
    "    y_pred = l2_normalize(y_pred, axis=-1)\n",
    "    return K.mean(y_true * y_pred, axis=-1)"
   ]
  },
  {
   "cell_type": "code",
   "execution_count": 6,
   "metadata": {},
   "outputs": [],
   "source": [
    "model.compile(loss='mse', optimizer='adam', metrics=['cosine_proximity'])"
   ]
  },
  {
   "cell_type": "code",
   "execution_count": 7,
   "metadata": {
    "scrolled": true
   },
   "outputs": [
    {
     "name": "stdout",
     "output_type": "stream",
     "text": [
      "Train on 50000 samples, validate on 10000 samples\n",
      "Epoch 1/25\n",
      "50000/50000 [==============================] - 3s 52us/step - loss: 0.0508 - cosine_proximity: -0.5092 - val_loss: 0.0243 - val_cosine_proximity: -0.5855\n",
      "Epoch 2/25\n",
      "50000/50000 [==============================] - 2s 31us/step - loss: 0.0194 - cosine_proximity: -0.6820 - val_loss: 0.0216 - val_cosine_proximity: -0.6320\n",
      "Epoch 3/25\n",
      "50000/50000 [==============================] - 2s 32us/step - loss: 0.0163 - cosine_proximity: -0.7388 - val_loss: 0.0202 - val_cosine_proximity: -0.6594\n",
      "Epoch 4/25\n",
      "50000/50000 [==============================] - 2s 33us/step - loss: 0.0144 - cosine_proximity: -0.7717 - val_loss: 0.0199 - val_cosine_proximity: -0.6692\n",
      "Epoch 5/25\n",
      "50000/50000 [==============================] - 2s 32us/step - loss: 0.0130 - cosine_proximity: -0.7948 - val_loss: 0.0192 - val_cosine_proximity: -0.6807\n",
      "Epoch 6/25\n",
      "50000/50000 [==============================] - 2s 32us/step - loss: 0.0121 - cosine_proximity: -0.8110 - val_loss: 0.0192 - val_cosine_proximity: -0.6815\n",
      "Epoch 7/25\n",
      "50000/50000 [==============================] - 2s 33us/step - loss: 0.0113 - cosine_proximity: -0.8238 - val_loss: 0.0188 - val_cosine_proximity: -0.6903\n",
      "Epoch 8/25\n",
      "50000/50000 [==============================] - 2s 33us/step - loss: 0.0108 - cosine_proximity: -0.8335 - val_loss: 0.0186 - val_cosine_proximity: -0.6934\n",
      "Epoch 9/25\n",
      "50000/50000 [==============================] - 2s 33us/step - loss: 0.0103 - cosine_proximity: -0.8414 - val_loss: 0.0186 - val_cosine_proximity: -0.6936\n",
      "Epoch 10/25\n",
      "50000/50000 [==============================] - 2s 33us/step - loss: 0.0099 - cosine_proximity: -0.8472 - val_loss: 0.0185 - val_cosine_proximity: -0.6972\n",
      "Epoch 11/25\n",
      "50000/50000 [==============================] - 2s 33us/step - loss: 0.0097 - cosine_proximity: -0.8519 - val_loss: 0.0185 - val_cosine_proximity: -0.6969\n",
      "Epoch 12/25\n",
      "50000/50000 [==============================] - 2s 34us/step - loss: 0.0094 - cosine_proximity: -0.8563 - val_loss: 0.0184 - val_cosine_proximity: -0.7003\n",
      "Epoch 13/25\n",
      "50000/50000 [==============================] - 2s 31us/step - loss: 0.0092 - cosine_proximity: -0.8603 - val_loss: 0.0181 - val_cosine_proximity: -0.7024\n",
      "Epoch 14/25\n",
      "50000/50000 [==============================] - 2s 32us/step - loss: 0.0089 - cosine_proximity: -0.8637 - val_loss: 0.0179 - val_cosine_proximity: -0.7073\n",
      "Epoch 15/25\n",
      "50000/50000 [==============================] - 2s 34us/step - loss: 0.0087 - cosine_proximity: -0.8670 - val_loss: 0.0178 - val_cosine_proximity: -0.7064\n",
      "Epoch 16/25\n",
      "50000/50000 [==============================] - 2s 34us/step - loss: 0.0086 - cosine_proximity: -0.8689 - val_loss: 0.0181 - val_cosine_proximity: -0.7032\n",
      "Epoch 17/25\n",
      "50000/50000 [==============================] - 2s 33us/step - loss: 0.0084 - cosine_proximity: -0.8718 - val_loss: 0.0179 - val_cosine_proximity: -0.7082\n",
      "Epoch 18/25\n",
      "50000/50000 [==============================] - 2s 31us/step - loss: 0.0083 - cosine_proximity: -0.8744 - val_loss: 0.0179 - val_cosine_proximity: -0.7054\n",
      "Epoch 19/25\n",
      "50000/50000 [==============================] - 2s 33us/step - loss: 0.0081 - cosine_proximity: -0.8765 - val_loss: 0.0178 - val_cosine_proximity: -0.7085\n",
      "Epoch 20/25\n",
      "50000/50000 [==============================] - 2s 33us/step - loss: 0.0080 - cosine_proximity: -0.8784 - val_loss: 0.0177 - val_cosine_proximity: -0.7096\n",
      "Epoch 21/25\n",
      "50000/50000 [==============================] - 2s 33us/step - loss: 0.0079 - cosine_proximity: -0.8804 - val_loss: 0.0178 - val_cosine_proximity: -0.7078\n",
      "Epoch 22/25\n",
      "50000/50000 [==============================] - 2s 33us/step - loss: 0.0078 - cosine_proximity: -0.8821 - val_loss: 0.0178 - val_cosine_proximity: -0.7095\n",
      "Epoch 23/25\n",
      "50000/50000 [==============================] - 2s 33us/step - loss: 0.0076 - cosine_proximity: -0.8843 - val_loss: 0.0177 - val_cosine_proximity: -0.7095\n",
      "Epoch 24/25\n",
      "50000/50000 [==============================] - 2s 34us/step - loss: 0.0075 - cosine_proximity: -0.8860 - val_loss: 0.0177 - val_cosine_proximity: -0.7085\n",
      "Epoch 25/25\n",
      "50000/50000 [==============================] - 2s 33us/step - loss: 0.0074 - cosine_proximity: -0.8873 - val_loss: 0.0177 - val_cosine_proximity: -0.7094\n"
     ]
    },
    {
     "data": {
      "text/plain": [
       "<keras.callbacks.History at 0x7f0e7618ab38>"
      ]
     },
     "execution_count": 7,
     "metadata": {},
     "output_type": "execute_result"
    }
   ],
   "source": [
    "model.fit(train_x, train_y_embeddings, epochs=25, batch_size=128, validation_data=(test_x, test_y_embeddings))"
   ]
  },
  {
   "cell_type": "markdown",
   "metadata": {},
   "source": [
    "## Testing"
   ]
  },
  {
   "cell_type": "code",
   "execution_count": 8,
   "metadata": {},
   "outputs": [],
   "source": [
    "from sklearn.metrics.pairwise import cosine_similarity, euclidean_distances"
   ]
  },
  {
   "cell_type": "code",
   "execution_count": 9,
   "metadata": {},
   "outputs": [],
   "source": [
    "pred_test_y = model.predict(test_x)\n",
    "\n",
    "label_embeddings\n",
    "label_embeddings_arr = np.zeros((100, 300))\n",
    "for i in range(100):\n",
    "    label_embeddings_arr[i] = label_embeddings[i]"
   ]
  },
  {
   "cell_type": "code",
   "execution_count": 10,
   "metadata": {},
   "outputs": [],
   "source": [
    "#Top K Predictions\n",
    "def pred_top_k(k=5, pred_test_y=pred_test_y, label_embeddings_arr=label_embeddings_arr):\n",
    "    sim_table = cosine_similarity(pred_test_y, label_embeddings_arr)\n",
    "    top_k_guesses = np.argpartition(sim_table,range(99-k+1,100),axis=1)[:,99-k+1:]\n",
    "    return top_k_guesses\n",
    "\n",
    "\n",
    "#Top prediction\n",
    "sim_table = cosine_similarity(pred_test_y, label_embeddings_arr)\n",
    "label_predictions = sim_table.argmax(axis=1)\n",
    "label_predictions\n",
    "\n",
    "k=5\n",
    "top_k_guesses = pred_top_k(5)"
   ]
  },
  {
   "cell_type": "code",
   "execution_count": 11,
   "metadata": {},
   "outputs": [
    {
     "name": "stdout",
     "output_type": "stream",
     "text": [
      "Accuracy: 0.524\n",
      "Top 5 Accuracy: 0.697\n"
     ]
    }
   ],
   "source": [
    "#Accuracy\n",
    "acc = np.sum((np.squeeze(test_y) == label_predictions)) / float(test_y.shape[0])\n",
    "print(\"Accuracy: \" + str(acc))\n",
    "\n",
    "#Top k Accuracy\n",
    "\n",
    "def acc(top_k=top_k_guesses, test_y=test_y):\n",
    "    correct = 0\n",
    "    for i in range(test_y.shape[0]):\n",
    "        if np.squeeze(test_y)[i] in top_k[i]:\n",
    "            correct += 1\n",
    "    return correct/float(test_y.shape[0])\n",
    "\n",
    "print(\"Top \" + str(k) + \" Accuracy: \" + str(acc()))"
   ]
  },
  {
   "cell_type": "code",
   "execution_count": 15,
   "metadata": {},
   "outputs": [],
   "source": [
    "x = np.linspace(0,99,100) \n",
    "y=np.zeros(100)\n",
    "\n",
    "for i in range(100):\n",
    "    k = i+1\n",
    "    top_k_guesses = pred_top_k(k)\n",
    "    y[i] = acc(top_k_guesses, test_y)"
   ]
  },
  {
   "cell_type": "code",
   "execution_count": 16,
   "metadata": {},
   "outputs": [
    {
     "data": {
      "text/plain": [
       "Text(0.5, 1.0, 'Top K Accuracy')"
      ]
     },
     "execution_count": 16,
     "metadata": {},
     "output_type": "execute_result"
    },
    {
     "data": {
      "image/png": "[encoded data removed]",
      "text/plain": [
       "<Figure size 432x288 with 1 Axes>"
      ]
     },
     "metadata": {
      "needs_background": "light"
     },
     "output_type": "display_data"
    }
   ],
   "source": [
    "plt.plot(x,y)\n",
    "plt.title(\"Top K Accuracy\")"
   ]
  }
 ],
 "metadata": {
  "kernelspec": {
   "display_name": "Python 3",
   "language": "python",
   "name": "python3"
  },
  "language_info": {
   "codemirror_mode": {
    "name": "ipython",
    "version": 3
   },
   "file_extension": ".py",
   "mimetype": "text/x-python",
   "name": "python",
   "nbconvert_exporter": "python",
   "pygments_lexer": "ipython3",
   "version": "3.5.2"
  }
 },
 "nbformat": 4,
 "nbformat_minor": 1
}
