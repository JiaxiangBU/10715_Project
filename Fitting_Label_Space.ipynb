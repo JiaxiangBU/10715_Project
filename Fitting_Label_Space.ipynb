{
 "cells": [
  {
   "cell_type": "markdown",
   "metadata": {},
   "source": [
    "## Training "
   ]
  },
  {
   "cell_type": "code",
   "execution_count": 1,
   "metadata": {},
   "outputs": [
    {
     "name": "stderr",
     "output_type": "stream",
     "text": [
      "Using TensorFlow backend.\n"
     ]
    }
   ],
   "source": [
    "import os\n",
    "import numpy as np\n",
    "import tensorflow as tf\n",
    "from keras.models import Sequential\n",
    "from keras.layers import Dense, BatchNormalization\n",
    "import pickle\n",
    "import sklearn\n",
    "%matplotlib inline\n",
    "import matplotlib.pyplot as plt"
   ]
  },
  {
   "cell_type": "code",
   "execution_count": 2,
   "metadata": {},
   "outputs": [],
   "source": [
    "#Loading data and embeddings\n",
    "label_embeddings = pickle.load(open(\"Data/Embeddings/CIFAR/CIFAR_100_label_to_embedding_google_news.pk\", \"rb\"))\n",
    "train_x = np.load(\"vgg_16/train_x.npy\").reshape((50000,8192))\n",
    "train_y = np.load(\"vgg_16/train_y.npy\")\n",
    "test_x = np.load(\"vgg_16/test_x.npy\").reshape((10000,8192))\n",
    "test_y = np.load(\"vgg_16/test_y.npy\")\n"
   ]
  },
  {
   "cell_type": "code",
   "execution_count": 3,
   "metadata": {},
   "outputs": [],
   "source": [
    "#Convert train/test labels to embeddings\n",
    "train_y_embeddings = np.zeros((50000, 300))\n",
    "test_y_embeddings = np.zeros((10000, 300))\n",
    "\n",
    "for i in range(train_y.shape[0]):\n",
    "    train_y_embeddings[i] = label_embeddings[int(train_y[i][0])]\n",
    "\n",
    "for i in range(test_y.shape[0]):\n",
    "    test_y_embeddings[i] = label_embeddings[int(test_y[i][0])]"
   ]
  },
  {
   "cell_type": "code",
   "execution_count": 4,
   "metadata": {},
   "outputs": [],
   "source": [
    "model = Sequential()\n",
    "model.add(Dense(1024, input_dim=8192, activation='relu'))\n",
    "model.add(BatchNormalization())\n",
    "model.add(Dense(1024, input_dim=300, activation='relu'))\n",
    "model.add(BatchNormalization())\n",
    "#model.add(Dense(300, input_dim=300, activation='relu'))\n",
    "model.add(Dense(300, input_dim=300))"
   ]
  },
  {
   "cell_type": "code",
   "execution_count": 5,
   "metadata": {},
   "outputs": [],
   "source": [
    "def cos_distance(y_true, y_pred):\n",
    "    def l2_normalize(x, axis):\n",
    "        norm = K.sqrt(K.sum(K.square(x), axis=axis, keepdims=True))\n",
    "        return K.sign(x) * K.maximum(K.abs(x), K.epsilon()) / K.maximum(norm, K.epsilon())\n",
    "    y_true = l2_normalize(y_true, axis=-1)\n",
    "    y_pred = l2_normalize(y_pred, axis=-1)\n",
    "    return K.mean(y_true * y_pred, axis=-1)"
   ]
  },
  {
   "cell_type": "code",
   "execution_count": 6,
   "metadata": {},
   "outputs": [],
   "source": [
    "model.compile(loss='mse', optimizer='adam', metrics=['cosine_proximity'])"
   ]
  },
  {
   "cell_type": "code",
   "execution_count": 7,
   "metadata": {},
   "outputs": [
    {
     "name": "stdout",
     "output_type": "stream",
     "text": [
      "Train on 50000 samples, validate on 10000 samples\n",
      "Epoch 1/50\n",
      "50000/50000 [==============================] - 7s 131us/step - loss: 0.0562 - cosine_proximity: -0.3576 - val_loss: 0.0321 - val_cosine_proximity: -0.4215\n",
      "Epoch 2/50\n",
      "50000/50000 [==============================] - 5s 102us/step - loss: 0.0306 - cosine_proximity: -0.4452 - val_loss: 0.0315 - val_cosine_proximity: -0.4358\n",
      "Epoch 3/50\n",
      "50000/50000 [==============================] - 5s 97us/step - loss: 0.0296 - cosine_proximity: -0.4671 - val_loss: 0.0304 - val_cosine_proximity: -0.4723\n",
      "Epoch 4/50\n",
      "50000/50000 [==============================] - 5s 97us/step - loss: 0.0292 - cosine_proximity: -0.4772 - val_loss: 0.0291 - val_cosine_proximity: -0.4787\n",
      "Epoch 5/50\n",
      "50000/50000 [==============================] - 5s 97us/step - loss: 0.0286 - cosine_proximity: -0.4897 - val_loss: 0.0294 - val_cosine_proximity: -0.4737\n",
      "Epoch 6/50\n",
      "50000/50000 [==============================] - 5s 97us/step - loss: 0.0281 - cosine_proximity: -0.4994 - val_loss: 0.0300 - val_cosine_proximity: -0.4690\n",
      "Epoch 7/50\n",
      "50000/50000 [==============================] - 5s 97us/step - loss: 0.0278 - cosine_proximity: -0.5053 - val_loss: 0.0282 - val_cosine_proximity: -0.5020\n",
      "Epoch 8/50\n",
      "50000/50000 [==============================] - 5s 97us/step - loss: 0.0273 - cosine_proximity: -0.5142 - val_loss: 0.0294 - val_cosine_proximity: -0.4783\n",
      "Epoch 9/50\n",
      "50000/50000 [==============================] - 5s 97us/step - loss: 0.0273 - cosine_proximity: -0.5160 - val_loss: 0.0283 - val_cosine_proximity: -0.4988\n",
      "Epoch 10/50\n",
      "50000/50000 [==============================] - 5s 98us/step - loss: 0.0269 - cosine_proximity: -0.5233 - val_loss: 0.0275 - val_cosine_proximity: -0.5164\n",
      "Epoch 11/50\n",
      "50000/50000 [==============================] - 5s 97us/step - loss: 0.0268 - cosine_proximity: -0.5261 - val_loss: 0.0281 - val_cosine_proximity: -0.5084\n",
      "Epoch 12/50\n",
      "50000/50000 [==============================] - 5s 97us/step - loss: 0.0266 - cosine_proximity: -0.5293 - val_loss: 0.0273 - val_cosine_proximity: -0.5178\n",
      "Epoch 13/50\n",
      "50000/50000 [==============================] - 5s 98us/step - loss: 0.0263 - cosine_proximity: -0.5358 - val_loss: 0.0277 - val_cosine_proximity: -0.5109\n",
      "Epoch 14/50\n",
      "50000/50000 [==============================] - 5s 97us/step - loss: 0.0262 - cosine_proximity: -0.5367 - val_loss: 0.0276 - val_cosine_proximity: -0.5111\n",
      "Epoch 15/50\n",
      "50000/50000 [==============================] - 5s 97us/step - loss: 0.0261 - cosine_proximity: -0.5399 - val_loss: 0.0273 - val_cosine_proximity: -0.5232\n",
      "Epoch 16/50\n",
      "50000/50000 [==============================] - 5s 98us/step - loss: 0.0257 - cosine_proximity: -0.5457 - val_loss: 0.0278 - val_cosine_proximity: -0.5202\n",
      "Epoch 17/50\n",
      "50000/50000 [==============================] - 5s 98us/step - loss: 0.0257 - cosine_proximity: -0.5470 - val_loss: 0.0276 - val_cosine_proximity: -0.5117\n",
      "Epoch 18/50\n",
      "50000/50000 [==============================] - 5s 98us/step - loss: 0.0255 - cosine_proximity: -0.5498 - val_loss: 0.0283 - val_cosine_proximity: -0.5013\n",
      "Epoch 19/50\n",
      "50000/50000 [==============================] - 5s 98us/step - loss: 0.0253 - cosine_proximity: -0.5539 - val_loss: 0.0273 - val_cosine_proximity: -0.5285\n",
      "Epoch 20/50\n",
      "50000/50000 [==============================] - 5s 98us/step - loss: 0.0252 - cosine_proximity: -0.5568 - val_loss: 0.0268 - val_cosine_proximity: -0.5289\n",
      "Epoch 21/50\n",
      "50000/50000 [==============================] - 5s 98us/step - loss: 0.0250 - cosine_proximity: -0.5609 - val_loss: 0.0271 - val_cosine_proximity: -0.5297\n",
      "Epoch 22/50\n",
      "50000/50000 [==============================] - 5s 98us/step - loss: 0.0247 - cosine_proximity: -0.5663 - val_loss: 0.0268 - val_cosine_proximity: -0.5317\n",
      "Epoch 23/50\n",
      "50000/50000 [==============================] - 5s 98us/step - loss: 0.0246 - cosine_proximity: -0.5690 - val_loss: 0.0261 - val_cosine_proximity: -0.5393\n",
      "Epoch 24/50\n",
      "50000/50000 [==============================] - 5s 98us/step - loss: 0.0243 - cosine_proximity: -0.5747 - val_loss: 0.0261 - val_cosine_proximity: -0.5364\n",
      "Epoch 25/50\n",
      "50000/50000 [==============================] - 5s 98us/step - loss: 0.0242 - cosine_proximity: -0.5765 - val_loss: 0.0263 - val_cosine_proximity: -0.5307\n",
      "Epoch 26/50\n",
      "50000/50000 [==============================] - 5s 98us/step - loss: 0.0240 - cosine_proximity: -0.5802 - val_loss: 0.0257 - val_cosine_proximity: -0.5522\n",
      "Epoch 27/50\n",
      "50000/50000 [==============================] - 5s 98us/step - loss: 0.0236 - cosine_proximity: -0.5873 - val_loss: 0.0254 - val_cosine_proximity: -0.5505\n",
      "Epoch 28/50\n",
      "50000/50000 [==============================] - 5s 98us/step - loss: 0.0235 - cosine_proximity: -0.5897 - val_loss: 0.0260 - val_cosine_proximity: -0.5439\n",
      "Epoch 29/50\n",
      "50000/50000 [==============================] - 5s 98us/step - loss: 0.0232 - cosine_proximity: -0.5949 - val_loss: 0.0259 - val_cosine_proximity: -0.5465\n",
      "Epoch 30/50\n",
      "50000/50000 [==============================] - 5s 98us/step - loss: 0.0230 - cosine_proximity: -0.5989 - val_loss: 0.0259 - val_cosine_proximity: -0.5495\n",
      "Epoch 31/50\n",
      "50000/50000 [==============================] - 5s 99us/step - loss: 0.0226 - cosine_proximity: -0.6054 - val_loss: 0.0247 - val_cosine_proximity: -0.5662\n",
      "Epoch 32/50\n",
      "50000/50000 [==============================] - 5s 98us/step - loss: 0.0224 - cosine_proximity: -0.6105 - val_loss: 0.0251 - val_cosine_proximity: -0.5601\n",
      "Epoch 33/50\n",
      "50000/50000 [==============================] - 5s 98us/step - loss: 0.0222 - cosine_proximity: -0.6135 - val_loss: 0.0242 - val_cosine_proximity: -0.5724\n",
      "Epoch 34/50\n",
      "50000/50000 [==============================] - 5s 98us/step - loss: 0.0221 - cosine_proximity: -0.6163 - val_loss: 0.0247 - val_cosine_proximity: -0.5700\n",
      "Epoch 35/50\n",
      "50000/50000 [==============================] - 5s 99us/step - loss: 0.0218 - cosine_proximity: -0.6216 - val_loss: 0.0250 - val_cosine_proximity: -0.5690\n",
      "Epoch 36/50\n",
      "50000/50000 [==============================] - 5s 97us/step - loss: 0.0216 - cosine_proximity: -0.6261 - val_loss: 0.0244 - val_cosine_proximity: -0.5746\n",
      "Epoch 37/50\n",
      "50000/50000 [==============================] - 5s 97us/step - loss: 0.0213 - cosine_proximity: -0.6311 - val_loss: 0.0252 - val_cosine_proximity: -0.5753\n",
      "Epoch 38/50\n",
      "50000/50000 [==============================] - 5s 97us/step - loss: 0.0210 - cosine_proximity: -0.6360 - val_loss: 0.0240 - val_cosine_proximity: -0.5800\n",
      "Epoch 39/50\n",
      "50000/50000 [==============================] - 5s 97us/step - loss: 0.0207 - cosine_proximity: -0.6421 - val_loss: 0.0241 - val_cosine_proximity: -0.5826\n",
      "Epoch 40/50\n",
      "50000/50000 [==============================] - 5s 96us/step - loss: 0.0204 - cosine_proximity: -0.6471 - val_loss: 0.0241 - val_cosine_proximity: -0.5808\n",
      "Epoch 41/50\n",
      "50000/50000 [==============================] - 5s 97us/step - loss: 0.0202 - cosine_proximity: -0.6516 - val_loss: 0.0240 - val_cosine_proximity: -0.5823\n",
      "Epoch 42/50\n",
      "50000/50000 [==============================] - 5s 98us/step - loss: 0.0200 - cosine_proximity: -0.6567 - val_loss: 0.0242 - val_cosine_proximity: -0.5830\n",
      "Epoch 43/50\n",
      "50000/50000 [==============================] - 5s 97us/step - loss: 0.0197 - cosine_proximity: -0.6623 - val_loss: 0.0240 - val_cosine_proximity: -0.5854\n",
      "Epoch 44/50\n",
      "50000/50000 [==============================] - 5s 98us/step - loss: 0.0195 - cosine_proximity: -0.6656 - val_loss: 0.0239 - val_cosine_proximity: -0.5882\n",
      "Epoch 45/50\n",
      "50000/50000 [==============================] - 5s 97us/step - loss: 0.0193 - cosine_proximity: -0.6705 - val_loss: 0.0238 - val_cosine_proximity: -0.5905\n",
      "Epoch 46/50\n",
      "50000/50000 [==============================] - 5s 97us/step - loss: 0.0194 - cosine_proximity: -0.6689 - val_loss: 0.0238 - val_cosine_proximity: -0.5891\n",
      "Epoch 47/50\n",
      "50000/50000 [==============================] - 5s 97us/step - loss: 0.0193 - cosine_proximity: -0.6699 - val_loss: 0.0241 - val_cosine_proximity: -0.5916\n",
      "Epoch 48/50\n",
      "50000/50000 [==============================] - 5s 97us/step - loss: 0.0191 - cosine_proximity: -0.6744 - val_loss: 0.0247 - val_cosine_proximity: -0.5927\n",
      "Epoch 49/50\n",
      "50000/50000 [==============================] - 5s 97us/step - loss: 0.0188 - cosine_proximity: -0.6790 - val_loss: 0.0241 - val_cosine_proximity: -0.5941\n",
      "Epoch 50/50\n"
     ]
    },
    {
     "name": "stdout",
     "output_type": "stream",
     "text": [
      "50000/50000 [==============================] - 5s 97us/step - loss: 0.0188 - cosine_proximity: -0.6792 - val_loss: 0.0239 - val_cosine_proximity: -0.5988\n"
     ]
    },
    {
     "data": {
      "text/plain": [
       "<keras.callbacks.History at 0x7f8271574d68>"
      ]
     },
     "execution_count": 7,
     "metadata": {},
     "output_type": "execute_result"
    }
   ],
   "source": [
    "model.fit(train_x, train_y_embeddings, epochs=50, batch_size=128, validation_data=(test_x, test_y_embeddings))"
   ]
  },
  {
   "cell_type": "markdown",
   "metadata": {},
   "source": [
    "## Testing"
   ]
  },
  {
   "cell_type": "code",
   "execution_count": 8,
   "metadata": {},
   "outputs": [],
   "source": [
    "from sklearn.metrics.pairwise import cosine_similarity, euclidean_distances"
   ]
  },
  {
   "cell_type": "code",
   "execution_count": 9,
   "metadata": {},
   "outputs": [],
   "source": [
    "pred_test_y = model.predict(test_x)\n",
    "\n",
    "label_embeddings\n",
    "label_embeddings_arr = np.zeros((100, 300))\n",
    "for i in range(100):\n",
    "    label_embeddings_arr[i] = label_embeddings[i]"
   ]
  },
  {
   "cell_type": "code",
   "execution_count": 10,
   "metadata": {},
   "outputs": [],
   "source": [
    "#Top K Predictions\n",
    "def pred_top_k(k=5, pred_test_y=pred_test_y, label_embeddings_arr=label_embeddings_arr):\n",
    "    sim_table = cosine_similarity(pred_test_y, label_embeddings_arr)\n",
    "    top_k_guesses = np.argpartition(sim_table,range(99-k+1,100),axis=1)[:,99-k+1:]\n",
    "    return top_k_guesses\n",
    "\n",
    "\n",
    "#Top prediction\n",
    "sim_table = cosine_similarity(pred_test_y, label_embeddings_arr)\n",
    "label_predictions = sim_table.argmax(axis=1)\n",
    "label_predictions\n",
    "\n",
    "k=5\n",
    "top_k_guesses = pred_top_k(5)\n"
   ]
  },
  {
   "cell_type": "code",
   "execution_count": 11,
   "metadata": {},
   "outputs": [
    {
     "name": "stdout",
     "output_type": "stream",
     "text": [
      "Accuracy: 0.3103\n",
      "Top 5 Accuracy: 0.4837\n"
     ]
    }
   ],
   "source": [
    "#Accuracy\n",
    "acc = np.sum((np.squeeze(test_y) == label_predictions)) / float(test_y.shape[0])\n",
    "print(\"Accuracy: \" + str(acc))\n",
    "\n",
    "#Top k Accuracy\n",
    "\n",
    "def acc(top_k=top_k_guesses, test_y=test_y):\n",
    "    correct = 0\n",
    "    for i in range(test_y.shape[0]):\n",
    "        if np.squeeze(test_y)[i] in top_k[i]:\n",
    "            correct += 1\n",
    "    return correct/float(test_y.shape[0])\n",
    "\n",
    "print(\"Top \" + str(k) + \" Accuracy: \" + str(acc()))"
   ]
  },
  {
   "cell_type": "code",
   "execution_count": 12,
   "metadata": {},
   "outputs": [
    {
     "ename": "NameError",
     "evalue": "name 'p' is not defined",
     "output_type": "error",
     "traceback": [
      "\u001b[0;31m---------------------------------------------------------------------------\u001b[0m",
      "\u001b[0;31mNameError\u001b[0m                                 Traceback (most recent call last)",
      "\u001b[0;32m<ipython-input-12-d734c40886b7>\u001b[0m in \u001b[0;36m<module>\u001b[0;34m()\u001b[0m\n\u001b[1;32m      1\u001b[0m \u001b[0mx\u001b[0m \u001b[0;34m=\u001b[0m \u001b[0mny\u001b[0m \u001b[0;34m=\u001b[0m \u001b[0mnp\u001b[0m\u001b[0;34m.\u001b[0m\u001b[0mzeros\u001b[0m\u001b[0;34m(\u001b[0m\u001b[0;36m100\u001b[0m\u001b[0;34m)\u001b[0m\u001b[0;34m\u001b[0m\u001b[0m\n\u001b[1;32m      2\u001b[0m \u001b[0;34m\u001b[0m\u001b[0m\n\u001b[0;32m----> 3\u001b[0;31m \u001b[0mp\u001b[0m\u001b[0;34m.\u001b[0m\u001b[0mlinspace\u001b[0m\u001b[0;34m(\u001b[0m\u001b[0;36m0\u001b[0m\u001b[0;34m,\u001b[0m\u001b[0;36m99\u001b[0m\u001b[0;34m,\u001b[0m\u001b[0;36m100\u001b[0m\u001b[0;34m)\u001b[0m\u001b[0;34m\u001b[0m\u001b[0m\n\u001b[0m\u001b[1;32m      4\u001b[0m \u001b[0;32mfor\u001b[0m \u001b[0mi\u001b[0m \u001b[0;32min\u001b[0m \u001b[0mrange\u001b[0m\u001b[0;34m(\u001b[0m\u001b[0;36m100\u001b[0m\u001b[0;34m)\u001b[0m\u001b[0;34m:\u001b[0m\u001b[0;34m\u001b[0m\u001b[0m\n\u001b[1;32m      5\u001b[0m     \u001b[0mk\u001b[0m \u001b[0;34m=\u001b[0m \u001b[0mi\u001b[0m\u001b[0;34m+\u001b[0m\u001b[0;36m1\u001b[0m\u001b[0;34m\u001b[0m\u001b[0m\n",
      "\u001b[0;31mNameError\u001b[0m: name 'p' is not defined"
     ]
    }
   ],
   "source": [
    "x = ny = np.zeros(100)\n",
    "\n",
    "p.linspace(0,99,100)\n",
    "for i in range(100):\n",
    "    k = i+1\n",
    "    top_k_guesses = pred_top_k(k)\n",
    "    y[i] = acc(top_k_guesses, test_y)"
   ]
  },
  {
   "cell_type": "code",
   "execution_count": null,
   "metadata": {},
   "outputs": [],
   "source": [
    "plt.plot(x,y)\n",
    "plt.title(\"Top K Accuracy\")"
   ]
  },
  {
   "cell_type": "code",
   "execution_count": null,
   "metadata": {},
   "outputs": [],
   "source": []
  }
 ],
 "metadata": {
  "kernelspec": {
   "display_name": "Python 3",
   "language": "python",
   "name": "python3"
  },
  "language_info": {
   "codemirror_mode": {
    "name": "ipython",
    "version": 3
   },
   "file_extension": ".py",
   "mimetype": "text/x-python",
   "name": "python",
   "nbconvert_exporter": "python",
   "pygments_lexer": "ipython3",
   "version": "3.5.2"
  }
 },
 "nbformat": 4,
 "nbformat_minor": 1
}
