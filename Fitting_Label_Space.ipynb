{
 "cells": [
  {
   "cell_type": "markdown",
   "metadata": {},
   "source": [
    "## Training "
   ]
  },
  {
   "cell_type": "code",
   "execution_count": 1,
   "metadata": {},
   "outputs": [
    {
     "name": "stderr",
     "output_type": "stream",
     "text": [
      "Using TensorFlow backend.\n"
     ]
    }
   ],
   "source": [
    "import os\n",
    "import numpy as np\n",
    "import tensorflow as tf\n",
    "from keras.models import Sequential\n",
    "from keras.layers import Dense, BatchNormalization\n",
    "import pickle\n",
    "import sklearn\n",
    "%matplotlib inline\n",
    "import matplotlib.pyplot as plt"
   ]
  },
  {
   "cell_type": "code",
   "execution_count": 2,
   "metadata": {},
   "outputs": [],
   "source": [
    "#Loading data and embeddings\n",
    "label_embeddings = pickle.load(open(\"Data/Embeddings/CIFAR/CIFAR_100_label_to_embedding_google_news.pk\", \"rb\"))\n",
    "train_x = np.load(\"vgg_16/train_x.npy\").reshape((50000,-1))\n",
    "train_y = np.load(\"vgg_16/train_y.npy\")\n",
    "test_x = np.load(\"vgg_16/test_x.npy\").reshape((10000,-1))\n",
    "test_y = np.load(\"vgg_16/test_y.npy\")"
   ]
  },
  {
   "cell_type": "code",
   "execution_count": 3,
   "metadata": {},
   "outputs": [],
   "source": [
    "#Convert train/test labels to embeddings\n",
    "train_y_embeddings = np.zeros((50000, 300))\n",
    "test_y_embeddings = np.zeros((10000, 300))\n",
    "\n",
    "for i in range(train_y.shape[0]):\n",
    "    train_y_embeddings[i] = label_embeddings[int(train_y[i][0])]\n",
    "\n",
    "for i in range(test_y.shape[0]):\n",
    "    test_y_embeddings[i] = label_embeddings[int(test_y[i][0])]"
   ]
  },
  {
   "cell_type": "code",
   "execution_count": 4,
   "metadata": {},
   "outputs": [],
   "source": [
    "model = Sequential()\n",
    "\n",
    "model.add(Dense(512, activation='relu'))\n",
    "model.add(BatchNormalization())\n",
    "\n",
    "model.add(Dense(300, activation='relu'))\n",
    "model.add(BatchNormalization())\n",
    "\n",
    "model.add(Dense(300))\n",
    "\n",
    "model.compile(loss='mse', optimizer='adam', metrics=['cosine_proximity'])"
   ]
  },
  {
   "cell_type": "code",
   "execution_count": 5,
   "metadata": {
    "scrolled": true
   },
   "outputs": [
    {
     "name": "stdout",
     "output_type": "stream",
     "text": [
      "Train on 50000 samples, validate on 10000 samples\n",
      "Epoch 1/25\n",
      "50000/50000 [==============================] - 2s 47us/step - loss: 0.0520 - cosine_proximity: -0.5012 - val_loss: 0.0249 - val_cosine_proximity: -0.5790\n",
      "Epoch 2/25\n",
      "50000/50000 [==============================] - 1s 28us/step - loss: 0.0194 - cosine_proximity: -0.6821 - val_loss: 0.0216 - val_cosine_proximity: -0.6339\n",
      "Epoch 3/25\n",
      "50000/50000 [==============================] - 1s 28us/step - loss: 0.0163 - cosine_proximity: -0.7381 - val_loss: 0.0204 - val_cosine_proximity: -0.6558\n",
      "Epoch 4/25\n",
      "50000/50000 [==============================] - 2s 31us/step - loss: 0.0144 - cosine_proximity: -0.7718 - val_loss: 0.0198 - val_cosine_proximity: -0.6707\n",
      "Epoch 5/25\n",
      "50000/50000 [==============================] - 2s 31us/step - loss: 0.0131 - cosine_proximity: -0.7938 - val_loss: 0.0191 - val_cosine_proximity: -0.6791\n",
      "Epoch 6/25\n",
      "50000/50000 [==============================] - 1s 28us/step - loss: 0.0121 - cosine_proximity: -0.8106 - val_loss: 0.0189 - val_cosine_proximity: -0.6866\n",
      "Epoch 7/25\n",
      "50000/50000 [==============================] - 2s 30us/step - loss: 0.0114 - cosine_proximity: -0.8234 - val_loss: 0.0188 - val_cosine_proximity: -0.6898\n",
      "Epoch 8/25\n",
      "50000/50000 [==============================] - 1s 28us/step - loss: 0.0107 - cosine_proximity: -0.8339 - val_loss: 0.0185 - val_cosine_proximity: -0.6929\n",
      "Epoch 9/25\n",
      "50000/50000 [==============================] - 1s 29us/step - loss: 0.0103 - cosine_proximity: -0.8408 - val_loss: 0.0183 - val_cosine_proximity: -0.6972\n",
      "Epoch 10/25\n",
      "50000/50000 [==============================] - 1s 29us/step - loss: 0.0099 - cosine_proximity: -0.8476 - val_loss: 0.0184 - val_cosine_proximity: -0.6989\n",
      "Epoch 11/25\n",
      "50000/50000 [==============================] - 2s 31us/step - loss: 0.0096 - cosine_proximity: -0.8527 - val_loss: 0.0184 - val_cosine_proximity: -0.6999\n",
      "Epoch 12/25\n",
      "50000/50000 [==============================] - 1s 29us/step - loss: 0.0093 - cosine_proximity: -0.8580 - val_loss: 0.0181 - val_cosine_proximity: -0.7034\n",
      "Epoch 13/25\n",
      "50000/50000 [==============================] - 1s 29us/step - loss: 0.0091 - cosine_proximity: -0.8617 - val_loss: 0.0182 - val_cosine_proximity: -0.7034\n",
      "Epoch 14/25\n",
      "50000/50000 [==============================] - 2s 31us/step - loss: 0.0089 - cosine_proximity: -0.8652 - val_loss: 0.0179 - val_cosine_proximity: -0.7053\n",
      "Epoch 15/25\n",
      "50000/50000 [==============================] - 1s 29us/step - loss: 0.0087 - cosine_proximity: -0.8681 - val_loss: 0.0182 - val_cosine_proximity: -0.7011\n",
      "Epoch 16/25\n",
      "50000/50000 [==============================] - 1s 30us/step - loss: 0.0085 - cosine_proximity: -0.8706 - val_loss: 0.0179 - val_cosine_proximity: -0.7058\n",
      "Epoch 17/25\n",
      "50000/50000 [==============================] - 1s 29us/step - loss: 0.0083 - cosine_proximity: -0.8741 - val_loss: 0.0178 - val_cosine_proximity: -0.7092\n",
      "Epoch 18/25\n",
      "50000/50000 [==============================] - 1s 30us/step - loss: 0.0081 - cosine_proximity: -0.8764 - val_loss: 0.0178 - val_cosine_proximity: -0.7073\n",
      "Epoch 19/25\n",
      "50000/50000 [==============================] - 1s 29us/step - loss: 0.0080 - cosine_proximity: -0.8785 - val_loss: 0.0178 - val_cosine_proximity: -0.7100\n",
      "Epoch 20/25\n",
      "50000/50000 [==============================] - 1s 29us/step - loss: 0.0079 - cosine_proximity: -0.8810 - val_loss: 0.0180 - val_cosine_proximity: -0.7066\n",
      "Epoch 21/25\n",
      "50000/50000 [==============================] - 1s 29us/step - loss: 0.0077 - cosine_proximity: -0.8829 - val_loss: 0.0177 - val_cosine_proximity: -0.7094\n",
      "Epoch 22/25\n",
      "50000/50000 [==============================] - 1s 30us/step - loss: 0.0076 - cosine_proximity: -0.8842 - val_loss: 0.0175 - val_cosine_proximity: -0.7122\n",
      "Epoch 23/25\n",
      "50000/50000 [==============================] - 1s 30us/step - loss: 0.0075 - cosine_proximity: -0.8859 - val_loss: 0.0177 - val_cosine_proximity: -0.7111\n",
      "Epoch 24/25\n",
      "50000/50000 [==============================] - 1s 29us/step - loss: 0.0074 - cosine_proximity: -0.8877 - val_loss: 0.0178 - val_cosine_proximity: -0.7097\n",
      "Epoch 25/25\n",
      "50000/50000 [==============================] - 2s 31us/step - loss: 0.0073 - cosine_proximity: -0.8889 - val_loss: 0.0176 - val_cosine_proximity: -0.7117\n"
     ]
    },
    {
     "data": {
      "text/plain": [
       "<keras.callbacks.History at 0x7f42491f6c88>"
      ]
     },
     "execution_count": 5,
     "metadata": {},
     "output_type": "execute_result"
    }
   ],
   "source": [
    "epochs = 25\n",
    "batch_size = 128\n",
    "\n",
    "model.fit(train_x, train_y_embeddings, epochs=epochs, batch_size=batch_size, validation_data=(test_x, test_y_embeddings))"
   ]
  },
  {
   "cell_type": "markdown",
   "metadata": {},
   "source": [
    "## Testing"
   ]
  },
  {
   "cell_type": "code",
   "execution_count": 6,
   "metadata": {},
   "outputs": [],
   "source": [
    "from sklearn.metrics.pairwise import cosine_similarity, euclidean_distances"
   ]
  },
  {
   "cell_type": "code",
   "execution_count": 7,
   "metadata": {},
   "outputs": [],
   "source": [
    "pred_test_y = model.predict(test_x)\n",
    "\n",
    "label_embeddings\n",
    "label_embeddings_arr = np.zeros((100, 300))\n",
    "for i in range(100):\n",
    "    label_embeddings_arr[i] = label_embeddings[i]"
   ]
  },
  {
   "cell_type": "code",
   "execution_count": 8,
   "metadata": {},
   "outputs": [],
   "source": [
    "#Top K Predictions\n",
    "def pred_top_k(k=5, pred_test_y=pred_test_y, label_embeddings_arr=label_embeddings_arr):\n",
    "    sim_table = cosine_similarity(pred_test_y, label_embeddings_arr)\n",
    "    top_k_guesses = np.argpartition(sim_table,range(99-k+1,100),axis=1)[:,99-k+1:]\n",
    "    return top_k_guesses\n",
    "\n",
    "\n",
    "#Top prediction\n",
    "sim_table = cosine_similarity(pred_test_y, label_embeddings_arr)\n",
    "label_predictions = sim_table.argmax(axis=1)\n",
    "label_predictions\n",
    "\n",
    "k=5\n",
    "top_k_guesses = pred_top_k(5)"
   ]
  },
  {
   "cell_type": "code",
   "execution_count": 9,
   "metadata": {},
   "outputs": [
    {
     "name": "stdout",
     "output_type": "stream",
     "text": [
      "Accuracy: 0.5206\n",
      "Top 5 Accuracy: 0.6917\n"
     ]
    }
   ],
   "source": [
    "#Accuracy\n",
    "acc = np.sum((np.squeeze(test_y) == label_predictions)) / float(test_y.shape[0])\n",
    "print(\"Accuracy: \" + str(acc))\n",
    "\n",
    "#Top k Accuracy\n",
    "\n",
    "def acc(top_k=top_k_guesses, test_y=test_y):\n",
    "    correct = 0\n",
    "    for i in range(test_y.shape[0]):\n",
    "        if np.squeeze(test_y)[i] in top_k[i]:\n",
    "            correct += 1\n",
    "    return correct/float(test_y.shape[0])\n",
    "\n",
    "print(\"Top \" + str(k) + \" Accuracy: \" + str(acc()))"
   ]
  },
  {
   "cell_type": "code",
   "execution_count": 10,
   "metadata": {},
   "outputs": [],
   "source": [
    "x = np.linspace(0,99,100) \n",
    "y=np.zeros(100)\n",
    "\n",
    "for i in range(100):\n",
    "    k = i+1\n",
    "    top_k_guesses = pred_top_k(k)\n",
    "    y[i] = acc(top_k_guesses, test_y)"
   ]
  },
  {
   "cell_type": "code",
   "execution_count": 11,
   "metadata": {},
   "outputs": [
    {
     "data": {
      "text/plain": [
       "Text(0.5, 1.0, 'Top K Accuracy')"
      ]
     },
     "execution_count": 11,
     "metadata": {},
     "output_type": "execute_result"
    },
    {
     "data": {
      "image/png": "[encoded data removed]",
      "text/plain": [
       "<Figure size 432x288 with 1 Axes>"
      ]
     },
     "metadata": {
      "needs_background": "light"
     },
     "output_type": "display_data"
    }
   ],
   "source": [
    "plt.plot(x,y)\n",
    "plt.title(\"Top K Accuracy\")"
   ]
  }
 ],
 "metadata": {
  "kernelspec": {
   "display_name": "Python 3",
   "language": "python",
   "name": "python3"
  },
  "language_info": {
   "codemirror_mode": {
    "name": "ipython",
    "version": 3
   },
   "file_extension": ".py",
   "mimetype": "text/x-python",
   "name": "python",
   "nbconvert_exporter": "python",
   "pygments_lexer": "ipython3",
   "version": "3.5.2"
  }
 },
 "nbformat": 4,
 "nbformat_minor": 1
}
