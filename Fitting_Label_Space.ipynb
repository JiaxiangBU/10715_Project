{
 "cells": [
  {
   "cell_type": "markdown",
   "metadata": {},
   "source": [
    "## Training "
   ]
  },
  {
   "cell_type": "code",
   "execution_count": 453,
   "metadata": {
    "collapsed": false
   },
   "outputs": [],
   "source": [
    "import os\n",
    "import numpy as np\n",
    "import tensorflow as tf\n",
    "from keras.models import Sequential\n",
    "from keras.layers import Dense\n",
    "import pickle\n",
    "import sklearn\n",
    "%matplotlib inline\n",
    "import matplotlib.pyplot as plt"
   ]
  },
  {
   "cell_type": "code",
   "execution_count": 39,
   "metadata": {
    "collapsed": false
   },
   "outputs": [
    {
     "name": "stdout",
     "output_type": "stream",
     "text": [
      "(10000, 1)\n"
     ]
    }
   ],
   "source": [
    "#Loading data and embeddings\n",
    "label_embeddings = pickle.load(open(\"Data/Embeddings/CIFAR/CIFAR_100_label_to_embedding_google_news.pk\", \"rb\"))\n",
    "train_x = np.load(\"vgg_16/train_x.npy\").reshape((50000,8192))\n",
    "train_y = np.load(\"vgg_16/train_y.npy\")\n",
    "test_x = np.load(\"vgg_16/test_x.npy\").reshape((10000,8192))\n",
    "test_y = np.load(\"vgg_16/test_y.npy\")\n"
   ]
  },
  {
   "cell_type": "code",
   "execution_count": 184,
   "metadata": {
    "collapsed": false
   },
   "outputs": [],
   "source": [
    "#Convert train/test labels to embeddings\n",
    "train_y_embeddings = np.zeros((50000, 300))\n",
    "test_y_embeddings = np.zeros((10000, 300))\n",
    "\n",
    "for i in range(train_y.shape[0]):\n",
    "    train_y_embeddings[i] = label_embeddings[int(train_y[i][0])]\n",
    "\n",
    "for i in range(test_y.shape[0]):\n",
    "    test_y_embeddings[i] = label_embeddings[int(test_y[i][0])]"
   ]
  },
  {
   "cell_type": "code",
   "execution_count": 275,
   "metadata": {
    "collapsed": false
   },
   "outputs": [],
   "source": [
    "model = Sequential()\n",
    "model.add(Dense(300, input_dim=8192, activation='relu'))\n",
    "model.add(Dense(300, input_dim=300, activation='relu'))\n",
    "#model.add(Dense(300, input_dim=300, activation='relu'))\n",
    "model.add(Dense(300, input_dim=300, activation='tanh'))"
   ]
  },
  {
   "cell_type": "code",
   "execution_count": 276,
   "metadata": {
    "collapsed": false
   },
   "outputs": [],
   "source": [
    "model.compile(loss='mean_squared_error', optimizer='adam', metrics=['accuracy'])"
   ]
  },
  {
   "cell_type": "code",
   "execution_count": 277,
   "metadata": {
    "collapsed": false
   },
   "outputs": [
    {
     "name": "stdout",
     "output_type": "stream",
     "text": [
      "Epoch 1/3\n",
      "50000/50000 [==============================] - 50s 998us/step - loss: 0.0281 - acc: 0.0900\n",
      "Epoch 2/3\n",
      "50000/50000 [==============================] - 51s 1ms/step - loss: 0.0257 - acc: 0.1364\n",
      "Epoch 3/3\n",
      "50000/50000 [==============================] - 54s 1ms/step - loss: 0.0251 - acc: 0.1526\n"
     ]
    },
    {
     "data": {
      "text/plain": [
       "<keras.callbacks.History at 0x2037af990>"
      ]
     },
     "execution_count": 277,
     "metadata": {},
     "output_type": "execute_result"
    }
   ],
   "source": [
    "model.fit(train_x, train_y_embeddings, epochs=3, batch_size=64)"
   ]
  },
  {
   "cell_type": "code",
   "execution_count": 304,
   "metadata": {
    "collapsed": false
   },
   "outputs": [
    {
     "name": "stdout",
     "output_type": "stream",
     "text": [
      "Epoch 1/1\n",
      "50000/50000 [==============================] - 53s 1ms/step - loss: 0.0239 - acc: 0.1825\n"
     ]
    },
    {
     "data": {
      "text/plain": [
       "<keras.callbacks.History at 0x129651310>"
      ]
     },
     "execution_count": 304,
     "metadata": {},
     "output_type": "execute_result"
    }
   ],
   "source": [
    "model.fit(train_x, train_y_embeddings, epochs=1, batch_size=64)"
   ]
  },
  {
   "cell_type": "markdown",
   "metadata": {},
   "source": [
    "## Testing"
   ]
  },
  {
   "cell_type": "code",
   "execution_count": 344,
   "metadata": {
    "collapsed": false
   },
   "outputs": [],
   "source": [
    "from sklearn.metrics.pairwise import cosine_similarity, euclidean_distances"
   ]
  },
  {
   "cell_type": "code",
   "execution_count": 345,
   "metadata": {
    "collapsed": true
   },
   "outputs": [],
   "source": [
    "pred_test_y = model.predict(test_x)\n",
    "\n",
    "label_embeddings\n",
    "label_embeddings_arr = np.zeros((100, 300))\n",
    "for i in range(100):\n",
    "    label_embeddings_arr[i] = label_embeddings[i]"
   ]
  },
  {
   "cell_type": "code",
   "execution_count": 470,
   "metadata": {
    "collapsed": false
   },
   "outputs": [
    {
     "data": {
      "text/plain": [
       "array([[83, 92, 53, 57,  0],\n",
       "       [40, 10, 16,  9, 28],\n",
       "       [79, 81, 66,  7, 44],\n",
       "       ..., \n",
       "       [93, 79, 81, 66, 44],\n",
       "       [79, 93, 81, 44, 66],\n",
       "       [12,  8, 13, 90, 82]])"
      ]
     },
     "execution_count": 470,
     "metadata": {},
     "output_type": "execute_result"
    }
   ],
   "source": [
    "#Top K Predictions\n",
    "def pred_top_k(k=5, pred_test_y=pred_test_y, label_embeddings_arr=label_embeddings_arr):\n",
    "    sim_table = cosine_similarity(pred_test_y, label_embeddings_arr)\n",
    "    top_k_guesses = np.argpartition(sim_table,range(99-k+1,100),axis=1)[:,99-k+1:]\n",
    "    return top_k_guesses\n",
    "\n",
    "\n",
    "#Top prediction\n",
    "label_predictions = sim_table.argmax(axis=1)\n",
    "label_predictions\n",
    "\n",
    "pred_top_k(5)\n"
   ]
  },
  {
   "cell_type": "code",
   "execution_count": 431,
   "metadata": {
    "collapsed": false
   },
   "outputs": [
    {
     "name": "stdout",
     "output_type": "stream",
     "text": [
      "Accuracy: 0.1965\n",
      "Top 5 Accuracy: 0.3498\n"
     ]
    }
   ],
   "source": [
    "#Accuracy\n",
    "acc = np.sum((np.squeeze(test_y) == label_predictions)) / float(test_y.shape[0])\n",
    "print(\"Accuracy: \" + str(acc))\n",
    "\n",
    "#Top k Accuracy\n",
    "\n",
    "def acc(top_k=top_k_guesses, test_y=test_y):\n",
    "    correct = 0\n",
    "    for i in range(test_y.shape[0]):\n",
    "        if np.squeeze(test_y)[i] in top_k[i]:\n",
    "            correct += 1\n",
    "    return correct/float(test_y.shape[0])\n",
    "\n",
    "print(\"Top \" + str(k) + \" Accuracy: \" + str(acc()))"
   ]
  },
  {
   "cell_type": "code",
   "execution_count": 471,
   "metadata": {
    "collapsed": false
   },
   "outputs": [],
   "source": [
    "x = ny = np.zeros(100)\n",
    "\n",
    "p.linspace(0,99,100)\n",
    "for i in range(100):\n",
    "    k = i+1\n",
    "    top_k_guesses = pred_top_k(k)\n",
    "    y[i] = acc(top_k_guesses, test_y)"
   ]
  },
  {
   "cell_type": "code",
   "execution_count": 475,
   "metadata": {
    "collapsed": false
   },
   "outputs": [
    {
     "data": {
      "text/plain": [
       "<matplotlib.text.Text at 0x260966b90>"
      ]
     },
     "execution_count": 475,
     "metadata": {},
     "output_type": "execute_result"
    },
    {
     "data": {
      "image/png": "[encoded data removed]",
      "text/plain": [
       "<matplotlib.figure.Figure at 0x2604a7390>"
      ]
     },
     "metadata": {},
     "output_type": "display_data"
    }
   ],
   "source": [
    "plt.plot(x,y)\n",
    "plt.title(\"Top K Accuracy\")"
   ]
  },
  {
   "cell_type": "code",
   "execution_count": null,
   "metadata": {
    "collapsed": true
   },
   "outputs": [],
   "source": []
  }
 ],
 "metadata": {
  "kernelspec": {
   "display_name": "Python [Root]",
   "language": "python",
   "name": "Python [Root]"
  },
  "language_info": {
   "codemirror_mode": {
    "name": "ipython",
    "version": 2
   },
   "file_extension": ".py",
   "mimetype": "text/x-python",
   "name": "python",
   "nbconvert_exporter": "python",
   "pygments_lexer": "ipython2",
   "version": "2.7.12"
  }
 },
 "nbformat": 4,
 "nbformat_minor": 0
}
