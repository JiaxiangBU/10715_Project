{
 "cells": [
  {
   "cell_type": "code",
   "execution_count": 1,
   "metadata": {},
   "outputs": [
    {
     "name": "stderr",
     "output_type": "stream",
     "text": [
      "Using TensorFlow backend.\n"
     ]
    }
   ],
   "source": [
    "import os\n",
    "import numpy as np\n",
    "import tensorflow as tf\n",
    "from keras.models import Sequential\n",
    "from keras.layers import Dense, BatchNormalization\n",
    "import pickle\n",
    "import sklearn\n",
    "from sklearn.metrics.pairwise import cosine_similarity, euclidean_distances\n",
    "%matplotlib inline\n",
    "import matplotlib.pyplot as plt"
   ]
  },
  {
   "cell_type": "code",
   "execution_count": 2,
   "metadata": {},
   "outputs": [],
   "source": [
    "# Loading data and embeddings\n",
    "\n",
    "# label_embeddings = pickle.load(open(\"Data/Embeddings/CIFAR/CIFAR_100_label_to_embedding_google_news.pk\", \"rb\"))\n",
    "label_embeddings = pickle.load(open(\"Data/Embeddings/CIFAR/CIFAR_100_label_to_embedding_wordnet.pk\", \"rb\"))\n",
    "embedding_len = len(label_embeddings[0])\n",
    "\n",
    "train_x = np.load(\"vgg_16/train_x.npy\").reshape((50000,-1))\n",
    "train_y = np.load(\"vgg_16/train_y.npy\")\n",
    "test_x = np.load(\"vgg_16/test_x.npy\").reshape((10000,-1))\n",
    "test_y = np.load(\"vgg_16/test_y.npy\")"
   ]
  },
  {
   "cell_type": "code",
   "execution_count": 3,
   "metadata": {},
   "outputs": [],
   "source": [
    "#Convert train/test labels to embeddings\n",
    "train_y_embeddings = np.zeros((50000, embedding_len))\n",
    "test_y_embeddings = np.zeros((10000, embedding_len))\n",
    "\n",
    "for i in range(train_y.shape[0]):\n",
    "    train_y_embeddings[i] = label_embeddings[int(train_y[i][0])]\n",
    "\n",
    "for i in range(test_y.shape[0]):\n",
    "    test_y_embeddings[i] = label_embeddings[int(test_y[i][0])]"
   ]
  },
  {
   "cell_type": "code",
   "execution_count": 4,
   "metadata": {},
   "outputs": [],
   "source": [
    "model = Sequential()\n",
    "\n",
    "model.add(Dense(512, activation='relu'))\n",
    "model.add(BatchNormalization())\n",
    "\n",
    "model.add(Dense(embedding_len, activation='relu'))\n",
    "model.add(BatchNormalization())\n",
    "\n",
    "model.add(Dense(embedding_len))\n",
    "\n",
    "model.compile(loss='mse', optimizer='adam', metrics=['cosine_proximity'])"
   ]
  },
  {
   "cell_type": "code",
   "execution_count": 5,
   "metadata": {},
   "outputs": [
    {
     "name": "stdout",
     "output_type": "stream",
     "text": [
      "Train on 50000 samples, validate on 10000 samples\n",
      "Epoch 1/10\n",
      "50000/50000 [==============================] - 3s 52us/step - loss: 0.0510 - cosine_proximity: -0.5098 - val_loss: 0.0240 - val_cosine_proximity: -0.5875\n",
      "Epoch 2/10\n",
      "50000/50000 [==============================] - 2s 34us/step - loss: 0.0192 - cosine_proximity: -0.6856 - val_loss: 0.0217 - val_cosine_proximity: -0.6312\n",
      "Epoch 3/10\n",
      "50000/50000 [==============================] - 2s 33us/step - loss: 0.0162 - cosine_proximity: -0.7402 - val_loss: 0.0202 - val_cosine_proximity: -0.6582\n",
      "Epoch 4/10\n",
      "50000/50000 [==============================] - 2s 34us/step - loss: 0.0143 - cosine_proximity: -0.7731 - val_loss: 0.0196 - val_cosine_proximity: -0.6723\n",
      "Epoch 5/10\n",
      "50000/50000 [==============================] - 2s 34us/step - loss: 0.0131 - cosine_proximity: -0.7942 - val_loss: 0.0193 - val_cosine_proximity: -0.6783\n",
      "Epoch 6/10\n",
      "50000/50000 [==============================] - 2s 33us/step - loss: 0.0121 - cosine_proximity: -0.8106 - val_loss: 0.0192 - val_cosine_proximity: -0.6819\n",
      "Epoch 7/10\n",
      "50000/50000 [==============================] - 2s 34us/step - loss: 0.0115 - cosine_proximity: -0.8220 - val_loss: 0.0188 - val_cosine_proximity: -0.6882\n",
      "Epoch 8/10\n",
      "50000/50000 [==============================] - 2s 34us/step - loss: 0.0110 - cosine_proximity: -0.8307 - val_loss: 0.0188 - val_cosine_proximity: -0.6908\n",
      "Epoch 9/10\n",
      "50000/50000 [==============================] - 2s 34us/step - loss: 0.0104 - cosine_proximity: -0.8391 - val_loss: 0.0186 - val_cosine_proximity: -0.6951\n",
      "Epoch 10/10\n",
      "50000/50000 [==============================] - 2s 34us/step - loss: 0.0101 - cosine_proximity: -0.8454 - val_loss: 0.0183 - val_cosine_proximity: -0.6987\n"
     ]
    },
    {
     "data": {
      "text/plain": [
       "<keras.callbacks.History at 0x7fbe70b7a4e0>"
      ]
     },
     "execution_count": 5,
     "metadata": {},
     "output_type": "execute_result"
    }
   ],
   "source": [
    "epochs = 10\n",
    "batch_size = 128\n",
    "\n",
    "model.fit(train_x, train_y_embeddings, epochs=epochs, batch_size=batch_size, validation_data=(test_x, test_y_embeddings))"
   ]
  },
  {
   "cell_type": "markdown",
   "metadata": {},
   "source": [
    "## Testing"
   ]
  },
  {
   "cell_type": "code",
   "execution_count": 6,
   "metadata": {},
   "outputs": [],
   "source": [
    "label_embeddings_arr = np.zeros((100, embedding_len))\n",
    "for i in range(100):\n",
    "    label_embeddings_arr[i] = label_embeddings[i]"
   ]
  },
  {
   "cell_type": "code",
   "execution_count": 7,
   "metadata": {},
   "outputs": [],
   "source": [
    "#Top K Predictions\n",
    "def pred_top_k(pred_test_y, k=5, label_embeddings_arr=label_embeddings_arr):\n",
    "    sim_table = cosine_similarity(pred_test_y, label_embeddings_arr)\n",
    "    top_k_guesses = np.argpartition(sim_table,range(99-k+1,100),axis=1)[:,99-k+1:]\n",
    "    return sim_table, top_k_guesses\n",
    "\n",
    "pred_test_y = model.predict(test_x)\n",
    "k = 5\n",
    "sim_table, top_k_guesses = pred_top_k(pred_test_y, k=k)\n",
    "\n",
    "#Top prediction\n",
    "label_predictions = sim_table.argmax(axis=1)"
   ]
  },
  {
   "cell_type": "code",
   "execution_count": 8,
   "metadata": {},
   "outputs": [
    {
     "name": "stdout",
     "output_type": "stream",
     "text": [
      "Accuracy: 0.513\n",
      "Top 5 Accuracy: 0.7038\n"
     ]
    }
   ],
   "source": [
    "#Accuracy\n",
    "acc = np.sum((np.squeeze(test_y) == label_predictions)) / float(test_y.shape[0])\n",
    "print(\"Accuracy: \" + str(acc))\n",
    "\n",
    "#Top k Accuracy\n",
    "def acc(top_k=top_k_guesses, test_y=test_y):\n",
    "    correct = 0\n",
    "    for i in range(test_y.shape[0]):\n",
    "        if np.squeeze(test_y)[i] in top_k[i]:\n",
    "            correct += 1\n",
    "    return correct/float(test_y.shape[0])\n",
    "\n",
    "print(\"Top \" + str(k) + \" Accuracy: \" + str(acc()))"
   ]
  },
  {
   "cell_type": "code",
   "execution_count": 9,
   "metadata": {},
   "outputs": [],
   "source": [
    "x = np.linspace(0,99,100) \n",
    "y=np.zeros(100)\n",
    "\n",
    "for i in range(100):\n",
    "    k = i+1\n",
    "    s, top_k_guesses = pred_top_k(pred_test_y, k=k)\n",
    "    y[i] = acc(top_k_guesses, test_y)"
   ]
  },
  {
   "cell_type": "code",
   "execution_count": 10,
   "metadata": {},
   "outputs": [
    {
     "data": {
      "text/plain": [
       "Text(0.5, 1.0, 'Top K Accuracy')"
      ]
     },
     "execution_count": 10,
     "metadata": {},
     "output_type": "execute_result"
    },
    {
     "data": {
      "image/png": "[encoded data removed]",
      "text/plain": [
       "<Figure size 432x288 with 1 Axes>"
      ]
     },
     "metadata": {
      "needs_background": "light"
     },
     "output_type": "display_data"
    }
   ],
   "source": [
    "plt.plot(x,y)\n",
    "plt.title(\"Top K Accuracy\")"
   ]
  }
 ],
 "metadata": {
  "kernelspec": {
   "display_name": "Python 3",
   "language": "python",
   "name": "python3"
  },
  "language_info": {
   "codemirror_mode": {
    "name": "ipython",
    "version": 3
   },
   "file_extension": ".py",
   "mimetype": "text/x-python",
   "name": "python",
   "nbconvert_exporter": "python",
   "pygments_lexer": "ipython3",
   "version": "3.5.2"
  }
 },
 "nbformat": 4,
 "nbformat_minor": 2
}
