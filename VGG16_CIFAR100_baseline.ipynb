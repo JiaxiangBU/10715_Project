{
 "cells": [
  {
   "cell_type": "code",
   "execution_count": 1,
   "metadata": {},
   "outputs": [
    {
     "name": "stderr",
     "output_type": "stream",
     "text": [
      "Using TensorFlow backend.\n"
     ]
    }
   ],
   "source": [
    "# Load pretrained model, and generate new transformed dataset by passing images through pretrained model \n",
    "import os\n",
    "import numpy as np\n",
    "from keras.preprocessing.image import ImageDataGenerator\n",
    "from keras.applications import VGG16\n",
    "from keras.datasets import cifar100\n",
    "from keras.models import Sequential, Model, load_model\n",
    "from keras.layers import Dense, Dropout, Activation, Flatten, BatchNormalization\n",
    "from keras.callbacks import ModelCheckpoint, EarlyStopping\n",
    "from keras.utils import to_categorical"
   ]
  },
  {
   "cell_type": "code",
   "execution_count": 2,
   "metadata": {},
   "outputs": [],
   "source": [
    "# Instantiate model \n",
    "conv_base = VGG16(weights='imagenet',include_top=False,input_shape=(32, 32, 3))\n",
    "for layer in conv_base.layers:\n",
    "    layer.trainable = False\n",
    "    \n",
    "top_model = Sequential()\n",
    "top_model.add(Flatten(input_shape=conv_base.output_shape[1:]))\n",
    "top_model.add(Dense(256, activation='relu'))\n",
    "top_model.add(BatchNormalization())\n",
    "top_model.add(Dense(256, activation='relu'))\n",
    "top_model.add(BatchNormalization())\n",
    "top_model.add(Dense(100, activation='softmax'))\n",
    "for layer in top_model.layers:\n",
    "    layer.trainable = True \n",
    "\n",
    "final_model = Model(inputs=conv_base.input, outputs=top_model(conv_base.output))\n",
    "final_model.compile(optimizer='adam', loss='categorical_crossentropy', metrics=['accuracy'])"
   ]
  },
  {
   "cell_type": "code",
   "execution_count": 3,
   "metadata": {},
   "outputs": [],
   "source": [
    "num_classes = 100\n",
    "(x_train, y_train), (x_test, y_test) = cifar100.load_data()\n",
    "y_train = to_categorical(y_train, num_classes)\n",
    "y_test = to_categorical(y_test, num_classes)"
   ]
  },
  {
   "cell_type": "code",
   "execution_count": 4,
   "metadata": {},
   "outputs": [],
   "source": [
    "batch_size = 32\n",
    "epochs = 50\n",
    "\n",
    "datagen = ImageDataGenerator(rescale=1./255)\n",
    "generator_train = datagen.flow(x_train, y_train, batch_size=batch_size)\n",
    "generator_test = datagen.flow(x_test, y_test, batch_size=batch_size)"
   ]
  },
  {
   "cell_type": "code",
   "execution_count": null,
   "metadata": {
    "scrolled": true
   },
   "outputs": [
    {
     "name": "stdout",
     "output_type": "stream",
     "text": [
      "Epoch 1/50\n",
      "1562/1562 [==============================] - 19s 12ms/step - loss: 3.1596 - acc: 0.2426 - val_loss: 2.8442 - val_acc: 0.2939\n",
      "Epoch 2/50\n",
      "1562/1562 [==============================] - 18s 11ms/step - loss: 2.7044 - acc: 0.3211 - val_loss: 2.7303 - val_acc: 0.3185\n",
      "Epoch 3/50\n",
      "1562/1562 [==============================] - 18s 11ms/step - loss: 2.5636 - acc: 0.3475 - val_loss: 2.6557 - val_acc: 0.3349\n",
      "Epoch 4/50\n",
      "1562/1562 [==============================] - 18s 11ms/step - loss: 2.4557 - acc: 0.3676 - val_loss: 2.6274 - val_acc: 0.3425\n",
      "Epoch 5/50\n",
      "1562/1562 [==============================] - 18s 11ms/step - loss: 2.3643 - acc: 0.3878 - val_loss: 2.6075 - val_acc: 0.3447\n",
      "Epoch 6/50\n",
      "1562/1562 [==============================] - 18s 11ms/step - loss: 2.2926 - acc: 0.4015 - val_loss: 2.6201 - val_acc: 0.3484\n",
      "Epoch 7/50\n",
      "1562/1562 [==============================] - 18s 11ms/step - loss: 2.2275 - acc: 0.4154 - val_loss: 2.5997 - val_acc: 0.3514\n",
      "Epoch 8/50\n",
      "1562/1562 [==============================] - 18s 11ms/step - loss: 2.1612 - acc: 0.4310 - val_loss: 2.6042 - val_acc: 0.3556\n",
      "Epoch 9/50\n",
      "1562/1562 [==============================] - 18s 11ms/step - loss: 2.1010 - acc: 0.4430 - val_loss: 2.6584 - val_acc: 0.3494\n",
      "Epoch 10/50\n",
      "1562/1562 [==============================] - 18s 11ms/step - loss: 2.0491 - acc: 0.4541 - val_loss: 2.6328 - val_acc: 0.3571\n",
      "Epoch 11/50\n",
      "1562/1562 [==============================] - 18s 11ms/step - loss: 1.9978 - acc: 0.4641 - val_loss: 2.6706 - val_acc: 0.3511\n",
      "Epoch 12/50\n",
      "1562/1562 [==============================] - 18s 11ms/step - loss: 1.9430 - acc: 0.4775 - val_loss: 2.7166 - val_acc: 0.3522\n",
      "Epoch 13/50\n",
      "1562/1562 [==============================] - 18s 11ms/step - loss: 1.9006 - acc: 0.4870 - val_loss: 2.7417 - val_acc: 0.3547\n",
      "Epoch 14/50\n",
      "1562/1562 [==============================] - 18s 11ms/step - loss: 1.8535 - acc: 0.4979 - val_loss: 2.7405 - val_acc: 0.3516\n",
      "Epoch 15/50\n",
      "1562/1562 [==============================] - 18s 11ms/step - loss: 1.8140 - acc: 0.5075 - val_loss: 2.8127 - val_acc: 0.3431\n",
      "Epoch 16/50\n",
      "1562/1562 [==============================] - 18s 11ms/step - loss: 1.7752 - acc: 0.5167 - val_loss: 2.7799 - val_acc: 0.3559\n",
      "Epoch 17/50\n",
      " 563/1562 [=========>....................] - ETA: 10s - loss: 1.6683 - acc: 0.5413"
     ]
    }
   ],
   "source": [
    "history = final_model.fit_generator(generator=generator_train,\n",
    "                                    steps_per_epoch=x_train.shape[0] // batch_size,\n",
    "                                    epochs=epochs,\n",
    "                                    validation_data=generator_test,\n",
    "                                    validation_steps=x_test.shape[0] // batch_size\n",
    "                                   )"
   ]
  }
 ],
 "metadata": {
  "kernelspec": {
   "display_name": "Python 3",
   "language": "python",
   "name": "python3"
  },
  "language_info": {
   "codemirror_mode": {
    "name": "ipython",
    "version": 3
   },
   "file_extension": ".py",
   "mimetype": "text/x-python",
   "name": "python",
   "nbconvert_exporter": "python",
   "pygments_lexer": "ipython3",
   "version": "3.5.2"
  }
 },
 "nbformat": 4,
 "nbformat_minor": 2
}
