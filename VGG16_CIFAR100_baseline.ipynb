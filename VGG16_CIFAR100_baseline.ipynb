{
 "cells": [
  {
   "cell_type": "code",
   "execution_count": 1,
   "metadata": {},
   "outputs": [
    {
     "name": "stderr",
     "output_type": "stream",
     "text": [
      "Using TensorFlow backend.\n"
     ]
    }
   ],
   "source": [
    "# Load pretrained model, and generate new transformed dataset by passing images through pretrained model \n",
    "import os\n",
    "import numpy as np\n",
    "from keras.preprocessing.image import ImageDataGenerator\n",
    "from keras.applications import VGG16\n",
    "from keras.datasets import cifar100\n",
    "from keras.models import Sequential, Model, load_model\n",
    "from keras.layers import Dense, Dropout, Activation, Flatten, BatchNormalization\n",
    "from keras.callbacks import ModelCheckpoint, EarlyStopping"
   ]
  },
  {
   "cell_type": "code",
   "execution_count": 2,
   "metadata": {},
   "outputs": [],
   "source": [
    "def unpickle(file):\n",
    "    import pickle\n",
    "    with open(file, 'rb') as fo:\n",
    "        dict = pickle.load(fo, encoding='bytes')\n",
    "    return dict"
   ]
  },
  {
   "cell_type": "code",
   "execution_count": 3,
   "metadata": {},
   "outputs": [],
   "source": [
    "def one_hot(y):\n",
    "    num_classes = 100\n",
    "    num_examples = len(y)\n",
    "    result = np.zeros((num_examples, num_classes))\n",
    "    result[np.arange(num_examples), y.flatten()] = 1\n",
    "    return result"
   ]
  },
  {
   "cell_type": "code",
   "execution_count": 6,
   "metadata": {},
   "outputs": [],
   "source": [
    "# Instantiate model \n",
    "conv_base = VGG16(weights='imagenet',include_top=False,input_shape=(32, 32, 3))\n",
    "for layer in conv_base.layers:\n",
    "    layer.trainable = False\n",
    "    \n",
    "top_model = Sequential()\n",
    "top_model.add(Flatten(input_shape=conv_base.output_shape[1:]))\n",
    "top_model.add(Dense(256, activation='relu'))\n",
    "top_model.add(Dense(256, activation='relu'))\n",
    "top_model.add(Dense(100, activation='softmax'))\n",
    "for layer in top_model.layers:\n",
    "    layer.trainable = True \n",
    "\n",
    "final_model = Model(inputs=conv_base.input, outputs=top_model(conv_base.output))\n",
    "final_model.compile(optimizer='adam', loss='categorical_crossentropy', metrics=['accuracy'])"
   ]
  },
  {
   "cell_type": "code",
   "execution_count": null,
   "metadata": {},
   "outputs": [
    {
     "name": "stdout",
     "output_type": "stream",
     "text": [
      "Epoch 1/10\n",
      "1562/1562 [==============================] - 15s 10ms/step - loss: 3.1883 - acc: 0.2315 - val_loss: 13.0374 - val_acc: 0.1706\n",
      "Epoch 2/10\n",
      "1562/1562 [==============================] - 15s 9ms/step - loss: 2.6958 - acc: 0.3229 - val_loss: 13.1462 - val_acc: 0.1662\n",
      "Epoch 3/10\n",
      "1562/1562 [==============================] - 15s 9ms/step - loss: 2.5308 - acc: 0.3508 - val_loss: 13.0734 - val_acc: 0.1715\n",
      "Epoch 4/10\n",
      "1562/1562 [==============================] - 15s 9ms/step - loss: 2.4212 - acc: 0.3747 - val_loss: 13.1339 - val_acc: 0.1688\n",
      "Epoch 5/10\n",
      "1562/1562 [==============================] - 15s 9ms/step - loss: 2.3287 - acc: 0.3946 - val_loss: 13.1318 - val_acc: 0.1699\n",
      "Epoch 6/10\n",
      "1556/1562 [============================>.] - ETA: 0s - loss: 2.2504 - acc: 0.4123"
     ]
    }
   ],
   "source": [
    "(x_train, y_train), (x_test, y_test) = cifar100.load_data()\n",
    "y_train_oh = one_hot(y_train)\n",
    "y_test_oh = one_hot(y_test)\n",
    "\n",
    "datagen = ImageDataGenerator(rescale=1./255)\n",
    "\n",
    "batch_size = 32\n",
    "epochs = 50\n",
    "generator = datagen.flow(x_train, y_train_oh, batch_size=batch_size)\n",
    "\n",
    "history = final_model.fit_generator(generator,\n",
    "                                    steps_per_epoch=x_train.shape[0] // batch_size,\n",
    "                                    epochs=epochs,\n",
    "                                    validation_data=(x_test, y_test_oh)\n",
    "                                   )"
   ]
  }
 ],
 "metadata": {
  "kernelspec": {
   "display_name": "Python 3",
   "language": "python",
   "name": "python3"
  },
  "language_info": {
   "codemirror_mode": {
    "name": "ipython",
    "version": 3
   },
   "file_extension": ".py",
   "mimetype": "text/x-python",
   "name": "python",
   "nbconvert_exporter": "python",
   "pygments_lexer": "ipython3",
   "version": "3.5.2"
  }
 },
 "nbformat": 4,
 "nbformat_minor": 2
}
