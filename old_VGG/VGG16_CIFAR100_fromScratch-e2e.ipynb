{
 "cells": [
  {
   "cell_type": "code",
   "execution_count": 1,
   "metadata": {},
   "outputs": [
    {
     "name": "stderr",
     "output_type": "stream",
     "text": [
      "Using TensorFlow backend.\n"
     ]
    }
   ],
   "source": [
    "# Load pretrained model, and generate new transformed dataset by passing images through pretrained model \n",
    "import os\n",
    "import pickle\n",
    "import numpy as np\n",
    "from keras.preprocessing.image import ImageDataGenerator\n",
    "from keras.applications import VGG16\n",
    "from keras.datasets import cifar100\n",
    "from keras.models import Sequential, Model, load_model\n",
    "from keras.layers import Conv2D, MaxPooling2D, Dense, Dropout, Activation, Flatten, BatchNormalization\n",
    "from keras.callbacks import ModelCheckpoint, EarlyStopping\n",
    "from keras.utils import to_categorical"
   ]
  },
  {
   "cell_type": "code",
   "execution_count": 2,
   "metadata": {},
   "outputs": [],
   "source": [
    "num_classes = 100\n",
    "batch_size = 128\n",
    "epochs = 15\n",
    "\n",
    "(x_train, y_train), (x_test, y_test) = cifar100.load_data()\n",
    "y_train_onehot = to_categorical(y_train, num_classes)\n",
    "y_test_onehot = to_categorical(y_test, num_classes)"
   ]
  },
  {
   "cell_type": "code",
   "execution_count": 3,
   "metadata": {},
   "outputs": [],
   "source": [
    "label_embeddings = pickle.load(open(\"Data/Embeddings/CIFAR/CIFAR_100_label_to_embedding_google_news.pk\", \"rb\"))\n",
    "embedding_len = len(label_embeddings[0])\n",
    "\n",
    "y_train_embeddings = np.zeros((len(y_train), embedding_len))\n",
    "y_test_embeddings = np.zeros((len(y_test), embedding_len))\n",
    "\n",
    "for i in range(y_train.shape[0]):\n",
    "    y_train_embeddings[i] = label_embeddings[int(y_train[i][0])]\n",
    "\n",
    "for i in range(y_test.shape[0]):\n",
    "    y_test_embeddings[i] = label_embeddings[int(y_test[i][0])]"
   ]
  },
  {
   "cell_type": "code",
   "execution_count": 4,
   "metadata": {},
   "outputs": [],
   "source": [
    "# datagen = ImageDataGenerator(rescale=1./255)\n",
    "datagen = ImageDataGenerator()\n",
    "generator_train = datagen.flow(x_train, y_train_embeddings, batch_size=batch_size, seed=0)\n",
    "generator_test = datagen.flow(x_test, y_test_embeddings, batch_size=batch_size, seed=0)"
   ]
  },
  {
   "cell_type": "code",
   "execution_count": 5,
   "metadata": {},
   "outputs": [],
   "source": [
    "def _build_model():\n",
    "    model = Sequential()\n",
    "\n",
    "    model.add(Conv2D(64, (3, 3), padding='same',input_shape=x_train[0].shape))\n",
    "    model.add(Activation('relu'))\n",
    "    model.add(BatchNormalization())\n",
    "#     model.add(Dropout(0.3))\n",
    "\n",
    "    model.add(Conv2D(64, (3, 3), padding='same'))\n",
    "    model.add(Activation('relu'))\n",
    "    model.add(BatchNormalization())\n",
    "\n",
    "    model.add(MaxPooling2D(pool_size=(2, 2)))\n",
    "\n",
    "    model.add(Conv2D(128, (3, 3), padding='same'))\n",
    "    model.add(Activation('relu'))\n",
    "    model.add(BatchNormalization())\n",
    "#     model.add(Dropout(0.4))\n",
    "\n",
    "    model.add(Conv2D(128, (3, 3), padding='same'))\n",
    "    model.add(Activation('relu'))\n",
    "    model.add(BatchNormalization())\n",
    "\n",
    "    model.add(MaxPooling2D(pool_size=(2, 2)))\n",
    "\n",
    "    model.add(Conv2D(256, (3, 3), padding='same'))\n",
    "    model.add(Activation('relu'))\n",
    "    model.add(BatchNormalization())\n",
    "#     model.add(Dropout(0.4))\n",
    "\n",
    "    model.add(Conv2D(256, (3, 3), padding='same'))\n",
    "    model.add(Activation('relu'))\n",
    "    model.add(BatchNormalization())\n",
    "#     model.add(Dropout(0.4))\n",
    "\n",
    "    model.add(Conv2D(256, (3, 3), padding='same'))\n",
    "    model.add(Activation('relu'))\n",
    "    model.add(BatchNormalization())\n",
    "\n",
    "    model.add(MaxPooling2D(pool_size=(2, 2)))\n",
    "\n",
    "\n",
    "    model.add(Conv2D(512, (3, 3), padding='same'))\n",
    "    model.add(Activation('relu'))\n",
    "    model.add(BatchNormalization())\n",
    "#     model.add(Dropout(0.4))\n",
    "\n",
    "    model.add(Conv2D(512, (3, 3), padding='same'))\n",
    "    model.add(Activation('relu'))\n",
    "    model.add(BatchNormalization())\n",
    "#     model.add(Dropout(0.4))\n",
    "\n",
    "    model.add(Conv2D(512, (3, 3), padding='same'))\n",
    "    model.add(Activation('relu'))\n",
    "    model.add(BatchNormalization())\n",
    "\n",
    "    model.add(MaxPooling2D(pool_size=(2, 2)))\n",
    "\n",
    "    model.add(Conv2D(512, (3, 3), padding='same'))\n",
    "    model.add(Activation('relu'))\n",
    "    model.add(BatchNormalization())\n",
    "#     model.add(Dropout(0.4))\n",
    "\n",
    "    model.add(Conv2D(512, (3, 3), padding='same'))\n",
    "    model.add(Activation('relu'))\n",
    "    model.add(BatchNormalization())\n",
    "#     model.add(Dropout(0.4))\n",
    "\n",
    "    model.add(Conv2D(512, (3, 3), padding='same'))\n",
    "    model.add(Activation('relu'))\n",
    "    model.add(BatchNormalization())\n",
    "\n",
    "    model.add(MaxPooling2D(pool_size=(2, 2)))\n",
    "#     model.add(Dropout(0.5))\n",
    "\n",
    "    model.add(Flatten())\n",
    "    \n",
    "    model.add(Dense(512, activation='relu'))\n",
    "    model.add(BatchNormalization())\n",
    "\n",
    "    model.add(Dense(embedding_len, activation='relu'))\n",
    "    model.add(BatchNormalization())\n",
    "\n",
    "    model.add(Dense(embedding_len))\n",
    "\n",
    "    return model"
   ]
  },
  {
   "cell_type": "code",
   "execution_count": 6,
   "metadata": {
    "scrolled": true
   },
   "outputs": [
    {
     "name": "stdout",
     "output_type": "stream",
     "text": [
      "Epoch 1/15\n",
      "390/390 [==============================] - 26s 66ms/step - loss: 0.0462 - cosine_proximity: -0.3721 - val_loss: 0.0319 - val_cosine_proximity: -0.3918\n",
      "Epoch 2/15\n",
      "390/390 [==============================] - 23s 59ms/step - loss: 0.0298 - cosine_proximity: -0.4318 - val_loss: 0.0306 - val_cosine_proximity: -0.4150\n",
      "Epoch 3/15\n",
      "390/390 [==============================] - 23s 59ms/step - loss: 0.0291 - cosine_proximity: -0.4511 - val_loss: 0.0302 - val_cosine_proximity: -0.4359\n",
      "Epoch 4/15\n",
      "390/390 [==============================] - 23s 60ms/step - loss: 0.0284 - cosine_proximity: -0.4713 - val_loss: 0.0288 - val_cosine_proximity: -0.4665\n",
      "Epoch 5/15\n",
      "390/390 [==============================] - 23s 60ms/step - loss: 0.0274 - cosine_proximity: -0.4968 - val_loss: 0.0288 - val_cosine_proximity: -0.4700\n",
      "Epoch 6/15\n",
      "390/390 [==============================] - 23s 60ms/step - loss: 0.0262 - cosine_proximity: -0.5264 - val_loss: 0.0266 - val_cosine_proximity: -0.5236\n",
      "Epoch 7/15\n",
      "390/390 [==============================] - 23s 60ms/step - loss: 0.0249 - cosine_proximity: -0.5561 - val_loss: 0.0257 - val_cosine_proximity: -0.5372\n",
      "Epoch 8/15\n",
      "390/390 [==============================] - 23s 60ms/step - loss: 0.0234 - cosine_proximity: -0.5886 - val_loss: 0.0247 - val_cosine_proximity: -0.5708\n",
      "Epoch 9/15\n",
      "390/390 [==============================] - 23s 60ms/step - loss: 0.0221 - cosine_proximity: -0.6174 - val_loss: 0.0237 - val_cosine_proximity: -0.5877\n",
      "Epoch 10/15\n",
      "390/390 [==============================] - 23s 60ms/step - loss: 0.0208 - cosine_proximity: -0.6448 - val_loss: 0.0252 - val_cosine_proximity: -0.5752\n",
      "Epoch 11/15\n",
      "390/390 [==============================] - 23s 60ms/step - loss: 0.0195 - cosine_proximity: -0.6713 - val_loss: 0.0237 - val_cosine_proximity: -0.6188\n",
      "Epoch 12/15\n",
      "390/390 [==============================] - 23s 60ms/step - loss: 0.0182 - cosine_proximity: -0.6957 - val_loss: 0.0237 - val_cosine_proximity: -0.6265\n",
      "Epoch 13/15\n",
      "390/390 [==============================] - 23s 60ms/step - loss: 0.0170 - cosine_proximity: -0.7177 - val_loss: 0.0225 - val_cosine_proximity: -0.6480\n",
      "Epoch 14/15\n",
      "390/390 [==============================] - 24s 61ms/step - loss: 0.0159 - cosine_proximity: -0.7387 - val_loss: 0.0262 - val_cosine_proximity: -0.6379\n",
      "Epoch 15/15\n",
      "390/390 [==============================] - 23s 60ms/step - loss: 0.0147 - cosine_proximity: -0.7597 - val_loss: 0.0200 - val_cosine_proximity: -0.6657\n"
     ]
    }
   ],
   "source": [
    "def get_model(retrain=True, save=True):\n",
    "    if retrain:\n",
    "        model = _build_model()\n",
    "        model.compile(loss='mse', optimizer='adam', metrics=['cosine_proximity'])\n",
    "        history = model.fit_generator(generator=generator_train,\n",
    "                                            steps_per_epoch=x_train.shape[0] // batch_size,\n",
    "                                            epochs=epochs,\n",
    "                                            validation_data=generator_test,\n",
    "                                            validation_steps=x_test.shape[0] // batch_size\n",
    "                                     )\n",
    "        if save:\n",
    "            model.save('models/VGG_CIFAR100_w2v.h5')                                     \n",
    "    else:\n",
    "        model = load_model('models/VGG_CIFAR100_w2v.h5')\n",
    "    return model\n",
    "\n",
    "model = get_model()\n",
    "# model = get_model(save=False)"
   ]
  },
  {
   "cell_type": "code",
   "execution_count": null,
   "metadata": {},
   "outputs": [
    {
     "name": "stdout",
     "output_type": "stream",
     "text": [
      "Epoch 1/15\n",
      "181/390 [============>.................] - ETA: 12s - loss: 0.0037 - cosine_proximity: -0.9446"
     ]
    }
   ],
   "source": [
    "history = model.fit_generator(generator=generator_train,\n",
    "                                    steps_per_epoch=x_train.shape[0] // batch_size,\n",
    "                                    epochs=epochs,\n",
    "                                    validation_data=generator_test,\n",
    "                                    validation_steps=x_test.shape[0] // batch_size\n",
    "                             )"
   ]
  },
  {
   "cell_type": "code",
   "execution_count": 11,
   "metadata": {},
   "outputs": [],
   "source": [
    "from sklearn.metrics.pairwise import cosine_similarity, euclidean_distances"
   ]
  },
  {
   "cell_type": "code",
   "execution_count": 12,
   "metadata": {},
   "outputs": [],
   "source": [
    "label_embeddings_arr = np.zeros((100, embedding_len))\n",
    "for i in range(100):\n",
    "    label_embeddings_arr[i] = label_embeddings[i]"
   ]
  },
  {
   "cell_type": "code",
   "execution_count": 21,
   "metadata": {},
   "outputs": [],
   "source": [
    "#Top K Predictions\n",
    "def pred_top_k(pred_test_y, k=5, label_embeddings_arr=label_embeddings_arr):\n",
    "    sim_table = cosine_similarity(pred_test_y, label_embeddings_arr)\n",
    "    top_k_guesses = np.argpartition(sim_table,range(99-k+1,100),axis=1)[:,99-k+1:]\n",
    "    return sim_table, top_k_guesses\n",
    "\n",
    "pred_test_y = model.predict(x_test)\n",
    "k = 5\n",
    "sim_table, top_k_guesses = pred_top_k(pred_test_y, k=k)\n",
    "\n",
    "#Top prediction\n",
    "label_predictions = sim_table.argmax(axis=1)"
   ]
  },
  {
   "cell_type": "code",
   "execution_count": 22,
   "metadata": {},
   "outputs": [
    {
     "name": "stdout",
     "output_type": "stream",
     "text": [
      "Accuracy: 0.4905\n",
      "Top 5 Accuracy: 0.6377\n"
     ]
    }
   ],
   "source": [
    "#Accuracy\n",
    "acc = np.sum((np.squeeze(y_test) == label_predictions)) / float(y_test.shape[0])\n",
    "print(\"Accuracy: \" + str(acc))\n",
    "\n",
    "#Top k Accuracy\n",
    "def acc(top_k=top_k_guesses, y_test=y_test):\n",
    "    correct = 0\n",
    "    for i in range(y_test.shape[0]):\n",
    "        if np.squeeze(y_test)[i] in top_k[i]:\n",
    "            correct += 1\n",
    "    return correct/float(y_test.shape[0])\n",
    "\n",
    "print(\"Top \" + str(k) + \" Accuracy: \" + str(acc()))"
   ]
  }
 ],
 "metadata": {
  "kernelspec": {
   "display_name": "Python 3",
   "language": "python",
   "name": "python3"
  },
  "language_info": {
   "codemirror_mode": {
    "name": "ipython",
    "version": 3
   },
   "file_extension": ".py",
   "mimetype": "text/x-python",
   "name": "python",
   "nbconvert_exporter": "python",
   "pygments_lexer": "ipython3",
   "version": "3.5.2"
  }
 },
 "nbformat": 4,
 "nbformat_minor": 2
}
