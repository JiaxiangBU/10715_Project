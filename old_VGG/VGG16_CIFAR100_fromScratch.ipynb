{
 "cells": [
  {
   "cell_type": "code",
   "execution_count": 1,
   "metadata": {},
   "outputs": [
    {
     "name": "stderr",
     "output_type": "stream",
     "text": [
      "Using TensorFlow backend.\n"
     ]
    }
   ],
   "source": [
    "# Load pretrained model, and generate new transformed dataset by passing images through pretrained model \n",
    "import os\n",
    "import numpy as np\n",
    "from keras.preprocessing.image import ImageDataGenerator\n",
    "from keras.applications import VGG16\n",
    "from keras.datasets import cifar100\n",
    "from keras.models import Sequential, Model, load_model\n",
    "from keras.layers import Conv2D, MaxPooling2D, Dense, Dropout, Activation, Flatten, BatchNormalization\n",
    "from keras.callbacks import ModelCheckpoint, EarlyStopping\n",
    "from keras.utils import to_categorical"
   ]
  },
  {
   "cell_type": "code",
   "execution_count": 2,
   "metadata": {},
   "outputs": [],
   "source": [
    "num_classes = 100\n",
    "batch_size = 128\n",
    "epochs = 15\n",
    "\n",
    "(x_train, y_train), (x_test, y_test) = cifar100.load_data()\n",
    "y_train_onehot = to_categorical(y_train, num_classes)\n",
    "y_test_onehot = to_categorical(y_test, num_classes)\n",
    "\n",
    "# datagen = ImageDataGenerator(rescale=1./255)\n",
    "datagen = ImageDataGenerator()\n",
    "generator_train = datagen.flow(x_train, y_train_onehot, batch_size=batch_size, seed=0)\n",
    "generator_test = datagen.flow(x_test, y_test_onehot, batch_size=batch_size, seed=0)"
   ]
  },
  {
   "cell_type": "code",
   "execution_count": 3,
   "metadata": {},
   "outputs": [],
   "source": [
    "def _build_model():\n",
    "    model = Sequential()\n",
    "\n",
    "    model.add(Conv2D(64, (3, 3), padding='same',input_shape=x_train[0].shape))\n",
    "    model.add(Activation('relu'))\n",
    "    model.add(BatchNormalization())\n",
    "#     model.add(Dropout(0.3))\n",
    "\n",
    "    model.add(Conv2D(64, (3, 3), padding='same'))\n",
    "    model.add(Activation('relu'))\n",
    "    model.add(BatchNormalization())\n",
    "\n",
    "    model.add(MaxPooling2D(pool_size=(2, 2)))\n",
    "\n",
    "    model.add(Conv2D(128, (3, 3), padding='same'))\n",
    "    model.add(Activation('relu'))\n",
    "    model.add(BatchNormalization())\n",
    "#     model.add(Dropout(0.4))\n",
    "\n",
    "    model.add(Conv2D(128, (3, 3), padding='same'))\n",
    "    model.add(Activation('relu'))\n",
    "    model.add(BatchNormalization())\n",
    "\n",
    "    model.add(MaxPooling2D(pool_size=(2, 2)))\n",
    "\n",
    "    model.add(Conv2D(256, (3, 3), padding='same'))\n",
    "    model.add(Activation('relu'))\n",
    "    model.add(BatchNormalization())\n",
    "#     model.add(Dropout(0.4))\n",
    "\n",
    "    model.add(Conv2D(256, (3, 3), padding='same'))\n",
    "    model.add(Activation('relu'))\n",
    "    model.add(BatchNormalization())\n",
    "#     model.add(Dropout(0.4))\n",
    "\n",
    "    model.add(Conv2D(256, (3, 3), padding='same'))\n",
    "    model.add(Activation('relu'))\n",
    "    model.add(BatchNormalization())\n",
    "\n",
    "    model.add(MaxPooling2D(pool_size=(2, 2)))\n",
    "\n",
    "\n",
    "    model.add(Conv2D(512, (3, 3), padding='same'))\n",
    "    model.add(Activation('relu'))\n",
    "    model.add(BatchNormalization())\n",
    "#     model.add(Dropout(0.4))\n",
    "\n",
    "    model.add(Conv2D(512, (3, 3), padding='same'))\n",
    "    model.add(Activation('relu'))\n",
    "    model.add(BatchNormalization())\n",
    "#     model.add(Dropout(0.4))\n",
    "\n",
    "    model.add(Conv2D(512, (3, 3), padding='same'))\n",
    "    model.add(Activation('relu'))\n",
    "    model.add(BatchNormalization())\n",
    "\n",
    "    model.add(MaxPooling2D(pool_size=(2, 2)))\n",
    "\n",
    "    model.add(Conv2D(512, (3, 3), padding='same'))\n",
    "    model.add(Activation('relu'))\n",
    "    model.add(BatchNormalization())\n",
    "#     model.add(Dropout(0.4))\n",
    "\n",
    "    model.add(Conv2D(512, (3, 3), padding='same'))\n",
    "    model.add(Activation('relu'))\n",
    "    model.add(BatchNormalization())\n",
    "#     model.add(Dropout(0.4))\n",
    "\n",
    "    model.add(Conv2D(512, (3, 3), padding='same'))\n",
    "    model.add(Activation('relu'))\n",
    "    model.add(BatchNormalization())\n",
    "\n",
    "    model.add(MaxPooling2D(pool_size=(2, 2)))\n",
    "#     model.add(Dropout(0.5))\n",
    "\n",
    "    model.add(Flatten())\n",
    "    model.add(Dense(512))\n",
    "    model.add(Activation('relu'))\n",
    "    model.add(BatchNormalization())\n",
    "\n",
    "#     model.add(Dropout(0.5))\n",
    "    model.add(Dense(num_classes))\n",
    "    model.add(Activation('softmax'))\n",
    "    \n",
    "    return model"
   ]
  },
  {
   "cell_type": "code",
   "execution_count": null,
   "metadata": {
    "scrolled": true
   },
   "outputs": [
    {
     "name": "stdout",
     "output_type": "stream",
     "text": [
      "Epoch 1/15\n",
      "390/390 [==============================] - 26s 67ms/step - loss: 3.7533 - acc: 0.1221 - val_loss: 3.9943 - val_acc: 0.1244\n",
      "Epoch 2/15\n",
      "390/390 [==============================] - 22s 57ms/step - loss: 2.9575 - acc: 0.2501 - val_loss: 3.2877 - val_acc: 0.2430\n",
      "Epoch 3/15\n",
      "390/390 [==============================] - 22s 56ms/step - loss: 2.4517 - acc: 0.3515 - val_loss: 3.0113 - val_acc: 0.2939\n",
      "Epoch 4/15\n",
      "390/390 [==============================] - 22s 56ms/step - loss: 2.0907 - acc: 0.4283 - val_loss: 2.7317 - val_acc: 0.3449\n",
      "Epoch 5/15\n",
      "390/390 [==============================] - 22s 56ms/step - loss: 1.8108 - acc: 0.4935 - val_loss: 2.4050 - val_acc: 0.3983\n",
      "Epoch 6/15\n",
      "390/390 [==============================] - 22s 55ms/step - loss: 1.5630 - acc: 0.5550 - val_loss: 2.1480 - val_acc: 0.4580\n",
      "Epoch 7/15\n",
      "390/390 [==============================] - 21s 55ms/step - loss: 1.3384 - acc: 0.6105 - val_loss: 2.1914 - val_acc: 0.4521\n",
      "Epoch 8/15\n",
      " 17/390 [>.............................] - ETA: 19s - loss: 1.1019 - acc: 0.6620"
     ]
    }
   ],
   "source": [
    "def get_model(retrain=True, save=True):\n",
    "    if retrain:\n",
    "        model = _build_model()\n",
    "        model.compile(optimizer='adam', loss='categorical_crossentropy', metrics=['accuracy'])\n",
    "        history = model.fit_generator(generator=generator_train,\n",
    "                                            steps_per_epoch=x_train.shape[0] // batch_size,\n",
    "                                            epochs=epochs,\n",
    "                                            validation_data=generator_test,\n",
    "                                            validation_steps=x_test.shape[0] // batch_size\n",
    "                                     )\n",
    "        if save:\n",
    "            model.save('models/VGG_CIFAR100.h5')                                     \n",
    "    else:\n",
    "        model = load_model('models/VGG_CIFAR100.h5')\n",
    "    return model\n",
    "\n",
    "model = get_model()\n",
    "# model = get_model(save=False)"
   ]
  },
  {
   "cell_type": "code",
   "execution_count": null,
   "metadata": {},
   "outputs": [],
   "source": [
    "def acc(top_k, y_true):\n",
    "    correct = 0\n",
    "    for i in range(y_true.shape[0]):\n",
    "        if y_true[i] in top_k[i]:\n",
    "            correct += 1\n",
    "    return correct/float(y_true.shape[0])"
   ]
  },
  {
   "cell_type": "code",
   "execution_count": null,
   "metadata": {},
   "outputs": [],
   "source": [
    "y_pred = model.predict(x_test)\n",
    "print(\"Accuracy: %f\" % (np.sum(np.argmax(y_pred, axis=1) == y_test.flatten()) / float(len(y_test))))\n",
    "\n",
    "k = 5\n",
    "y_pred_top_k = y_pred.argsort()[:,-k:]\n",
    "print(\"Top %d accuracy: %f\" % (k, acc(y_pred_top_k, y_test.flatten())))"
   ]
  },
  {
   "cell_type": "code",
   "execution_count": null,
   "metadata": {},
   "outputs": [],
   "source": [
    "model.summary()"
   ]
  },
  {
   "cell_type": "code",
   "execution_count": null,
   "metadata": {},
   "outputs": [],
   "source": [
    "layer_name = 'max_pooling2d_5'\n",
    "feat_extractor_model = Model(inputs= model.input, outputs = model.get_layer(layer_name).output)"
   ]
  },
  {
   "cell_type": "code",
   "execution_count": null,
   "metadata": {},
   "outputs": [],
   "source": [
    "train_feat = feat_extractor_model.predict(x_train)\n",
    "print(\"train features:\", train_feat.shape)\n",
    "test_feat = feat_extractor_model.predict(x_test)\n",
    "print(\"test features:\", test_feat.shape)"
   ]
  },
  {
   "cell_type": "code",
   "execution_count": null,
   "metadata": {},
   "outputs": [],
   "source": [
    "np.save(\"vgg_16/train_x\", train_feat)\n",
    "np.save(\"vgg_16/train_y\", y_train)\n",
    "np.save(\"vgg_16/test_x\", test_feat)\n",
    "np.save(\"vgg_16/test_y\", y_test)"
   ]
  }
 ],
 "metadata": {
  "kernelspec": {
   "display_name": "Python 3",
   "language": "python",
   "name": "python3"
  },
  "language_info": {
   "codemirror_mode": {
    "name": "ipython",
    "version": 3
   },
   "file_extension": ".py",
   "mimetype": "text/x-python",
   "name": "python",
   "nbconvert_exporter": "python",
   "pygments_lexer": "ipython3",
   "version": "3.5.2"
  }
 },
 "nbformat": 4,
 "nbformat_minor": 2
}
