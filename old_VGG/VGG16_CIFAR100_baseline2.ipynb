{
 "cells": [
  {
   "cell_type": "code",
   "execution_count": 1,
   "metadata": {},
   "outputs": [
    {
     "name": "stderr",
     "output_type": "stream",
     "text": [
      "Using TensorFlow backend.\n"
     ]
    }
   ],
   "source": [
    "# Load pretrained model, and generate new transformed dataset by passing images through pretrained model \n",
    "import os\n",
    "import numpy as np\n",
    "from keras.preprocessing.image import ImageDataGenerator\n",
    "from keras.applications import VGG16\n",
    "from keras.datasets import cifar100\n",
    "from keras.models import Sequential, Model, load_model\n",
    "from keras.layers import Dense, Dropout, Activation, Flatten, BatchNormalization\n",
    "from keras.callbacks import ModelCheckpoint, EarlyStopping\n",
    "from keras.utils import to_categorical"
   ]
  },
  {
   "cell_type": "code",
   "execution_count": 2,
   "metadata": {},
   "outputs": [],
   "source": [
    "num_classes = 100"
   ]
  },
  {
   "cell_type": "code",
   "execution_count": 3,
   "metadata": {},
   "outputs": [],
   "source": [
    "x_train = np.load(\"vgg_16/train_x.npy\")\n",
    "y_train = np.load(\"vgg_16/train_y.npy\")\n",
    "x_test = np.load(\"vgg_16/test_x.npy\")\n",
    "y_test = np.load(\"vgg_16/test_y.npy\")\n",
    "\n",
    "y_train = to_categorical(y_train, num_classes)\n",
    "y_test = to_categorical(y_test, num_classes)"
   ]
  },
  {
   "cell_type": "code",
   "execution_count": 4,
   "metadata": {},
   "outputs": [],
   "source": [
    "top_model = Sequential()\n",
    "\n",
    "top_model.add(Flatten(input_shape=x_train[0].shape))\n",
    "\n",
    "top_model.add(Dense(512, activation='relu'))\n",
    "top_model.add(BatchNormalization())\n",
    "top_model.add(Dense(512, activation='relu'))\n",
    "top_model.add(BatchNormalization())\n",
    "top_model.add(Dense(100, activation='softmax'))\n",
    "for layer in top_model.layers:\n",
    "    layer.trainable = True \n",
    "\n",
    "top_model.compile(optimizer='adam', loss='categorical_crossentropy', metrics=['accuracy'])"
   ]
  },
  {
   "cell_type": "code",
   "execution_count": 5,
   "metadata": {
    "scrolled": true
   },
   "outputs": [
    {
     "name": "stdout",
     "output_type": "stream",
     "text": [
      "Train on 50000 samples, validate on 10000 samples\n",
      "Epoch 1/25\n",
      "50000/50000 [==============================] - 12s 241us/step - loss: 3.2043 - acc: 0.2341 - val_loss: 2.8347 - val_acc: 0.2977\n",
      "Epoch 2/25\n",
      "50000/50000 [==============================] - 11s 216us/step - loss: 2.7557 - acc: 0.3101 - val_loss: 2.7308 - val_acc: 0.3165\n",
      "Epoch 3/25\n",
      "50000/50000 [==============================] - 11s 217us/step - loss: 2.5849 - acc: 0.3379 - val_loss: 2.6773 - val_acc: 0.3334\n",
      "Epoch 4/25\n",
      "50000/50000 [==============================] - 11s 216us/step - loss: 2.4674 - acc: 0.3633 - val_loss: 2.6397 - val_acc: 0.3391\n",
      "Epoch 5/25\n",
      "50000/50000 [==============================] - 11s 217us/step - loss: 2.3565 - acc: 0.3875 - val_loss: 2.6511 - val_acc: 0.3455\n",
      "Epoch 6/25\n",
      "50000/50000 [==============================] - 11s 216us/step - loss: 2.2583 - acc: 0.4065 - val_loss: 2.6328 - val_acc: 0.3505\n",
      "Epoch 7/25\n",
      "50000/50000 [==============================] - 11s 218us/step - loss: 2.1703 - acc: 0.4272 - val_loss: 2.6348 - val_acc: 0.3551\n",
      "Epoch 8/25\n",
      "50000/50000 [==============================] - 11s 219us/step - loss: 2.0809 - acc: 0.4438 - val_loss: 2.6172 - val_acc: 0.3669\n",
      "Epoch 9/25\n",
      "50000/50000 [==============================] - 11s 217us/step - loss: 2.0013 - acc: 0.4610 - val_loss: 2.6791 - val_acc: 0.3588\n",
      "Epoch 10/25\n",
      "50000/50000 [==============================] - 11s 221us/step - loss: 1.9235 - acc: 0.4785 - val_loss: 2.6685 - val_acc: 0.3596\n",
      "Epoch 11/25\n",
      "50000/50000 [==============================] - 11s 220us/step - loss: 1.8515 - acc: 0.4954 - val_loss: 2.6892 - val_acc: 0.3666\n",
      "Epoch 12/25\n",
      "50000/50000 [==============================] - 11s 220us/step - loss: 1.7811 - acc: 0.5087 - val_loss: 2.8141 - val_acc: 0.3566\n",
      "Epoch 13/25\n",
      "50000/50000 [==============================] - 11s 219us/step - loss: 1.7196 - acc: 0.5266 - val_loss: 2.8050 - val_acc: 0.3504\n",
      "Epoch 14/25\n",
      "50000/50000 [==============================] - 11s 219us/step - loss: 1.6540 - acc: 0.5405 - val_loss: 2.8170 - val_acc: 0.3587\n",
      "Epoch 15/25\n",
      "50000/50000 [==============================] - 11s 220us/step - loss: 1.5982 - acc: 0.5515 - val_loss: 2.8764 - val_acc: 0.3550\n",
      "Epoch 16/25\n",
      "50000/50000 [==============================] - 12s 230us/step - loss: 1.5401 - acc: 0.5669 - val_loss: 2.8943 - val_acc: 0.3451\n",
      "Epoch 17/25\n",
      "50000/50000 [==============================] - 11s 223us/step - loss: 1.4843 - acc: 0.5820 - val_loss: 2.9508 - val_acc: 0.3572\n",
      "Epoch 18/25\n",
      "50000/50000 [==============================] - 11s 221us/step - loss: 1.4357 - acc: 0.5920 - val_loss: 2.9775 - val_acc: 0.3540\n",
      "Epoch 19/25\n",
      "50000/50000 [==============================] - 11s 222us/step - loss: 1.3830 - acc: 0.6077 - val_loss: 3.0410 - val_acc: 0.3548\n",
      "Epoch 20/25\n",
      "50000/50000 [==============================] - 11s 220us/step - loss: 1.3308 - acc: 0.6200 - val_loss: 3.0777 - val_acc: 0.3529\n",
      "Epoch 21/25\n",
      "50000/50000 [==============================] - 11s 216us/step - loss: 1.2918 - acc: 0.6276 - val_loss: 3.1625 - val_acc: 0.3492\n",
      "Epoch 22/25\n",
      "50000/50000 [==============================] - 11s 218us/step - loss: 1.2595 - acc: 0.6353 - val_loss: 3.1621 - val_acc: 0.3488\n",
      "Epoch 23/25\n",
      "50000/50000 [==============================] - 11s 220us/step - loss: 1.2116 - acc: 0.6480 - val_loss: 3.2728 - val_acc: 0.3490\n",
      "Epoch 24/25\n",
      "50000/50000 [==============================] - 11s 217us/step - loss: 1.1785 - acc: 0.6537 - val_loss: 3.2653 - val_acc: 0.3543\n",
      "Epoch 25/25\n",
      "50000/50000 [==============================] - 11s 217us/step - loss: 1.1370 - acc: 0.6671 - val_loss: 3.3708 - val_acc: 0.3506\n"
     ]
    },
    {
     "data": {
      "text/plain": [
       "<keras.callbacks.History at 0x7fcdec26e1d0>"
      ]
     },
     "execution_count": 5,
     "metadata": {},
     "output_type": "execute_result"
    }
   ],
   "source": [
    "batch_size = 32\n",
    "epochs = 25\n",
    "\n",
    "top_model.fit(x=x_train, y=y_train,\n",
    "              batch_size=batch_size, epochs=epochs, \n",
    "              validation_data=(x_test, y_test))"
   ]
  }
 ],
 "metadata": {
  "kernelspec": {
   "display_name": "Python 3",
   "language": "python",
   "name": "python3"
  },
  "language_info": {
   "codemirror_mode": {
    "name": "ipython",
    "version": 3
   },
   "file_extension": ".py",
   "mimetype": "text/x-python",
   "name": "python",
   "nbconvert_exporter": "python",
   "pygments_lexer": "ipython3",
   "version": "3.5.2"
  }
 },
 "nbformat": 4,
 "nbformat_minor": 2
}
