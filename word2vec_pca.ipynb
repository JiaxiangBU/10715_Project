{
 "cells": [
  {
   "cell_type": "code",
   "execution_count": 22,
   "metadata": {
    "collapsed": true
   },
   "outputs": [],
   "source": [
    "import pickle\n",
    "from sklearn.decomposition import PCA\n",
    "import matplotlib.pyplot as plt\n",
    "import numpy as np"
   ]
  },
  {
   "cell_type": "code",
   "execution_count": 23,
   "metadata": {
    "collapsed": true
   },
   "outputs": [],
   "source": [
    "embeddings = pickle.load(open(\"Data/Embeddings/CIFAR/CIFAR_100_word_to_embedding_google_news.pk\", 'rb'), encoding='latin1')"
   ]
  },
  {
   "cell_type": "code",
   "execution_count": 24,
   "metadata": {},
   "outputs": [
    {
     "name": "stdout",
     "output_type": "stream",
     "text": [
      "[ 0.89942163  0.6076172 ]\n"
     ]
    }
   ],
   "source": [
    "labels = embeddings.keys()\n",
    "X = np.array([embeddings[label] for label in labels])\n",
    "pca = PCA(n_components=2)\n",
    "X_r = pca.fit(X).transform(X)\n",
    "pca_embeddings = {}\n",
    "for i, label in enumerate(labels):\n",
    "    pca_embeddings[label] = X_r[i, :]\n",
    "print(pca.explained_variance_)    "
   ]
  },
  {
   "cell_type": "code",
   "execution_count": 25,
   "metadata": {
    "collapsed": true
   },
   "outputs": [],
   "source": [
    "superclasses = {\n",
    "    \"aquatic mammals\":[\"beaver\", \"dolphin\", \"otter\", \"seal\", \"whale\"],\n",
    "    \"fish\": [\"aquarium fish\", \"flatfish\", \"ray\", \"shark\", \"trout\"],\n",
    "    \"flowers\": [\"orchids\", \"poppies\", \"roses\", \"sunflowers\", \"tulips\"],\n",
    "    \"food containers\": [\"bottles\", \"bowls\", \"cans\", \"cups\", \"plates\"],\n",
    "    \"fruit and vegetables\": [\"apples\", \"mushrooms\", \"oranges\", \"pears\", \"peppers\"],\n",
    "    \"household electrical devices\": [\"clock\", \"keyboard\", \"lamp\", \"telephone\", \"television\"],\n",
    "    \"household furniture\": [\"bed\", \"chair\", \"couch\", \"table\", \"wardrobe\"],\n",
    "    \"insects\": [\"bee\", \"beetle\", \"butterfly\", \"caterpillar\", \"cockroach\"],\n",
    "    \"large carnivores\": [\"bear\", \"leopard\", \"lion\", \"tiger\", \"wolf\"],\n",
    "    \"large man-made outdoor things\": [\"bridge\", \"castle\", \"house\", \"road\", \"skyscraper\"],\n",
    "    \"large natural outdoor scenes\": [\"cloud\", \"forest\", \"mountain\", \"plain\", \"sea\"],\n",
    "    \"large omnivores and herbivores\": [\"camel\", \"cattle\", \"chimpanzee\", \"elephant\", \"kangaroo\"],\n",
    "    \"medium-sized mammals\": [\"fox\", \"porcupine\", \"possum\", \"raccoon\", \"skunk\"],\n",
    "    \"non-insect invertebrates\": [\"crab\", \"lobster\", \"snail\", \"spider\", \"worm\"],\n",
    "    \"people\": [\"baby\", \"boy\", \"girl\", \"man\", \"woman\"],\n",
    "    \"reptiles\": [\"crocodile\", \"dinosaur\", \"lizard\", \"snake\", \"turtle\"],\n",
    "    \"small mammals\": [\"hamster\", \"mouse\", \"rabbit\", \"shrew\", \"squirrel\"],\n",
    "    \"trees\": [\"maple\", \"oak\", \"palm\", \"pine\", \"willow\"],\n",
    "    \"vehicles 1\": [\"bicycle\", \"bus\", \"motorcycle\", \"pickup_truck\", \"train\"],\n",
    "    \"vehicles 2\": [\"lawn_mower\", \"rocket\", \"streetcar\", \"tank\", \"tractor\"]\n",
    "}\n",
    "super_class_labels = []\n",
    "sc_data = {}\n",
    "for superclass in superclasses.keys():\n",
    "    sc_data[superclass] = []\n",
    "    for label in superclasses[superclass]:\n",
    "        sc_data[superclass].append(pca_embeddings[label])"
   ]
  },
  {
   "cell_type": "code",
   "execution_count": 26,
   "metadata": {
    "collapsed": true
   },
   "outputs": [],
   "source": [
    "to_include = [\n",
    "         #'aquatic mammals', \n",
    "           #'fish', \n",
    "           #'flowers', \n",
    "           'food containers', \n",
    "           #'fruit and vegetables', \n",
    "           #'household electrical devices', \n",
    "           #'household furniture', \n",
    "           #'insects', \n",
    "           'large carnivores', \n",
    "           #'large man-made outdoor things', \n",
    "           #'large natural outdoor scenes', \n",
    "           #'large omnivores and herbivores', \n",
    "           'medium-sized mammals', \n",
    "           #'non-insect invertebrates', \n",
    "           #'people', \n",
    "           'reptiles', \n",
    "           'small mammals', \n",
    "           'trees', \n",
    "           'vehicles 1', \n",
    "           'vehicles 2'\n",
    "          ]"
   ]
  },
  {
   "cell_type": "code",
   "execution_count": 27,
   "metadata": {},
   "outputs": [
    {
     "data": {
      "image/png": "[encoded data removed]",
      "text/plain": [
       "<matplotlib.figure.Figure at 0x110adb0b8>"
      ]
     },
     "metadata": {},
     "output_type": "display_data"
    }
   ],
   "source": [
    "#print(sc_data)\n",
    "# Create plot\n",
    "fig = plt.figure()\n",
    "ax = fig.add_subplot(1, 1, 1, facecolor=\"1.0\")\n",
    "for sc in sc_data:\n",
    "    if not sc in to_include:\n",
    "        continue\n",
    "    sc_data[sc] = np.array(sc_data[sc])\n",
    "    x = sc_data[sc][:, 0]\n",
    "    y = sc_data[sc][:, 1]\n",
    "    ax.scatter(x, y, alpha=0.8, edgecolors='none', s=30, label=sc)\n",
    " \n",
    "plt.title('Word2Vec PCA Visualization')\n",
    "plt.legend(loc=9, bbox_to_anchor=(1.3, 1.0))\n",
    "plt.show()"
   ]
  },
  {
   "cell_type": "code",
   "execution_count": 28,
   "metadata": {},
   "outputs": [
    {
     "name": "stdout",
     "output_type": "stream",
     "text": [
      "dict_keys(['aquatic mammals', 'fish', 'flowers', 'food containers', 'fruit and vegetables', 'household electrical devices', 'household furniture', 'insects', 'large carnivores', 'large man-made outdoor things', 'large natural outdoor scenes', 'large omnivores and herbivores', 'medium-sized mammals', 'non-insect invertebrates', 'people', 'reptiles', 'small mammals', 'trees', 'vehicles 1', 'vehicles 2'])\n"
     ]
    }
   ],
   "source": [
    "print(sc_data.keys())"
   ]
  }
 ],
 "metadata": {
  "kernelspec": {
   "display_name": "Python 3",
   "language": "python",
   "name": "python3"
  },
  "language_info": {
   "codemirror_mode": {
    "name": "ipython",
    "version": 3
   },
   "file_extension": ".py",
   "mimetype": "text/x-python",
   "name": "python",
   "nbconvert_exporter": "python",
   "pygments_lexer": "ipython3",
   "version": "3.6.4"
  }
 },
 "nbformat": 4,
 "nbformat_minor": 2
}
